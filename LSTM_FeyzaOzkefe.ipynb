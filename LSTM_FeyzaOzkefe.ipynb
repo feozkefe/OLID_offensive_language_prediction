{
 "cells": [
  {
   "cell_type": "markdown",
   "metadata": {},
   "source": [
    "### OLID (Offensive Language Identification Dataset)\n",
    "### Predicting the Type and Target of Offensive Posts in Social Media"
   ]
  },
  {
   "cell_type": "markdown",
   "metadata": {},
   "source": [
    "Feyza Özkefe 20comp5008"
   ]
  },
  {
   "cell_type": "markdown",
   "metadata": {},
   "source": [
    "### Import Libraries"
   ]
  },
  {
   "cell_type": "code",
   "execution_count": 16,
   "metadata": {
    "execution": {
     "iopub.execute_input": "2021-06-20T11:41:46.597427Z",
     "iopub.status.busy": "2021-06-20T11:41:46.596878Z",
     "iopub.status.idle": "2021-06-20T11:41:46.606140Z",
     "shell.execute_reply": "2021-06-20T11:41:46.605325Z",
     "shell.execute_reply.started": "2021-06-20T11:41:46.597392Z"
    }
   },
   "outputs": [],
   "source": [
    "import pandas as pd\n",
    "import string\n",
    "import numpy as np\n",
    "import seaborn as sns\n",
    "import matplotlib.pyplot as plt\n",
    "\n",
    "from sklearn.preprocessing import LabelEncoder\n",
    "from sklearn.pipeline import Pipeline\n",
    "from sklearn.metrics import precision_recall_fscore_support, accuracy_score, confusion_matrix,classification_report\n",
    "from sklearn import metrics\n",
    "from sklearn.model_selection import train_test_split\n",
    "from sklearn.preprocessing import scale,StandardScaler\n",
    "from keras.preprocessing.sequence import pad_sequences\n",
    "from sklearn.feature_extraction.text import TfidfVectorizer,TfidfTransformer,CountVectorizer\n",
    "from keras.layers import LSTM, Activation, Dense, Dropout, Input, Embedding\n",
    "from keras.preprocessing.text import Tokenizer\n",
    "from keras.callbacks import EarlyStopping\n",
    "from keras.preprocessing import sequence\n",
    "from keras.optimizers import RMSprop\n",
    "from keras.models import Model\n",
    "import tensorflow as tf\n",
    "\n",
    "from warnings import filterwarnings\n",
    "filterwarnings(\"ignore\")"
   ]
  },
  {
   "cell_type": "markdown",
   "metadata": {},
   "source": [
    "### Load the Data"
   ]
  },
  {
   "cell_type": "code",
   "execution_count": 17,
   "metadata": {
    "execution": {
     "iopub.execute_input": "2021-06-20T11:41:46.608372Z",
     "iopub.status.busy": "2021-06-20T11:41:46.607798Z",
     "iopub.status.idle": "2021-06-20T11:41:46.669881Z",
     "shell.execute_reply": "2021-06-20T11:41:46.669030Z",
     "shell.execute_reply.started": "2021-06-20T11:41:46.608338Z"
    }
   },
   "outputs": [
    {
     "name": "stdout",
     "output_type": "stream",
     "text": [
      "          id                                              tweet subtask_a  \\\n",
      "0      86426  @USER She should ask a few native Americans wh...       OFF   \n",
      "1      90194  @USER @USER Go home you’re drunk!!! @USER #MAG...       OFF   \n",
      "2      16820  Amazon is investigating Chinese employees who ...       NOT   \n",
      "3      62688  @USER Someone should'veTaken\" this piece of sh...       OFF   \n",
      "4      43605  @USER @USER Obama wanted liberals &amp; illega...       NOT   \n",
      "...      ...                                                ...       ...   \n",
      "13235  95338  @USER Sometimes I get strong vibes from people...       OFF   \n",
      "13236  67210  Benidorm ✅  Creamfields ✅  Maga ✅   Not too sh...       NOT   \n",
      "13237  82921  @USER And why report this garbage.  We don't g...       OFF   \n",
      "13238  27429                                        @USER Pussy       OFF   \n",
      "13239  46552  #Spanishrevenge vs. #justice #HumanRights and ...       NOT   \n",
      "\n",
      "      subtask_b subtask_c  \n",
      "0           UNT       NaN  \n",
      "1           TIN       IND  \n",
      "2           NaN       NaN  \n",
      "3           UNT       NaN  \n",
      "4           NaN       NaN  \n",
      "...         ...       ...  \n",
      "13235       TIN       IND  \n",
      "13236       NaN       NaN  \n",
      "13237       TIN       OTH  \n",
      "13238       UNT       NaN  \n",
      "13239       NaN       NaN  \n",
      "\n",
      "[13240 rows x 5 columns]\n"
     ]
    }
   ],
   "source": [
    "train_data=pd.read_csv('data/olid-training-v1.0.tsv', delimiter='\\t', encoding='utf-8')\n",
    "\n",
    "train_tweets = train_data[['tweet']] #Extract tweets\n",
    "train_task_a_labels= train_data[['subtask_a']] #Extract subtsak_a labels\n",
    "train_task_b_labels= train_data[['subtask_b']] #Extract subtsak_b labels\n",
    "train_task_c_labels= train_data[['subtask_c']] #Extract subtsak_c labels\n",
    "\n",
    "train_task_a_labels.columns.values[0] = 'class_a' #Rename class attribute\n",
    "train_task_b_labels.columns.values[0] = 'class_b' #Rename class attribute\n",
    "train_task_c_labels.columns.values[0] = 'class_c' #Rename class attribute\n",
    "\n",
    "print(train_data)"
   ]
  },
  {
   "cell_type": "markdown",
   "metadata": {},
   "source": [
    "### Text Preprocessing"
   ]
  },
  {
   "cell_type": "code",
   "execution_count": 18,
   "metadata": {
    "execution": {
     "iopub.execute_input": "2021-06-20T11:41:46.671649Z",
     "iopub.status.busy": "2021-06-20T11:41:46.671301Z",
     "iopub.status.idle": "2021-06-20T11:41:46.680578Z",
     "shell.execute_reply": "2021-06-20T11:41:46.679603Z",
     "shell.execute_reply.started": "2021-06-20T11:41:46.671614Z"
    }
   },
   "outputs": [],
   "source": [
    "def clean_tweets(df):\n",
    "    \n",
    "    punctuations = string.punctuation\n",
    "    \n",
    "    df.loc[:, 'tweet'] = df.tweet.str.replace('@USER', '') #Remove mentions (@USER)\n",
    "    df.loc[:, 'tweet'] = df.tweet.str.replace('URL', '') #Remove URLs\n",
    "    df.loc[:, 'tweet'] = df.tweet.str.replace('&amp', 'and') #Replace ampersand (&) with and\n",
    "    df.loc[:, 'tweet'] = df.tweet.str.replace('&lt','') #Remove &lt\n",
    "    df.loc[:, 'tweet'] = df.tweet.str.replace('&gt','') #Remove &gt\n",
    "    df.loc[:, 'tweet'] = df.tweet.str.replace('\\d+','') #Remove numbers\n",
    "    df.loc[:, 'tweet'] = df.tweet.str.lower() #Lowercase\n",
    "\n",
    "    #Remove punctuations\n",
    "    for punctuation in punctuations:\n",
    "        df.loc[:, 'tweet'] = df.tweet.str.replace(punctuation, '')\n",
    "\n",
    "    df.loc[:, 'tweet'] = df.astype(str).apply(\n",
    "        lambda x: x.str.encode('ascii', 'ignore').str.decode('ascii')\n",
    "    )\n",
    "    #Remove emojis\n",
    "    df.loc[:, 'tweet'] = df.tweet.str.strip() #Trim leading and trailing whitespaces"
   ]
  },
  {
   "cell_type": "code",
   "execution_count": 19,
   "metadata": {
    "execution": {
     "iopub.execute_input": "2021-06-20T11:41:46.683023Z",
     "iopub.status.busy": "2021-06-20T11:41:46.682642Z",
     "iopub.status.idle": "2021-06-20T11:41:47.145079Z",
     "shell.execute_reply": "2021-06-20T11:41:47.144252Z",
     "shell.execute_reply.started": "2021-06-20T11:41:46.682986Z"
    }
   },
   "outputs": [],
   "source": [
    "clean_tweets(train_tweets)"
   ]
  },
  {
   "cell_type": "code",
   "execution_count": 20,
   "metadata": {
    "execution": {
     "iopub.execute_input": "2021-06-20T11:41:47.146962Z",
     "iopub.status.busy": "2021-06-20T11:41:47.146606Z",
     "iopub.status.idle": "2021-06-20T11:41:47.182532Z",
     "shell.execute_reply": "2021-06-20T11:41:47.181789Z",
     "shell.execute_reply.started": "2021-06-20T11:41:47.146925Z"
    }
   },
   "outputs": [],
   "source": [
    "train_task_a_data = train_tweets.join(train_task_a_labels)\n",
    "\n",
    "train_task_b_data = train_tweets.join(train_task_b_labels)\n",
    "train_task_b_data = train_task_b_data.dropna() #Drop records with missing values\n",
    "\n",
    "train_task_c_data = train_tweets.join(train_task_c_labels)\n",
    "train_task_c_data = train_task_c_data.dropna() #Drop records with missing values\n",
    "\n",
    "#Apply quotes to cleaned tweets\n",
    "train_task_a_data.update(train_task_a_data[['tweet']].applymap('\\'{}\\''.format))\n",
    "train_task_b_data.update(train_task_b_data[['tweet']].applymap('\\'{}\\''.format))\n",
    "train_task_c_data.update(train_task_c_data[['tweet']].applymap('\\'{}\\''.format))"
   ]
  },
  {
   "cell_type": "code",
   "execution_count": 21,
   "metadata": {
    "execution": {
     "iopub.execute_input": "2021-06-20T11:41:47.184048Z",
     "iopub.status.busy": "2021-06-20T11:41:47.183715Z",
     "iopub.status.idle": "2021-06-20T11:41:47.192347Z",
     "shell.execute_reply": "2021-06-20T11:41:47.191577Z",
     "shell.execute_reply.started": "2021-06-20T11:41:47.184013Z"
    }
   },
   "outputs": [
    {
     "data": {
      "text/html": [
       "<div>\n",
       "<style scoped>\n",
       "    .dataframe tbody tr th:only-of-type {\n",
       "        vertical-align: middle;\n",
       "    }\n",
       "\n",
       "    .dataframe tbody tr th {\n",
       "        vertical-align: top;\n",
       "    }\n",
       "\n",
       "    .dataframe thead th {\n",
       "        text-align: right;\n",
       "    }\n",
       "</style>\n",
       "<table border=\"1\" class=\"dataframe\">\n",
       "  <thead>\n",
       "    <tr style=\"text-align: right;\">\n",
       "      <th></th>\n",
       "      <th>tweet</th>\n",
       "      <th>class_a</th>\n",
       "    </tr>\n",
       "  </thead>\n",
       "  <tbody>\n",
       "    <tr>\n",
       "      <th>0</th>\n",
       "      <td>'she should ask a few native americans what th...</td>\n",
       "      <td>OFF</td>\n",
       "    </tr>\n",
       "    <tr>\n",
       "      <th>1</th>\n",
       "      <td>'go home youre drunk  maga trump'</td>\n",
       "      <td>OFF</td>\n",
       "    </tr>\n",
       "    <tr>\n",
       "      <th>2</th>\n",
       "      <td>'amazon is investigating chinese employees who...</td>\n",
       "      <td>NOT</td>\n",
       "    </tr>\n",
       "    <tr>\n",
       "      <th>3</th>\n",
       "      <td>'someone shouldvetaken this piece of shit to a...</td>\n",
       "      <td>OFF</td>\n",
       "    </tr>\n",
       "    <tr>\n",
       "      <th>4</th>\n",
       "      <td>'obama wanted liberals and illegals to move in...</td>\n",
       "      <td>NOT</td>\n",
       "    </tr>\n",
       "  </tbody>\n",
       "</table>\n",
       "</div>"
      ],
      "text/plain": [
       "                                               tweet class_a\n",
       "0  'she should ask a few native americans what th...     OFF\n",
       "1                  'go home youre drunk  maga trump'     OFF\n",
       "2  'amazon is investigating chinese employees who...     NOT\n",
       "3  'someone shouldvetaken this piece of shit to a...     OFF\n",
       "4  'obama wanted liberals and illegals to move in...     NOT"
      ]
     },
     "execution_count": 21,
     "metadata": {},
     "output_type": "execute_result"
    }
   ],
   "source": [
    "train_task_a_data.head()"
   ]
  },
  {
   "cell_type": "code",
   "execution_count": 22,
   "metadata": {
    "execution": {
     "iopub.execute_input": "2021-06-20T11:41:47.194444Z",
     "iopub.status.busy": "2021-06-20T11:41:47.193780Z",
     "iopub.status.idle": "2021-06-20T11:41:47.345517Z",
     "shell.execute_reply": "2021-06-20T11:41:47.344486Z",
     "shell.execute_reply.started": "2021-06-20T11:41:47.194407Z"
    }
   },
   "outputs": [
    {
     "data": {
      "text/html": [
       "<div>\n",
       "<style scoped>\n",
       "    .dataframe tbody tr th:only-of-type {\n",
       "        vertical-align: middle;\n",
       "    }\n",
       "\n",
       "    .dataframe tbody tr th {\n",
       "        vertical-align: top;\n",
       "    }\n",
       "\n",
       "    .dataframe thead th {\n",
       "        text-align: right;\n",
       "    }\n",
       "</style>\n",
       "<table border=\"1\" class=\"dataframe\">\n",
       "  <thead>\n",
       "    <tr style=\"text-align: right;\">\n",
       "      <th></th>\n",
       "      <th>tweet</th>\n",
       "      <th>class_a</th>\n",
       "    </tr>\n",
       "  </thead>\n",
       "  <tbody>\n",
       "    <tr>\n",
       "      <th>0</th>\n",
       "      <td>'whoisq wherestheserver dumpnike declasfisa de...</td>\n",
       "      <td>OFF</td>\n",
       "    </tr>\n",
       "    <tr>\n",
       "      <th>1</th>\n",
       "      <td>'constitutionday is revered by conservatives h...</td>\n",
       "      <td>NOT</td>\n",
       "    </tr>\n",
       "    <tr>\n",
       "      <th>2</th>\n",
       "      <td>'foxnews nra maga potus trump ndamendment rnc ...</td>\n",
       "      <td>NOT</td>\n",
       "    </tr>\n",
       "    <tr>\n",
       "      <th>3</th>\n",
       "      <td>'watching boomer getting the news that she is ...</td>\n",
       "      <td>NOT</td>\n",
       "    </tr>\n",
       "    <tr>\n",
       "      <th>4</th>\n",
       "      <td>'nopasaran unity demo to oppose the farright i...</td>\n",
       "      <td>OFF</td>\n",
       "    </tr>\n",
       "  </tbody>\n",
       "</table>\n",
       "</div>"
      ],
      "text/plain": [
       "                                               tweet class_a\n",
       "0  'whoisq wherestheserver dumpnike declasfisa de...     OFF\n",
       "1  'constitutionday is revered by conservatives h...     NOT\n",
       "2  'foxnews nra maga potus trump ndamendment rnc ...     NOT\n",
       "3  'watching boomer getting the news that she is ...     NOT\n",
       "4  'nopasaran unity demo to oppose the farright i...     OFF"
      ]
     },
     "execution_count": 22,
     "metadata": {},
     "output_type": "execute_result"
    }
   ],
   "source": [
    "#Read tweets from test sets\n",
    "test_tweet_a=pd.read_csv('data/testset-levela.tsv', delimiter='\\t', encoding='utf-8')\n",
    "test_tweet_b=pd.read_csv('data/testset-levelb.tsv', delimiter='\\t', encoding='utf-8')\n",
    "test_tweet_c=pd.read_csv('data/testset-levelc.tsv', delimiter='\\t', encoding='utf-8')\n",
    "\n",
    "#Read tweet labels\n",
    "test_label_a=pd.read_csv('data/labels-levela.csv', encoding='utf-8', \n",
    "                         index_col=False, names=['id', 'class_a'])\n",
    "test_label_b=pd.read_csv('data/labels-levelb.csv', encoding='utf-8', \n",
    "                         index_col=False, names=['id', 'class_b'])\n",
    "test_label_c=pd.read_csv('data/labels-levelc.csv', encoding='utf-8', \n",
    "                         index_col=False, names=['id', 'class_c'])\n",
    "\n",
    "#Merge tweets with labels by id\n",
    "test_tweet_a = test_tweet_a.merge(test_label_a, on='id')\n",
    "test_tweet_b = test_tweet_b.merge(test_label_b, on='id')\n",
    "test_tweet_c = test_tweet_c.merge(test_label_c, on='id')\n",
    "\n",
    "#Drop id column\n",
    "test_tweet_a = test_tweet_a.drop(columns='id')\n",
    "test_tweet_b = test_tweet_b.drop(columns='id')\n",
    "test_tweet_c = test_tweet_c.drop(columns='id')\n",
    "\n",
    "#Clean tweets in test sets\n",
    "clean_tweets(test_tweet_a)\n",
    "clean_tweets(test_tweet_b)\n",
    "clean_tweets(test_tweet_c)\n",
    "\n",
    "#Apply quotes to cleaned tweets\n",
    "test_tweet_a.update(test_tweet_a[['tweet']].applymap('\\'{}\\''.format))\n",
    "test_tweet_b.update(test_tweet_b[['tweet']].applymap('\\'{}\\''.format))\n",
    "test_tweet_c.update(test_tweet_c[['tweet']].applymap('\\'{}\\''.format))\n",
    "\n",
    "test_tweet_a.head()"
   ]
  },
  {
   "cell_type": "code",
   "execution_count": 23,
   "metadata": {
    "execution": {
     "iopub.execute_input": "2021-06-20T11:41:47.347208Z",
     "iopub.status.busy": "2021-06-20T11:41:47.346798Z",
     "iopub.status.idle": "2021-06-20T11:41:47.456959Z",
     "shell.execute_reply": "2021-06-20T11:41:47.456072Z",
     "shell.execute_reply.started": "2021-06-20T11:41:47.347168Z"
    }
   },
   "outputs": [
    {
     "data": {
      "image/png": "[encoded data removed]",
      "text/plain": [
       "<Figure size 432x288 with 1 Axes>"
      ]
     },
     "metadata": {
      "needs_background": "light"
     },
     "output_type": "display_data"
    }
   ],
   "source": [
    "def count_classes(df,task):\n",
    "    sns.countplot(df[task])\n",
    "    plt.title(\"Classes in dataset\")\n",
    "\n",
    "count_classes(train_task_a_data,\"class_a\")"
   ]
  },
  {
   "cell_type": "code",
   "execution_count": 24,
   "metadata": {
    "execution": {
     "iopub.execute_input": "2021-06-20T11:41:47.460125Z",
     "iopub.status.busy": "2021-06-20T11:41:47.459697Z",
     "iopub.status.idle": "2021-06-20T11:41:47.561504Z",
     "shell.execute_reply": "2021-06-20T11:41:47.560596Z",
     "shell.execute_reply.started": "2021-06-20T11:41:47.460096Z"
    }
   },
   "outputs": [
    {
     "data": {
      "image/png": "[encoded data removed]",
      "text/plain": [
       "<Figure size 432x288 with 1 Axes>"
      ]
     },
     "metadata": {
      "needs_background": "light"
     },
     "output_type": "display_data"
    }
   ],
   "source": [
    "count_classes(test_tweet_a,\"class_a\")"
   ]
  },
  {
   "cell_type": "markdown",
   "metadata": {},
   "source": [
    "### Bidirectional LSTM"
   ]
  },
  {
   "cell_type": "markdown",
   "metadata": {},
   "source": [
    "### TASK A"
   ]
  },
  {
   "cell_type": "code",
   "execution_count": 25,
   "metadata": {
    "execution": {
     "iopub.execute_input": "2021-06-20T11:41:47.563802Z",
     "iopub.status.busy": "2021-06-20T11:41:47.563450Z",
     "iopub.status.idle": "2021-06-20T11:41:47.574256Z",
     "shell.execute_reply": "2021-06-20T11:41:47.573426Z",
     "shell.execute_reply.started": "2021-06-20T11:41:47.563767Z"
    }
   },
   "outputs": [],
   "source": [
    "# Creating labelEncoder\n",
    "encoder = LabelEncoder()\n",
    "# Converting string labels into numbers.\n",
    "train_task_a_data[\"class_a_code\"] = encoder.fit_transform(train_task_a_data[\"class_a\"])\n",
    "test_tweet_a[\"class_a_code\"] = encoder.fit_transform(test_tweet_a[\"class_a\"])"
   ]
  },
  {
   "cell_type": "code",
   "execution_count": 26,
   "metadata": {
    "execution": {
     "iopub.execute_input": "2021-06-20T11:41:47.575921Z",
     "iopub.status.busy": "2021-06-20T11:41:47.575584Z",
     "iopub.status.idle": "2021-06-20T11:41:47.705134Z",
     "shell.execute_reply": "2021-06-20T11:41:47.704162Z",
     "shell.execute_reply.started": "2021-06-20T11:41:47.575886Z"
    }
   },
   "outputs": [
    {
     "data": {
      "text/plain": [
       "array([('OFF', 1), ('NOT', 0)], dtype=object)"
      ]
     },
     "execution_count": 26,
     "metadata": {},
     "output_type": "execute_result"
    }
   ],
   "source": [
    "#Create tuple pair for class and class code\n",
    "train_task_a_data['class-tuple'] = train_task_a_data[['class_a', 'class_a_code']].apply(tuple, axis=1)\n",
    "class_a = train_task_a_data['class-tuple'].unique()\n",
    "class_a"
   ]
  },
  {
   "cell_type": "code",
   "execution_count": 30,
   "metadata": {
    "execution": {
     "iopub.execute_input": "2021-06-20T11:51:27.785739Z",
     "iopub.status.busy": "2021-06-20T11:51:27.785393Z",
     "iopub.status.idle": "2021-06-20T11:51:27.793342Z",
     "shell.execute_reply": "2021-06-20T11:51:27.792470Z",
     "shell.execute_reply.started": "2021-06-20T11:51:27.785708Z"
    }
   },
   "outputs": [
    {
     "name": "stdout",
     "output_type": "stream",
     "text": [
      "Shape of train_tweet is (13240,) and shape of train_label is (13240,)\n",
      "Shape of test_tweet is (860,) and shape of test_label is (860,)\n"
     ]
    }
   ],
   "source": [
    "# Label the Data\n",
    "\n",
    "train_tweets = train_task_a_data['tweet']\n",
    "train_labels = train_task_a_data['class_a_code']\n",
    "\n",
    "X_test = test_tweet_a['tweet']\n",
    "y_test = test_tweet_a['class_a_code']\n",
    "\n",
    "\n",
    "print(\"Shape of train_tweet is {} and shape of train_label is {}\".format(train_tweet.shape, train_label.shape))\n",
    "print(\"Shape of test_tweet is {} and shape of test_label is {}\".format(X_test.shape, y_test.shape))"
   ]
  },
  {
   "cell_type": "code",
   "execution_count": 31,
   "metadata": {
    "execution": {
     "iopub.execute_input": "2021-06-20T11:51:28.133820Z",
     "iopub.status.busy": "2021-06-20T11:51:28.133450Z",
     "iopub.status.idle": "2021-06-20T11:51:28.144131Z",
     "shell.execute_reply": "2021-06-20T11:51:28.142961Z",
     "shell.execute_reply.started": "2021-06-20T11:51:28.133789Z"
    }
   },
   "outputs": [
    {
     "name": "stdout",
     "output_type": "stream",
     "text": [
      "Shape of test_tweets is (860,) and shape of test_labels is (860,)\n"
     ]
    }
   ],
   "source": [
    "X_train,X_val,y_train,y_val = train_test_split(train_tweets,train_labels,test_size=0.30,random_state=42)\n",
    "\n",
    "\n",
    "print(\"Shape of test_tweets is {} and shape of test_labels is {}\".format(X_test.shape, y_test.shape))"
   ]
  },
  {
   "cell_type": "code",
   "execution_count": 32,
   "metadata": {
    "execution": {
     "iopub.execute_input": "2021-06-20T11:51:31.077034Z",
     "iopub.status.busy": "2021-06-20T11:51:31.076712Z",
     "iopub.status.idle": "2021-06-20T11:51:31.288980Z",
     "shell.execute_reply": "2021-06-20T11:51:31.288106Z",
     "shell.execute_reply.started": "2021-06-20T11:51:31.077005Z"
    }
   },
   "outputs": [],
   "source": [
    "# TOKENIZER\n",
    "max_features = 10000\n",
    "embedding_dim = 128\n",
    "max_len=500\n",
    "\n",
    "tokenizer=Tokenizer(num_words=max_features,oov_token='</OOV>')\n",
    "tokenizer.fit_on_texts(X_train.values)\n",
    "dic=tokenizer.word_index\n",
    "#print(dic)"
   ]
  },
  {
   "cell_type": "code",
   "execution_count": 33,
   "metadata": {
    "execution": {
     "iopub.execute_input": "2021-06-20T11:51:31.746579Z",
     "iopub.status.busy": "2021-06-20T11:51:31.746244Z",
     "iopub.status.idle": "2021-06-20T11:51:31.981177Z",
     "shell.execute_reply": "2021-06-20T11:51:31.980306Z",
     "shell.execute_reply.started": "2021-06-20T11:51:31.746546Z"
    }
   },
   "outputs": [
    {
     "name": "stdout",
     "output_type": "stream",
     "text": [
      "train data tensor: (9268, 500)\n"
     ]
    }
   ],
   "source": [
    "# TRAIN\n",
    "X_train_seq = tokenizer.texts_to_sequences(X_train.values)\n",
    "X_train_pad = pad_sequences(X_train_seq, maxlen=max_len)\n",
    "\n",
    "print(\"train data tensor:\" ,X_train_pad.shape)"
   ]
  },
  {
   "cell_type": "code",
   "execution_count": 34,
   "metadata": {
    "execution": {
     "iopub.execute_input": "2021-06-20T11:51:32.416202Z",
     "iopub.status.busy": "2021-06-20T11:51:32.415878Z",
     "iopub.status.idle": "2021-06-20T11:51:32.524570Z",
     "shell.execute_reply": "2021-06-20T11:51:32.523382Z",
     "shell.execute_reply.started": "2021-06-20T11:51:32.416163Z"
    }
   },
   "outputs": [
    {
     "name": "stdout",
     "output_type": "stream",
     "text": [
      "test data tensor: (3972, 500)\n"
     ]
    }
   ],
   "source": [
    "# VAL\n",
    "X_val_seq = tokenizer.texts_to_sequences(X_val.values)\n",
    "X_val_pad = pad_sequences(X_val_seq, maxlen=max_len)\n",
    "\n",
    "print(\"test data tensor:\" ,X_val_pad.shape)"
   ]
  },
  {
   "cell_type": "code",
   "execution_count": 35,
   "metadata": {
    "execution": {
     "iopub.execute_input": "2021-06-20T11:51:32.991580Z",
     "iopub.status.busy": "2021-06-20T11:51:32.991248Z",
     "iopub.status.idle": "2021-06-20T11:51:33.035455Z",
     "shell.execute_reply": "2021-06-20T11:51:33.033675Z",
     "shell.execute_reply.started": "2021-06-20T11:51:32.991549Z"
    }
   },
   "outputs": [
    {
     "name": "stdout",
     "output_type": "stream",
     "text": [
      "test data tensor: (860, 500)\n"
     ]
    }
   ],
   "source": [
    "# TEST\n",
    "X_test_seq = tokenizer.texts_to_sequences(X_test.values)\n",
    "X_test_pad = pad_sequences(X_test_seq, maxlen=max_len)\n",
    "\n",
    "print(\"test data tensor:\" ,X_test_pad.shape)"
   ]
  },
  {
   "cell_type": "code",
   "execution_count": 36,
   "metadata": {
    "execution": {
     "iopub.execute_input": "2021-06-20T11:51:33.643722Z",
     "iopub.status.busy": "2021-06-20T11:51:33.643374Z",
     "iopub.status.idle": "2021-06-20T11:51:33.648531Z",
     "shell.execute_reply": "2021-06-20T11:51:33.647251Z",
     "shell.execute_reply.started": "2021-06-20T11:51:33.643693Z"
    }
   },
   "outputs": [],
   "source": [
    "from keras.models import Sequential\n",
    "from keras.layers import Embedding\n",
    "from keras.layers import Dense\n",
    "from keras.layers import LSTM\n",
    "from keras.layers import Dropout\n",
    "from keras.layers import Bidirectional"
   ]
  },
  {
   "cell_type": "code",
   "execution_count": 37,
   "metadata": {
    "execution": {
     "iopub.execute_input": "2021-06-20T11:51:34.176673Z",
     "iopub.status.busy": "2021-06-20T11:51:34.176338Z",
     "iopub.status.idle": "2021-06-20T11:51:36.682741Z",
     "shell.execute_reply": "2021-06-20T11:51:36.681907Z",
     "shell.execute_reply.started": "2021-06-20T11:51:34.176643Z"
    }
   },
   "outputs": [],
   "source": [
    "model= Sequential()\n",
    "model.add(Embedding(max_features,embedding_dim,input_length=max_len))\n",
    "model.add(Bidirectional(LSTM(128, dropout=0.3)))\n",
    "model.add(Dense(128,activation='relu'))\n",
    "model.add(Dropout(0.3))\n",
    "model.add(Dense(1,activation='sigmoid'))"
   ]
  },
  {
   "cell_type": "code",
   "execution_count": 38,
   "metadata": {
    "execution": {
     "iopub.execute_input": "2021-06-20T11:51:36.684450Z",
     "iopub.status.busy": "2021-06-20T11:51:36.684097Z",
     "iopub.status.idle": "2021-06-20T11:51:36.698225Z",
     "shell.execute_reply": "2021-06-20T11:51:36.697292Z",
     "shell.execute_reply.started": "2021-06-20T11:51:36.684413Z"
    }
   },
   "outputs": [
    {
     "name": "stdout",
     "output_type": "stream",
     "text": [
      "Model: \"sequential\"\n",
      "_________________________________________________________________\n",
      "Layer (type)                 Output Shape              Param #   \n",
      "=================================================================\n",
      "embedding (Embedding)        (None, 500, 128)          1280000   \n",
      "_________________________________________________________________\n",
      "bidirectional (Bidirectional (None, 256)               263168    \n",
      "_________________________________________________________________\n",
      "dense (Dense)                (None, 128)               32896     \n",
      "_________________________________________________________________\n",
      "dropout (Dropout)            (None, 128)               0         \n",
      "_________________________________________________________________\n",
      "dense_1 (Dense)              (None, 1)                 129       \n",
      "=================================================================\n",
      "Total params: 1,576,193\n",
      "Trainable params: 1,576,193\n",
      "Non-trainable params: 0\n",
      "_________________________________________________________________\n"
     ]
    }
   ],
   "source": [
    "model.summary()"
   ]
  },
  {
   "cell_type": "code",
   "execution_count": 39,
   "metadata": {
    "execution": {
     "iopub.execute_input": "2021-06-20T11:51:36.701405Z",
     "iopub.status.busy": "2021-06-20T11:51:36.701164Z",
     "iopub.status.idle": "2021-06-20T11:51:36.730429Z",
     "shell.execute_reply": "2021-06-20T11:51:36.729657Z",
     "shell.execute_reply.started": "2021-06-20T11:51:36.701382Z"
    }
   },
   "outputs": [],
   "source": [
    "import tensorflow as tf\n",
    "METRICS = [tf.keras.metrics.BinaryAccuracy(),\n",
    "        tf.keras.metrics.Precision(name=\"precision\"),\n",
    "        tf.keras.metrics.Recall(name=\"recall\")]\n",
    "\n",
    "\n",
    "model.compile(loss='binary_crossentropy',optimizer='adam',metrics=METRICS)"
   ]
  },
  {
   "cell_type": "code",
   "execution_count": 40,
   "metadata": {
    "execution": {
     "iopub.execute_input": "2021-06-20T11:51:36.732079Z",
     "iopub.status.busy": "2021-06-20T11:51:36.731752Z",
     "iopub.status.idle": "2021-06-20T11:55:10.675742Z",
     "shell.execute_reply": "2021-06-20T11:55:10.674959Z",
     "shell.execute_reply.started": "2021-06-20T11:51:36.732046Z"
    }
   },
   "outputs": [
    {
     "name": "stdout",
     "output_type": "stream",
     "text": [
      "Epoch 1/10\n",
      "290/290 [==============================] - 27s 75ms/step - loss: 0.6318 - binary_accuracy: 0.6717 - precision: 0.4231 - recall: 0.0521 - val_loss: 0.5693 - val_binary_accuracy: 0.7218 - val_precision: 0.8202 - val_recall: 0.2191\n",
      "Epoch 2/10\n",
      "290/290 [==============================] - 21s 72ms/step - loss: 0.4282 - binary_accuracy: 0.8125 - precision: 0.7723 - recall: 0.6105 - val_loss: 0.5597 - val_binary_accuracy: 0.7372 - val_precision: 0.6583 - val_recall: 0.4509\n",
      "Epoch 3/10\n",
      "290/290 [==============================] - 21s 71ms/step - loss: 0.2859 - binary_accuracy: 0.8873 - precision: 0.8534 - recall: 0.7968 - val_loss: 0.6847 - val_binary_accuracy: 0.7243 - val_precision: 0.6033 - val_recall: 0.5214\n",
      "Epoch 4/10\n",
      "290/290 [==============================] - 21s 72ms/step - loss: 0.1854 - binary_accuracy: 0.9267 - precision: 0.8937 - recall: 0.8829 - val_loss: 0.7948 - val_binary_accuracy: 0.7102 - val_precision: 0.5800 - val_recall: 0.4951\n",
      "Epoch 5/10\n",
      "290/290 [==============================] - 21s 71ms/step - loss: 0.1249 - binary_accuracy: 0.9549 - precision: 0.9431 - recall: 0.9197 - val_loss: 0.9437 - val_binary_accuracy: 0.7132 - val_precision: 0.5854 - val_recall: 0.4989\n",
      "Epoch 6/10\n",
      "290/290 [==============================] - 21s 72ms/step - loss: 0.0995 - binary_accuracy: 0.9645 - precision: 0.9536 - recall: 0.9381 - val_loss: 1.0470 - val_binary_accuracy: 0.6944 - val_precision: 0.5409 - val_recall: 0.5896\n",
      "Epoch 7/10\n",
      "290/290 [==============================] - 21s 72ms/step - loss: 0.0718 - binary_accuracy: 0.9757 - precision: 0.9656 - recall: 0.9619 - val_loss: 1.2079 - val_binary_accuracy: 0.7105 - val_precision: 0.5839 - val_recall: 0.4779\n",
      "Epoch 8/10\n",
      "290/290 [==============================] - 21s 71ms/step - loss: 0.0592 - binary_accuracy: 0.9810 - precision: 0.9729 - recall: 0.9684 - val_loss: 1.4535 - val_binary_accuracy: 0.6881 - val_precision: 0.5353 - val_recall: 0.5341\n",
      "Epoch 9/10\n",
      "290/290 [==============================] - 21s 72ms/step - loss: 0.0485 - binary_accuracy: 0.9830 - precision: 0.9770 - recall: 0.9716 - val_loss: 1.4357 - val_binary_accuracy: 0.6777 - val_precision: 0.5186 - val_recall: 0.5529\n",
      "Epoch 10/10\n",
      "290/290 [==============================] - 21s 72ms/step - loss: 0.0467 - binary_accuracy: 0.9814 - precision: 0.9782 - recall: 0.9655 - val_loss: 1.7806 - val_binary_accuracy: 0.7059 - val_precision: 0.5703 - val_recall: 0.5019\n"
     ]
    }
   ],
   "source": [
    "epochs = 10\n",
    "\n",
    "# Fit the model using the train and test datasets.\n",
    "history = model.fit(X_train_pad,y_train,validation_data=(X_val_pad,y_val), epochs=epochs)"
   ]
  },
  {
   "cell_type": "code",
   "execution_count": 41,
   "metadata": {
    "execution": {
     "iopub.execute_input": "2021-06-20T11:55:10.677634Z",
     "iopub.status.busy": "2021-06-20T11:55:10.677271Z",
     "iopub.status.idle": "2021-06-20T11:55:11.289908Z",
     "shell.execute_reply": "2021-06-20T11:55:11.288791Z",
     "shell.execute_reply.started": "2021-06-20T11:55:10.677594Z"
    }
   },
   "outputs": [
    {
     "name": "stdout",
     "output_type": "stream",
     "text": [
      "27/27 [==============================] - 1s 21ms/step - loss: 1.4498 - binary_accuracy: 0.7488 - precision: 0.5561 - recall: 0.4958\n",
      "{'loss': 1.4498342275619507, 'binary_accuracy': 0.7488372325897217, 'precision': 0.5560747385025024, 'recall': 0.4958333373069763}\n"
     ]
    }
   ],
   "source": [
    "scores = model.evaluate(X_test_pad, y_test, return_dict=True)\n",
    "\n",
    "print(scores)"
   ]
  },
  {
   "cell_type": "code",
   "execution_count": 42,
   "metadata": {
    "execution": {
     "iopub.execute_input": "2021-06-20T11:55:11.292233Z",
     "iopub.status.busy": "2021-06-20T11:55:11.291885Z",
     "iopub.status.idle": "2021-06-20T11:55:12.384275Z",
     "shell.execute_reply": "2021-06-20T11:55:12.383430Z",
     "shell.execute_reply.started": "2021-06-20T11:55:11.292186Z"
    }
   },
   "outputs": [],
   "source": [
    "y_pred = model.predict(X_test_pad)"
   ]
  },
  {
   "cell_type": "code",
   "execution_count": 43,
   "metadata": {
    "execution": {
     "iopub.execute_input": "2021-06-20T11:55:12.386443Z",
     "iopub.status.busy": "2021-06-20T11:55:12.386060Z",
     "iopub.status.idle": "2021-06-20T11:55:12.394281Z",
     "shell.execute_reply": "2021-06-20T11:55:12.393305Z",
     "shell.execute_reply.started": "2021-06-20T11:55:12.386407Z"
    }
   },
   "outputs": [],
   "source": [
    "for i in range(len(y_pred)):\n",
    "    if(y_pred[i] > 0.5):\n",
    "        y_pred[i] = 1\n",
    "    else:\n",
    "        y_pred[i] =0 "
   ]
  },
  {
   "cell_type": "code",
   "execution_count": 44,
   "metadata": {
    "execution": {
     "iopub.execute_input": "2021-06-20T11:55:12.396062Z",
     "iopub.status.busy": "2021-06-20T11:55:12.395593Z",
     "iopub.status.idle": "2021-06-20T11:55:12.412259Z",
     "shell.execute_reply": "2021-06-20T11:55:12.411186Z",
     "shell.execute_reply.started": "2021-06-20T11:55:12.396026Z"
    }
   },
   "outputs": [
    {
     "name": "stdout",
     "output_type": "stream",
     "text": [
      "              precision    recall  f1-score   support\n",
      "\n",
      "           0       0.81      0.85      0.83       620\n",
      "           1       0.56      0.50      0.52       240\n",
      "\n",
      "    accuracy                           0.75       860\n",
      "   macro avg       0.68      0.67      0.68       860\n",
      "weighted avg       0.74      0.75      0.74       860\n",
      "\n"
     ]
    }
   ],
   "source": [
    "print(classification_report(y_test,y_pred))"
   ]
  },
  {
   "cell_type": "code",
   "execution_count": 45,
   "metadata": {
    "execution": {
     "iopub.execute_input": "2021-06-20T11:55:12.414031Z",
     "iopub.status.busy": "2021-06-20T11:55:12.413699Z",
     "iopub.status.idle": "2021-06-20T11:55:12.705053Z",
     "shell.execute_reply": "2021-06-20T11:55:12.704265Z",
     "shell.execute_reply.started": "2021-06-20T11:55:12.413995Z"
    }
   },
   "outputs": [
    {
     "data": {
      "image/png": "[encoded data removed]",
      "text/plain": [
       "<Figure size 432x288 with 2 Axes>"
      ]
     },
     "metadata": {
      "needs_background": "light"
     },
     "output_type": "display_data"
    }
   ],
   "source": [
    "def plot_conf_matrix(test_label,predicted_label):\n",
    "    cm = confusion_matrix(test_label,predicted_label)\n",
    "    class_names=[0,1] # name  of classes\n",
    "    fig, ax = plt.subplots()\n",
    "    tick_marks = np.arange(len(class_names))\n",
    "    plt.xticks(tick_marks, class_names)\n",
    "    plt.yticks(tick_marks, class_names)\n",
    "    # create heatmap\n",
    "    sns.heatmap(pd.DataFrame(cm), annot=True, cmap=\"BuPu\" ,fmt='g')\n",
    "    ax.xaxis.set_label_position(\"top\")\n",
    "    plt.tight_layout()\n",
    "    plt.title('Confusion matrix', y=1.1)\n",
    "    plt.ylabel('Actual label')\n",
    "    plt.xlabel('Predicted label');\n",
    "\n",
    "plot_conf_matrix(y_test,y_pred)"
   ]
  },
  {
   "cell_type": "markdown",
   "metadata": {},
   "source": [
    "### TASK B"
   ]
  },
  {
   "cell_type": "code",
   "execution_count": 46,
   "metadata": {
    "execution": {
     "iopub.execute_input": "2021-06-20T11:55:12.706643Z",
     "iopub.status.busy": "2021-06-20T11:55:12.706292Z",
     "iopub.status.idle": "2021-06-20T11:55:12.722563Z",
     "shell.execute_reply": "2021-06-20T11:55:12.721512Z",
     "shell.execute_reply.started": "2021-06-20T11:55:12.706606Z"
    }
   },
   "outputs": [
    {
     "data": {
      "text/html": [
       "<div>\n",
       "<style scoped>\n",
       "    .dataframe tbody tr th:only-of-type {\n",
       "        vertical-align: middle;\n",
       "    }\n",
       "\n",
       "    .dataframe tbody tr th {\n",
       "        vertical-align: top;\n",
       "    }\n",
       "\n",
       "    .dataframe thead th {\n",
       "        text-align: right;\n",
       "    }\n",
       "</style>\n",
       "<table border=\"1\" class=\"dataframe\">\n",
       "  <thead>\n",
       "    <tr style=\"text-align: right;\">\n",
       "      <th></th>\n",
       "      <th>tweet</th>\n",
       "      <th>class_a</th>\n",
       "      <th>class_a_code</th>\n",
       "      <th>predicted</th>\n",
       "    </tr>\n",
       "  </thead>\n",
       "  <tbody>\n",
       "    <tr>\n",
       "      <th>0</th>\n",
       "      <td>'whoisq wherestheserver dumpnike declasfisa de...</td>\n",
       "      <td>OFF</td>\n",
       "      <td>1</td>\n",
       "      <td>1.0</td>\n",
       "    </tr>\n",
       "    <tr>\n",
       "      <th>2</th>\n",
       "      <td>'foxnews nra maga potus trump ndamendment rnc ...</td>\n",
       "      <td>NOT</td>\n",
       "      <td>0</td>\n",
       "      <td>1.0</td>\n",
       "    </tr>\n",
       "    <tr>\n",
       "      <th>5</th>\n",
       "      <td>'what the fuck did he do this time'</td>\n",
       "      <td>OFF</td>\n",
       "      <td>1</td>\n",
       "      <td>1.0</td>\n",
       "    </tr>\n",
       "    <tr>\n",
       "      <th>6</th>\n",
       "      <td>'rap is a form of art used to express yourself...</td>\n",
       "      <td>NOT</td>\n",
       "      <td>0</td>\n",
       "      <td>1.0</td>\n",
       "    </tr>\n",
       "    <tr>\n",
       "      <th>14</th>\n",
       "      <td>'nigga ware da hits at'</td>\n",
       "      <td>OFF</td>\n",
       "      <td>1</td>\n",
       "      <td>1.0</td>\n",
       "    </tr>\n",
       "  </tbody>\n",
       "</table>\n",
       "</div>"
      ],
      "text/plain": [
       "                                                tweet class_a  class_a_code  \\\n",
       "0   'whoisq wherestheserver dumpnike declasfisa de...     OFF             1   \n",
       "2   'foxnews nra maga potus trump ndamendment rnc ...     NOT             0   \n",
       "5                 'what the fuck did he do this time'     OFF             1   \n",
       "6   'rap is a form of art used to express yourself...     NOT             0   \n",
       "14                            'nigga ware da hits at'     OFF             1   \n",
       "\n",
       "    predicted  \n",
       "0         1.0  \n",
       "2         1.0  \n",
       "5         1.0  \n",
       "6         1.0  \n",
       "14        1.0  "
      ]
     },
     "execution_count": 46,
     "metadata": {},
     "output_type": "execute_result"
    }
   ],
   "source": [
    "# Our predicted OFF - offensive data\n",
    "df_pred = pd.DataFrame(data=y_pred,columns=[\"predicted\"])\n",
    "predicted_data = pd.concat([test_tweet_a, df_pred],axis=1)\n",
    "off_data = predicted_data[predicted_data.predicted ==1]\n",
    "off_data.head()"
   ]
  },
  {
   "cell_type": "code",
   "execution_count": 47,
   "metadata": {
    "execution": {
     "iopub.execute_input": "2021-06-20T11:55:12.727067Z",
     "iopub.status.busy": "2021-06-20T11:55:12.726619Z",
     "iopub.status.idle": "2021-06-20T11:55:12.746754Z",
     "shell.execute_reply": "2021-06-20T11:55:12.745867Z",
     "shell.execute_reply.started": "2021-06-20T11:55:12.727022Z"
    }
   },
   "outputs": [
    {
     "name": "stdout",
     "output_type": "stream",
     "text": [
      "(122, 2)\n"
     ]
    },
    {
     "data": {
      "text/html": [
       "<div>\n",
       "<style scoped>\n",
       "    .dataframe tbody tr th:only-of-type {\n",
       "        vertical-align: middle;\n",
       "    }\n",
       "\n",
       "    .dataframe tbody tr th {\n",
       "        vertical-align: top;\n",
       "    }\n",
       "\n",
       "    .dataframe thead th {\n",
       "        text-align: right;\n",
       "    }\n",
       "</style>\n",
       "<table border=\"1\" class=\"dataframe\">\n",
       "  <thead>\n",
       "    <tr style=\"text-align: right;\">\n",
       "      <th></th>\n",
       "      <th>tweet</th>\n",
       "      <th>class_b</th>\n",
       "    </tr>\n",
       "  </thead>\n",
       "  <tbody>\n",
       "    <tr>\n",
       "      <th>0</th>\n",
       "      <td>'whoisq wherestheserver dumpnike declasfisa de...</td>\n",
       "      <td>TIN</td>\n",
       "    </tr>\n",
       "    <tr>\n",
       "      <th>1</th>\n",
       "      <td>'what the fuck did he do this time'</td>\n",
       "      <td>TIN</td>\n",
       "    </tr>\n",
       "    <tr>\n",
       "      <th>2</th>\n",
       "      <td>'nigga ware da hits at'</td>\n",
       "      <td>UNT</td>\n",
       "    </tr>\n",
       "    <tr>\n",
       "      <th>3</th>\n",
       "      <td>'stopkavanaugh he is liar like the rest of the...</td>\n",
       "      <td>TIN</td>\n",
       "    </tr>\n",
       "    <tr>\n",
       "      <th>4</th>\n",
       "      <td>'all familyfriends  do not tell me  bad shit t...</td>\n",
       "      <td>TIN</td>\n",
       "    </tr>\n",
       "  </tbody>\n",
       "</table>\n",
       "</div>"
      ],
      "text/plain": [
       "                                               tweet class_b\n",
       "0  'whoisq wherestheserver dumpnike declasfisa de...     TIN\n",
       "1                'what the fuck did he do this time'     TIN\n",
       "2                            'nigga ware da hits at'     UNT\n",
       "3  'stopkavanaugh he is liar like the rest of the...     TIN\n",
       "4  'all familyfriends  do not tell me  bad shit t...     TIN"
      ]
     },
     "execution_count": 47,
     "metadata": {},
     "output_type": "execute_result"
    }
   ],
   "source": [
    "# prepare test data for task B\n",
    "test_b = off_data.merge(test_tweet_b,on=\"tweet\")\n",
    "test_b = test_b[[\"tweet\",\"class_b\"]]\n",
    "print(test_b.shape)\n",
    "test_b.head()"
   ]
  },
  {
   "cell_type": "code",
   "execution_count": 48,
   "metadata": {
    "execution": {
     "iopub.execute_input": "2021-06-20T11:55:12.749390Z",
     "iopub.status.busy": "2021-06-20T11:55:12.748802Z",
     "iopub.status.idle": "2021-06-20T11:55:13.678242Z",
     "shell.execute_reply": "2021-06-20T11:55:13.677293Z",
     "shell.execute_reply.started": "2021-06-20T11:55:12.749350Z"
    }
   },
   "outputs": [
    {
     "name": "stdout",
     "output_type": "stream",
     "text": [
      "Data shape without undersampling: (4400, 2)\n",
      "Data shape with undersampling (1524, 2)\n"
     ]
    },
    {
     "data": {
      "text/html": [
       "<div>\n",
       "<style scoped>\n",
       "    .dataframe tbody tr th:only-of-type {\n",
       "        vertical-align: middle;\n",
       "    }\n",
       "\n",
       "    .dataframe tbody tr th {\n",
       "        vertical-align: top;\n",
       "    }\n",
       "\n",
       "    .dataframe thead th {\n",
       "        text-align: right;\n",
       "    }\n",
       "</style>\n",
       "<table border=\"1\" class=\"dataframe\">\n",
       "  <thead>\n",
       "    <tr style=\"text-align: right;\">\n",
       "      <th></th>\n",
       "      <th>tweet</th>\n",
       "      <th>class_b</th>\n",
       "    </tr>\n",
       "  </thead>\n",
       "  <tbody>\n",
       "    <tr>\n",
       "      <th>0</th>\n",
       "      <td>'she should ask a few native americans what th...</td>\n",
       "      <td>UNT</td>\n",
       "    </tr>\n",
       "    <tr>\n",
       "      <th>3</th>\n",
       "      <td>'someone shouldvetaken this piece of shit to a...</td>\n",
       "      <td>UNT</td>\n",
       "    </tr>\n",
       "    <tr>\n",
       "      <th>6</th>\n",
       "      <td>'oh noes tough shit'</td>\n",
       "      <td>UNT</td>\n",
       "    </tr>\n",
       "    <tr>\n",
       "      <th>29</th>\n",
       "      <td>'she  to whom are you referring to  hillary  y...</td>\n",
       "      <td>UNT</td>\n",
       "    </tr>\n",
       "    <tr>\n",
       "      <th>111</th>\n",
       "      <td>'its literally a narrative that is on par with...</td>\n",
       "      <td>UNT</td>\n",
       "    </tr>\n",
       "  </tbody>\n",
       "</table>\n",
       "</div>"
      ],
      "text/plain": [
       "                                                 tweet class_b\n",
       "0    'she should ask a few native americans what th...     UNT\n",
       "3    'someone shouldvetaken this piece of shit to a...     UNT\n",
       "6                                 'oh noes tough shit'     UNT\n",
       "29   'she  to whom are you referring to  hillary  y...     UNT\n",
       "111  'its literally a narrative that is on par with...     UNT"
      ]
     },
     "execution_count": 48,
     "metadata": {},
     "output_type": "execute_result"
    }
   ],
   "source": [
    "# prepare train data for task B\n",
    "# dataframe task_a and task_b merged\n",
    "df_a_b = pd.concat([train_task_a_data,train_task_b_data],axis=1)\n",
    "df_a_b = df_a_b[df_a_b.class_a ==\"OFF\"]\n",
    "df_a_b = df_a_b[[\"tweet\",\"class_b\"]]\n",
    "df_a_b= df_a_b.T.drop_duplicates().T\n",
    "train_b = df_a_b.copy()\n",
    "print(\"Data shape without undersampling:\",train_b.shape)\n",
    "train_b.head()\n",
    "\n",
    "train_b_unt = train_b[train_b[\"class_b\"] == \"UNT\"]\n",
    "train_b_tin = train_b[train_b[\"class_b\"] == \"TIN\"]\n",
    "train_b_tin = train_b_tin.sample(1000)\n",
    "train_b_new = pd.concat([train_b_unt,train_b_tin])\n",
    "print(\"Data shape with undersampling\",train_b_new.shape)\n",
    "train_b_new.head()"
   ]
  },
  {
   "cell_type": "code",
   "execution_count": 49,
   "metadata": {
    "execution": {
     "iopub.execute_input": "2021-06-20T11:55:13.680160Z",
     "iopub.status.busy": "2021-06-20T11:55:13.679799Z",
     "iopub.status.idle": "2021-06-20T11:55:13.797214Z",
     "shell.execute_reply": "2021-06-20T11:55:13.796174Z",
     "shell.execute_reply.started": "2021-06-20T11:55:13.680123Z"
    }
   },
   "outputs": [
    {
     "data": {
      "image/png": "[encoded data removed]",
      "text/plain": [
       "<Figure size 432x288 with 1 Axes>"
      ]
     },
     "metadata": {
      "needs_background": "light"
     },
     "output_type": "display_data"
    }
   ],
   "source": [
    "# Before under-sampling the train data<\n",
    "count_classes(train_b,\"class_b\")"
   ]
  },
  {
   "cell_type": "code",
   "execution_count": 50,
   "metadata": {
    "execution": {
     "iopub.execute_input": "2021-06-20T11:55:13.798984Z",
     "iopub.status.busy": "2021-06-20T11:55:13.798638Z",
     "iopub.status.idle": "2021-06-20T11:55:13.900191Z",
     "shell.execute_reply": "2021-06-20T11:55:13.899440Z",
     "shell.execute_reply.started": "2021-06-20T11:55:13.798948Z"
    }
   },
   "outputs": [
    {
     "data": {
      "image/png": "[encoded data removed]",
      "text/plain": [
       "<Figure size 432x288 with 1 Axes>"
      ]
     },
     "metadata": {
      "needs_background": "light"
     },
     "output_type": "display_data"
    }
   ],
   "source": [
    "# After under-sampling the train data\n",
    "count_classes(train_b_new,\"class_b\")"
   ]
  },
  {
   "cell_type": "code",
   "execution_count": 51,
   "metadata": {
    "execution": {
     "iopub.execute_input": "2021-06-20T11:55:13.901681Z",
     "iopub.status.busy": "2021-06-20T11:55:13.901355Z",
     "iopub.status.idle": "2021-06-20T11:55:13.998586Z",
     "shell.execute_reply": "2021-06-20T11:55:13.997636Z",
     "shell.execute_reply.started": "2021-06-20T11:55:13.901653Z"
    }
   },
   "outputs": [
    {
     "data": {
      "image/png": "[encoded data removed]",
      "text/plain": [
       "<Figure size 432x288 with 1 Axes>"
      ]
     },
     "metadata": {
      "needs_background": "light"
     },
     "output_type": "display_data"
    }
   ],
   "source": [
    "# Plot test data \n",
    "count_classes(test_b,\"class_b\")"
   ]
  },
  {
   "cell_type": "code",
   "execution_count": 52,
   "metadata": {
    "execution": {
     "iopub.execute_input": "2021-06-20T11:55:14.000417Z",
     "iopub.status.busy": "2021-06-20T11:55:14.000052Z",
     "iopub.status.idle": "2021-06-20T11:55:14.008279Z",
     "shell.execute_reply": "2021-06-20T11:55:14.007463Z",
     "shell.execute_reply.started": "2021-06-20T11:55:14.000379Z"
    }
   },
   "outputs": [],
   "source": [
    "#creating labelEncoder\n",
    "encoder = LabelEncoder()\n",
    "# Converting string labels into numbers.\n",
    "train_b[\"class_b_code\"] = encoder.fit_transform(train_b[\"class_b\"])\n",
    "train_b_new[\"class_b_code\"] = encoder.fit_transform(train_b_new[\"class_b\"])\n",
    "test_b[\"class_b_code\"] = encoder.fit_transform(test_b[\"class_b\"])"
   ]
  },
  {
   "cell_type": "code",
   "execution_count": 53,
   "metadata": {
    "execution": {
     "iopub.execute_input": "2021-06-20T11:55:14.010130Z",
     "iopub.status.busy": "2021-06-20T11:55:14.009577Z",
     "iopub.status.idle": "2021-06-20T11:55:14.105667Z",
     "shell.execute_reply": "2021-06-20T11:55:14.104609Z",
     "shell.execute_reply.started": "2021-06-20T11:55:14.010091Z"
    }
   },
   "outputs": [
    {
     "data": {
      "text/plain": [
       "array([('UNT', 1), ('TIN', 0)], dtype=object)"
      ]
     },
     "execution_count": 53,
     "metadata": {},
     "output_type": "execute_result"
    }
   ],
   "source": [
    "#Create tuple pair for class and class code\n",
    "train_b['class-tuple'] = train_b[['class_b', 'class_b_code']].apply(tuple, axis=1)\n",
    "class_b = train_b['class-tuple'].unique()\n",
    "class_b"
   ]
  },
  {
   "cell_type": "code",
   "execution_count": 54,
   "metadata": {
    "execution": {
     "iopub.execute_input": "2021-06-20T11:55:14.107452Z",
     "iopub.status.busy": "2021-06-20T11:55:14.107088Z",
     "iopub.status.idle": "2021-06-20T11:55:14.125839Z",
     "shell.execute_reply": "2021-06-20T11:55:14.118836Z",
     "shell.execute_reply.started": "2021-06-20T11:55:14.107411Z"
    }
   },
   "outputs": [
    {
     "name": "stdout",
     "output_type": "stream",
     "text": [
      "Shape of X_train is (1066,) and shape of y_train is (1066,)\n",
      "Shape of X_test is (122,) and shape of y_test is (122,)\n",
      "Shape of test_tweets is (122,) and shape of test_labels is (122,)\n"
     ]
    }
   ],
   "source": [
    "# Set the labels and train-test split\n",
    "\n",
    "train_tweets = train_b_new['tweet']\n",
    "train_labels = train_b_new['class_b_code']\n",
    "\n",
    "X_test = test_b['tweet']\n",
    "y_test = test_b['class_b_code']\n",
    "\n",
    "X_train,X_val,y_train,y_val = train_test_split(train_tweets,train_labels,test_size=0.30,random_state=42)\n",
    "\n",
    "print(\"Shape of X_train is {} and shape of y_train is {}\".format(X_train.shape, y_train.shape))\n",
    "print(\"Shape of X_test is {} and shape of y_test is {}\".format(X_test.shape, y_test.shape))\n",
    "\n",
    "print(\"Shape of test_tweets is {} and shape of test_labels is {}\".format(X_test.shape, y_test.shape))"
   ]
  },
  {
   "cell_type": "code",
   "execution_count": 55,
   "metadata": {
    "execution": {
     "iopub.execute_input": "2021-06-20T11:55:14.128008Z",
     "iopub.status.busy": "2021-06-20T11:55:14.127453Z",
     "iopub.status.idle": "2021-06-20T11:55:14.196077Z",
     "shell.execute_reply": "2021-06-20T11:55:14.192237Z",
     "shell.execute_reply.started": "2021-06-20T11:55:14.127971Z"
    }
   },
   "outputs": [
    {
     "name": "stdout",
     "output_type": "stream",
     "text": [
      "train data tensor: (1066, 500)\n"
     ]
    }
   ],
   "source": [
    "# TRAIN\n",
    "X_train_seq = tokenizer.texts_to_sequences(X_train.values)\n",
    "X_train_pad = pad_sequences(X_train_seq, maxlen=max_len)\n",
    "\n",
    "print(\"train data tensor:\" ,X_train_pad.shape)"
   ]
  },
  {
   "cell_type": "code",
   "execution_count": 56,
   "metadata": {
    "execution": {
     "iopub.execute_input": "2021-06-20T11:55:14.200783Z",
     "iopub.status.busy": "2021-06-20T11:55:14.197622Z",
     "iopub.status.idle": "2021-06-20T11:55:14.240597Z",
     "shell.execute_reply": "2021-06-20T11:55:14.239542Z",
     "shell.execute_reply.started": "2021-06-20T11:55:14.200714Z"
    }
   },
   "outputs": [
    {
     "name": "stdout",
     "output_type": "stream",
     "text": [
      "test data tensor: (458, 500)\n"
     ]
    }
   ],
   "source": [
    "# VAL\n",
    "X_val_seq = tokenizer.texts_to_sequences(X_val.values)\n",
    "X_val_pad = pad_sequences(X_val_seq, maxlen=max_len)\n",
    "\n",
    "print(\"test data tensor:\" ,X_val_pad.shape)"
   ]
  },
  {
   "cell_type": "code",
   "execution_count": 57,
   "metadata": {
    "execution": {
     "iopub.execute_input": "2021-06-20T11:55:14.246636Z",
     "iopub.status.busy": "2021-06-20T11:55:14.244559Z",
     "iopub.status.idle": "2021-06-20T11:55:14.261155Z",
     "shell.execute_reply": "2021-06-20T11:55:14.260045Z",
     "shell.execute_reply.started": "2021-06-20T11:55:14.246595Z"
    }
   },
   "outputs": [
    {
     "name": "stdout",
     "output_type": "stream",
     "text": [
      "test data tensor: (122, 500)\n"
     ]
    }
   ],
   "source": [
    "# TEST\n",
    "X_test_seq = tokenizer.texts_to_sequences(X_test.values)\n",
    "X_test_pad = pad_sequences(X_test_seq, maxlen=max_len)\n",
    "\n",
    "print(\"test data tensor:\" ,X_test_pad.shape)"
   ]
  },
  {
   "cell_type": "code",
   "execution_count": 58,
   "metadata": {
    "execution": {
     "iopub.execute_input": "2021-06-20T11:55:14.267470Z",
     "iopub.status.busy": "2021-06-20T11:55:14.265353Z",
     "iopub.status.idle": "2021-06-20T11:55:39.473138Z",
     "shell.execute_reply": "2021-06-20T11:55:39.472325Z",
     "shell.execute_reply.started": "2021-06-20T11:55:14.267430Z"
    }
   },
   "outputs": [
    {
     "name": "stdout",
     "output_type": "stream",
     "text": [
      "Epoch 1/10\n",
      "34/34 [==============================] - 3s 75ms/step - loss: 1.0634 - binary_accuracy: 0.5826 - precision: 0.3122 - recall: 0.1578 - val_loss: 0.6339 - val_binary_accuracy: 0.6725 - val_precision: 0.0000e+00 - val_recall: 0.0000e+00\n",
      "Epoch 2/10\n",
      "34/34 [==============================] - 2s 73ms/step - loss: 0.6473 - binary_accuracy: 0.6492 - precision: 0.0000e+00 - recall: 0.0000e+00 - val_loss: 0.6375 - val_binary_accuracy: 0.6725 - val_precision: 0.0000e+00 - val_recall: 0.0000e+00\n",
      "Epoch 3/10\n",
      "34/34 [==============================] - 2s 74ms/step - loss: 0.6230 - binary_accuracy: 0.6492 - precision: 0.0000e+00 - recall: 0.0000e+00 - val_loss: 0.6406 - val_binary_accuracy: 0.6725 - val_precision: 0.0000e+00 - val_recall: 0.0000e+00\n",
      "Epoch 4/10\n",
      "34/34 [==============================] - 2s 74ms/step - loss: 0.5778 - binary_accuracy: 0.6492 - precision: 0.0000e+00 - recall: 0.0000e+00 - val_loss: 0.6620 - val_binary_accuracy: 0.6725 - val_precision: 0.0000e+00 - val_recall: 0.0000e+00\n",
      "Epoch 5/10\n",
      "34/34 [==============================] - 3s 76ms/step - loss: 0.4959 - binary_accuracy: 0.6492 - precision: 0.0000e+00 - recall: 0.0000e+00 - val_loss: 0.7353 - val_binary_accuracy: 0.6725 - val_precision: 0.0000e+00 - val_recall: 0.0000e+00\n",
      "Epoch 6/10\n",
      "34/34 [==============================] - 2s 73ms/step - loss: 0.4278 - binary_accuracy: 0.7326 - precision: 0.8027 - recall: 0.3155 - val_loss: 0.6947 - val_binary_accuracy: 0.6507 - val_precision: 0.4375 - val_recall: 0.2333\n",
      "Epoch 7/10\n",
      "34/34 [==============================] - 2s 73ms/step - loss: 0.3722 - binary_accuracy: 0.8433 - precision: 0.8848 - recall: 0.6364 - val_loss: 0.8770 - val_binary_accuracy: 0.6594 - val_precision: 0.4741 - val_recall: 0.3667\n",
      "Epoch 8/10\n",
      "34/34 [==============================] - 3s 74ms/step - loss: 0.3144 - binary_accuracy: 0.9081 - precision: 0.8791 - recall: 0.8556 - val_loss: 0.9101 - val_binary_accuracy: 0.5830 - val_precision: 0.3927 - val_recall: 0.5000\n",
      "Epoch 9/10\n",
      "34/34 [==============================] - 3s 76ms/step - loss: 0.2752 - binary_accuracy: 0.9381 - precision: 0.8949 - recall: 0.9332 - val_loss: 1.1799 - val_binary_accuracy: 0.6397 - val_precision: 0.4444 - val_recall: 0.4000\n",
      "Epoch 10/10\n",
      "34/34 [==============================] - 2s 73ms/step - loss: 0.2531 - binary_accuracy: 0.9493 - precision: 0.9000 - recall: 0.9626 - val_loss: 1.2369 - val_binary_accuracy: 0.6485 - val_precision: 0.4560 - val_recall: 0.3800\n"
     ]
    }
   ],
   "source": [
    "epochs = 10\n",
    "\n",
    "# Fit the model using the train and test datasets.\n",
    "history = model.fit(X_train_pad,y_train,validation_data=(X_val_pad,y_val), epochs=epochs)"
   ]
  },
  {
   "cell_type": "code",
   "execution_count": 59,
   "metadata": {
    "execution": {
     "iopub.execute_input": "2021-06-20T11:55:39.475034Z",
     "iopub.status.busy": "2021-06-20T11:55:39.474708Z",
     "iopub.status.idle": "2021-06-20T11:55:39.613844Z",
     "shell.execute_reply": "2021-06-20T11:55:39.613066Z",
     "shell.execute_reply.started": "2021-06-20T11:55:39.474999Z"
    }
   },
   "outputs": [
    {
     "name": "stdout",
     "output_type": "stream",
     "text": [
      "4/4 [==============================] - 0s 22ms/step - loss: 0.4763 - binary_accuracy: 0.7377 - precision: 0.2414 - recall: 0.4118 \n",
      "{'loss': 0.47633516788482666, 'binary_accuracy': 0.7377049326896667, 'precision': 0.24137930572032928, 'recall': 0.4117647111415863}\n"
     ]
    }
   ],
   "source": [
    "scores = model.evaluate(X_test_pad, y_test, return_dict=True)\n",
    "\n",
    "print(scores)"
   ]
  },
  {
   "cell_type": "code",
   "execution_count": 60,
   "metadata": {
    "execution": {
     "iopub.execute_input": "2021-06-20T11:55:39.615512Z",
     "iopub.status.busy": "2021-06-20T11:55:39.615143Z",
     "iopub.status.idle": "2021-06-20T11:55:39.735389Z",
     "shell.execute_reply": "2021-06-20T11:55:39.734478Z",
     "shell.execute_reply.started": "2021-06-20T11:55:39.615457Z"
    }
   },
   "outputs": [],
   "source": [
    "y_pred = model.predict(X_test_pad)"
   ]
  },
  {
   "cell_type": "code",
   "execution_count": 61,
   "metadata": {
    "execution": {
     "iopub.execute_input": "2021-06-20T11:55:39.737297Z",
     "iopub.status.busy": "2021-06-20T11:55:39.736941Z",
     "iopub.status.idle": "2021-06-20T11:55:39.744055Z",
     "shell.execute_reply": "2021-06-20T11:55:39.742629Z",
     "shell.execute_reply.started": "2021-06-20T11:55:39.737259Z"
    }
   },
   "outputs": [],
   "source": [
    "for i in range(len(y_pred)):\n",
    "    if(y_pred[i] > 0.5):\n",
    "        y_pred[i] = 1\n",
    "    else:\n",
    "        y_pred[i] =0 "
   ]
  },
  {
   "cell_type": "code",
   "execution_count": 62,
   "metadata": {
    "execution": {
     "iopub.execute_input": "2021-06-20T11:55:39.749577Z",
     "iopub.status.busy": "2021-06-20T11:55:39.749263Z",
     "iopub.status.idle": "2021-06-20T11:55:39.763253Z",
     "shell.execute_reply": "2021-06-20T11:55:39.762301Z",
     "shell.execute_reply.started": "2021-06-20T11:55:39.749550Z"
    }
   },
   "outputs": [
    {
     "name": "stdout",
     "output_type": "stream",
     "text": [
      "              precision    recall  f1-score   support\n",
      "\n",
      "           0       0.89      0.79      0.84       105\n",
      "           1       0.24      0.41      0.30        17\n",
      "\n",
      "    accuracy                           0.74       122\n",
      "   macro avg       0.57      0.60      0.57       122\n",
      "weighted avg       0.80      0.74      0.76       122\n",
      "\n"
     ]
    }
   ],
   "source": [
    "print(classification_report(y_test,y_pred))"
   ]
  },
  {
   "cell_type": "code",
   "execution_count": 63,
   "metadata": {
    "execution": {
     "iopub.execute_input": "2021-06-20T11:55:39.765729Z",
     "iopub.status.busy": "2021-06-20T11:55:39.765371Z",
     "iopub.status.idle": "2021-06-20T11:55:40.051381Z",
     "shell.execute_reply": "2021-06-20T11:55:40.050596Z",
     "shell.execute_reply.started": "2021-06-20T11:55:39.765684Z"
    }
   },
   "outputs": [
    {
     "data": {
      "image/png": "[encoded data removed]",
      "text/plain": [
       "<Figure size 432x288 with 2 Axes>"
      ]
     },
     "metadata": {
      "needs_background": "light"
     },
     "output_type": "display_data"
    }
   ],
   "source": [
    "plot_conf_matrix(y_test,y_pred)"
   ]
  },
  {
   "cell_type": "markdown",
   "metadata": {},
   "source": [
    "### TASK C"
   ]
  },
  {
   "cell_type": "code",
   "execution_count": 64,
   "metadata": {
    "execution": {
     "iopub.execute_input": "2021-06-20T11:55:40.052989Z",
     "iopub.status.busy": "2021-06-20T11:55:40.052652Z",
     "iopub.status.idle": "2021-06-20T11:55:40.069798Z",
     "shell.execute_reply": "2021-06-20T11:55:40.068765Z",
     "shell.execute_reply.started": "2021-06-20T11:55:40.052954Z"
    }
   },
   "outputs": [
    {
     "name": "stdout",
     "output_type": "stream",
     "text": [
      "(93, 3)\n"
     ]
    },
    {
     "data": {
      "text/html": [
       "<div>\n",
       "<style scoped>\n",
       "    .dataframe tbody tr th:only-of-type {\n",
       "        vertical-align: middle;\n",
       "    }\n",
       "\n",
       "    .dataframe tbody tr th {\n",
       "        vertical-align: top;\n",
       "    }\n",
       "\n",
       "    .dataframe thead th {\n",
       "        text-align: right;\n",
       "    }\n",
       "</style>\n",
       "<table border=\"1\" class=\"dataframe\">\n",
       "  <thead>\n",
       "    <tr style=\"text-align: right;\">\n",
       "      <th></th>\n",
       "      <th>tweet</th>\n",
       "      <th>class_b</th>\n",
       "      <th>predicted</th>\n",
       "    </tr>\n",
       "  </thead>\n",
       "  <tbody>\n",
       "    <tr>\n",
       "      <th>0</th>\n",
       "      <td>'whoisq wherestheserver dumpnike declasfisa de...</td>\n",
       "      <td>TIN</td>\n",
       "      <td>0.0</td>\n",
       "    </tr>\n",
       "    <tr>\n",
       "      <th>2</th>\n",
       "      <td>'what the fuck did he do this time'</td>\n",
       "      <td>TIN</td>\n",
       "      <td>0.0</td>\n",
       "    </tr>\n",
       "    <tr>\n",
       "      <th>3</th>\n",
       "      <td>'do you get the feeling he is kissing  behind ...</td>\n",
       "      <td>TIN</td>\n",
       "      <td>0.0</td>\n",
       "    </tr>\n",
       "    <tr>\n",
       "      <th>4</th>\n",
       "      <td>'nigga ware da hits at'</td>\n",
       "      <td>UNT</td>\n",
       "      <td>0.0</td>\n",
       "    </tr>\n",
       "    <tr>\n",
       "      <th>6</th>\n",
       "      <td>'put delauro in a police lineup identifying th...</td>\n",
       "      <td>TIN</td>\n",
       "      <td>0.0</td>\n",
       "    </tr>\n",
       "  </tbody>\n",
       "</table>\n",
       "</div>"
      ],
      "text/plain": [
       "                                               tweet class_b  predicted\n",
       "0  'whoisq wherestheserver dumpnike declasfisa de...     TIN        0.0\n",
       "2                'what the fuck did he do this time'     TIN        0.0\n",
       "3  'do you get the feeling he is kissing  behind ...     TIN        0.0\n",
       "4                            'nigga ware da hits at'     UNT        0.0\n",
       "6  'put delauro in a police lineup identifying th...     TIN        0.0"
      ]
     },
     "execution_count": 64,
     "metadata": {},
     "output_type": "execute_result"
    }
   ],
   "source": [
    "# Our predicted TIN - Targeted Insult data\n",
    "df_pred = pd.DataFrame(data=y_pred,columns=[\"predicted\"])\n",
    "predicted_data = pd.concat([test_tweet_b, df_pred],axis=1)\n",
    "tin_data = predicted_data[predicted_data.predicted ==0]\n",
    "print(tin_data.shape)\n",
    "tin_data.head()"
   ]
  },
  {
   "cell_type": "code",
   "execution_count": 65,
   "metadata": {
    "execution": {
     "iopub.execute_input": "2021-06-20T11:55:40.072012Z",
     "iopub.status.busy": "2021-06-20T11:55:40.071591Z",
     "iopub.status.idle": "2021-06-20T11:55:40.090966Z",
     "shell.execute_reply": "2021-06-20T11:55:40.090056Z",
     "shell.execute_reply.started": "2021-06-20T11:55:40.071974Z"
    }
   },
   "outputs": [
    {
     "name": "stdout",
     "output_type": "stream",
     "text": [
      "(86, 2)\n"
     ]
    },
    {
     "data": {
      "text/html": [
       "<div>\n",
       "<style scoped>\n",
       "    .dataframe tbody tr th:only-of-type {\n",
       "        vertical-align: middle;\n",
       "    }\n",
       "\n",
       "    .dataframe tbody tr th {\n",
       "        vertical-align: top;\n",
       "    }\n",
       "\n",
       "    .dataframe thead th {\n",
       "        text-align: right;\n",
       "    }\n",
       "</style>\n",
       "<table border=\"1\" class=\"dataframe\">\n",
       "  <thead>\n",
       "    <tr style=\"text-align: right;\">\n",
       "      <th></th>\n",
       "      <th>tweet</th>\n",
       "      <th>class_c</th>\n",
       "    </tr>\n",
       "  </thead>\n",
       "  <tbody>\n",
       "    <tr>\n",
       "      <th>0</th>\n",
       "      <td>'whoisq wherestheserver dumpnike declasfisa de...</td>\n",
       "      <td>OTH</td>\n",
       "    </tr>\n",
       "    <tr>\n",
       "      <th>1</th>\n",
       "      <td>'what the fuck did he do this time'</td>\n",
       "      <td>IND</td>\n",
       "    </tr>\n",
       "    <tr>\n",
       "      <th>2</th>\n",
       "      <td>'do you get the feeling he is kissing  behind ...</td>\n",
       "      <td>OTH</td>\n",
       "    </tr>\n",
       "    <tr>\n",
       "      <th>3</th>\n",
       "      <td>'put delauro in a police lineup identifying th...</td>\n",
       "      <td>IND</td>\n",
       "    </tr>\n",
       "    <tr>\n",
       "      <th>4</th>\n",
       "      <td>'all familyfriends  do not tell me  bad shit t...</td>\n",
       "      <td>GRP</td>\n",
       "    </tr>\n",
       "  </tbody>\n",
       "</table>\n",
       "</div>"
      ],
      "text/plain": [
       "                                               tweet class_c\n",
       "0  'whoisq wherestheserver dumpnike declasfisa de...     OTH\n",
       "1                'what the fuck did he do this time'     IND\n",
       "2  'do you get the feeling he is kissing  behind ...     OTH\n",
       "3  'put delauro in a police lineup identifying th...     IND\n",
       "4  'all familyfriends  do not tell me  bad shit t...     GRP"
      ]
     },
     "execution_count": 65,
     "metadata": {},
     "output_type": "execute_result"
    }
   ],
   "source": [
    "# prepare test data for task C\n",
    "test_c = tin_data.merge(test_tweet_c,on=\"tweet\")\n",
    "test_c = test_c[[\"tweet\",\"class_c\"]]\n",
    "print(test_c.shape)\n",
    "test_c.head()"
   ]
  },
  {
   "cell_type": "code",
   "execution_count": 66,
   "metadata": {
    "execution": {
     "iopub.execute_input": "2021-06-20T11:55:40.092818Z",
     "iopub.status.busy": "2021-06-20T11:55:40.092338Z",
     "iopub.status.idle": "2021-06-20T11:55:40.669509Z",
     "shell.execute_reply": "2021-06-20T11:55:40.668618Z",
     "shell.execute_reply.started": "2021-06-20T11:55:40.092777Z"
    }
   },
   "outputs": [
    {
     "name": "stdout",
     "output_type": "stream",
     "text": [
      "Data shape without over and undersampling: (3876, 2)\n",
      "Data shape with undersampling (3500, 2)\n"
     ]
    },
    {
     "data": {
      "text/html": [
       "<div>\n",
       "<style scoped>\n",
       "    .dataframe tbody tr th:only-of-type {\n",
       "        vertical-align: middle;\n",
       "    }\n",
       "\n",
       "    .dataframe tbody tr th {\n",
       "        vertical-align: top;\n",
       "    }\n",
       "\n",
       "    .dataframe thead th {\n",
       "        text-align: right;\n",
       "    }\n",
       "</style>\n",
       "<table border=\"1\" class=\"dataframe\">\n",
       "  <thead>\n",
       "    <tr style=\"text-align: right;\">\n",
       "      <th></th>\n",
       "      <th>tweet</th>\n",
       "      <th>class_c</th>\n",
       "    </tr>\n",
       "  </thead>\n",
       "  <tbody>\n",
       "    <tr>\n",
       "      <th>10135</th>\n",
       "      <td>'better take an extra antidepressant cher its ...</td>\n",
       "      <td>IND</td>\n",
       "    </tr>\n",
       "    <tr>\n",
       "      <th>6720</th>\n",
       "      <td>'scaramucci cashing in on the donald  taking t...</td>\n",
       "      <td>IND</td>\n",
       "    </tr>\n",
       "    <tr>\n",
       "      <th>2164</th>\n",
       "      <td>'trump will never be a free range chicken agai...</td>\n",
       "      <td>IND</td>\n",
       "    </tr>\n",
       "    <tr>\n",
       "      <th>3574</th>\n",
       "      <td>'a divided self or my name is legion  demon po...</td>\n",
       "      <td>IND</td>\n",
       "    </tr>\n",
       "    <tr>\n",
       "      <th>8000</th>\n",
       "      <td>'loved to hate mr in bobby brown show that guy...</td>\n",
       "      <td>IND</td>\n",
       "    </tr>\n",
       "  </tbody>\n",
       "</table>\n",
       "</div>"
      ],
      "text/plain": [
       "                                                   tweet class_c\n",
       "10135  'better take an extra antidepressant cher its ...     IND\n",
       "6720   'scaramucci cashing in on the donald  taking t...     IND\n",
       "2164   'trump will never be a free range chicken agai...     IND\n",
       "3574   'a divided self or my name is legion  demon po...     IND\n",
       "8000   'loved to hate mr in bobby brown show that guy...     IND"
      ]
     },
     "execution_count": 66,
     "metadata": {},
     "output_type": "execute_result"
    }
   ],
   "source": [
    "# prepare train data for task C\n",
    "# dataframe task_b and task_c merged\n",
    "df_b_c = pd.concat([train_task_b_data,train_task_c_data],axis=1)\n",
    "df_b_c = df_b_c[df_b_c.class_b ==\"TIN\"]\n",
    "df_b_c = df_b_c[[\"tweet\",\"class_c\"]]\n",
    "df_b_c= df_b_c.T.drop_duplicates().T\n",
    "train_c = df_b_c.copy()\n",
    "print(\"Data shape without over and undersampling:\",train_c.shape)\n",
    "train_c.head()\n",
    "\n",
    "\n",
    "train_c_ind = train_c[train_c[\"class_c\"] == \"IND\"]\n",
    "train_c_oth = train_c[train_c[\"class_c\"] == \"OTH\"]\n",
    "train_c_grp = train_c[train_c[\"class_c\"] == \"GRP\"]\n",
    "train_c_ind = train_c_ind.sample(1500)\n",
    "train_c_oth = train_c_oth.sample(1000, replace=True)\n",
    "train_c_grp = train_c_grp.sample(1000)\n",
    "train_c_new = pd.concat([train_c_ind,train_c_oth,train_c_grp])\n",
    "print(\"Data shape with undersampling\",train_c_new.shape)\n",
    "train_c_new.head()"
   ]
  },
  {
   "cell_type": "code",
   "execution_count": 67,
   "metadata": {
    "execution": {
     "iopub.execute_input": "2021-06-20T11:55:40.671141Z",
     "iopub.status.busy": "2021-06-20T11:55:40.670815Z",
     "iopub.status.idle": "2021-06-20T11:55:40.781564Z",
     "shell.execute_reply": "2021-06-20T11:55:40.780604Z",
     "shell.execute_reply.started": "2021-06-20T11:55:40.671106Z"
    }
   },
   "outputs": [
    {
     "data": {
      "image/png": "[encoded data removed]",
      "text/plain": [
       "<Figure size 432x288 with 1 Axes>"
      ]
     },
     "metadata": {
      "needs_background": "light"
     },
     "output_type": "display_data"
    }
   ],
   "source": [
    "# Plot the train data without over and undersapmling the classes\n",
    "\n",
    "count_classes(train_c,\"class_c\")"
   ]
  },
  {
   "cell_type": "code",
   "execution_count": 68,
   "metadata": {
    "execution": {
     "iopub.execute_input": "2021-06-20T11:55:40.783411Z",
     "iopub.status.busy": "2021-06-20T11:55:40.783070Z",
     "iopub.status.idle": "2021-06-20T11:55:40.914096Z",
     "shell.execute_reply": "2021-06-20T11:55:40.913291Z",
     "shell.execute_reply.started": "2021-06-20T11:55:40.783371Z"
    }
   },
   "outputs": [
    {
     "data": {
      "image/png": "[encoded data removed]",
      "text/plain": [
       "<Figure size 432x288 with 1 Axes>"
      ]
     },
     "metadata": {
      "needs_background": "light"
     },
     "output_type": "display_data"
    }
   ],
   "source": [
    "# Plot the train data with over and undersapmling the classes\n",
    "\n",
    "count_classes(train_c_new,\"class_c\")"
   ]
  },
  {
   "cell_type": "code",
   "execution_count": 69,
   "metadata": {
    "execution": {
     "iopub.execute_input": "2021-06-20T11:55:40.916064Z",
     "iopub.status.busy": "2021-06-20T11:55:40.915510Z",
     "iopub.status.idle": "2021-06-20T11:55:41.103067Z",
     "shell.execute_reply": "2021-06-20T11:55:41.102147Z",
     "shell.execute_reply.started": "2021-06-20T11:55:40.916027Z"
    }
   },
   "outputs": [
    {
     "data": {
      "image/png": "[encoded data removed]",
      "text/plain": [
       "<Figure size 432x288 with 1 Axes>"
      ]
     },
     "metadata": {
      "needs_background": "light"
     },
     "output_type": "display_data"
    }
   ],
   "source": [
    "# Plot test data \n",
    "count_classes(test_c,\"class_c\")"
   ]
  },
  {
   "cell_type": "code",
   "execution_count": 70,
   "metadata": {
    "execution": {
     "iopub.execute_input": "2021-06-20T11:55:41.105140Z",
     "iopub.status.busy": "2021-06-20T11:55:41.104512Z",
     "iopub.status.idle": "2021-06-20T11:55:41.119946Z",
     "shell.execute_reply": "2021-06-20T11:55:41.118962Z",
     "shell.execute_reply.started": "2021-06-20T11:55:41.105097Z"
    }
   },
   "outputs": [],
   "source": [
    "#creating labelEncoder\n",
    "encoder = LabelEncoder()\n",
    "# Converting string labels into numbers.\n",
    "train_c[\"class_c_code\"] = encoder.fit_transform(train_c[\"class_c\"])\n",
    "train_c_new[\"class_c_code\"] = encoder.fit_transform(train_c_new[\"class_c\"])\n",
    "test_c[\"class_c_code\"] = encoder.fit_transform(test_c[\"class_c\"])"
   ]
  },
  {
   "cell_type": "code",
   "execution_count": 71,
   "metadata": {
    "execution": {
     "iopub.execute_input": "2021-06-20T11:55:41.122051Z",
     "iopub.status.busy": "2021-06-20T11:55:41.121387Z",
     "iopub.status.idle": "2021-06-20T11:55:41.211298Z",
     "shell.execute_reply": "2021-06-20T11:55:41.210449Z",
     "shell.execute_reply.started": "2021-06-20T11:55:41.121933Z"
    }
   },
   "outputs": [
    {
     "data": {
      "text/plain": [
       "array([('IND', 1), ('OTH', 2), ('GRP', 0)], dtype=object)"
      ]
     },
     "execution_count": 71,
     "metadata": {},
     "output_type": "execute_result"
    }
   ],
   "source": [
    "#Create tuple pair for class and class code\n",
    "train_c['class-tuple'] = train_c[['class_c', 'class_c_code']].apply(tuple, axis=1)\n",
    "class_c = train_c['class-tuple'].unique()\n",
    "class_c"
   ]
  },
  {
   "cell_type": "code",
   "execution_count": 72,
   "metadata": {
    "execution": {
     "iopub.execute_input": "2021-06-20T11:55:41.217731Z",
     "iopub.status.busy": "2021-06-20T11:55:41.215500Z",
     "iopub.status.idle": "2021-06-20T11:55:41.233734Z",
     "shell.execute_reply": "2021-06-20T11:55:41.232496Z",
     "shell.execute_reply.started": "2021-06-20T11:55:41.217684Z"
    }
   },
   "outputs": [
    {
     "name": "stdout",
     "output_type": "stream",
     "text": [
      "Shape of X_train is (2450,) and shape of y_train is (2450,)\n",
      "Shape of X_test is (1050,) and shape of y_test is (1050,)\n",
      "Shape of test_tweets is (86,) and shape of test_labels is (86,)\n"
     ]
    }
   ],
   "source": [
    "# Set the labels and train-test split\n",
    "\n",
    "train_tweets = train_c_new['tweet']\n",
    "train_labels = train_c_new['class_c_code']\n",
    "\n",
    "X_test = test_c['tweet']\n",
    "y_test = test_c['class_c_code']\n",
    "\n",
    "X_train,X_val,y_train,y_val = train_test_split(train_tweets,train_labels,test_size=0.30,random_state=42)\n",
    "\n",
    "print(\"Shape of X_train is {} and shape of y_train is {}\".format(X_train.shape, y_train.shape))\n",
    "print(\"Shape of X_test is {} and shape of y_test is {}\".format(X_val.shape, y_val.shape))\n",
    "\n",
    "print(\"Shape of test_tweets is {} and shape of test_labels is {}\".format(X_test.shape, y_test.shape))"
   ]
  },
  {
   "cell_type": "code",
   "execution_count": 73,
   "metadata": {
    "execution": {
     "iopub.execute_input": "2021-06-20T11:55:41.241098Z",
     "iopub.status.busy": "2021-06-20T11:55:41.238632Z",
     "iopub.status.idle": "2021-06-20T11:55:41.366789Z",
     "shell.execute_reply": "2021-06-20T11:55:41.363884Z",
     "shell.execute_reply.started": "2021-06-20T11:55:41.241056Z"
    }
   },
   "outputs": [
    {
     "name": "stdout",
     "output_type": "stream",
     "text": [
      "train data tensor: (2450, 500)\n"
     ]
    }
   ],
   "source": [
    "# TRAIN\n",
    "X_train_seq = tokenizer.texts_to_sequences(X_train.values)\n",
    "X_train_pad = pad_sequences(X_train_seq, maxlen=max_len)\n",
    "\n",
    "print(\"train data tensor:\" ,X_train_pad.shape)"
   ]
  },
  {
   "cell_type": "code",
   "execution_count": 74,
   "metadata": {
    "execution": {
     "iopub.execute_input": "2021-06-20T11:55:41.371694Z",
     "iopub.status.busy": "2021-06-20T11:55:41.371026Z",
     "iopub.status.idle": "2021-06-20T11:55:41.429413Z",
     "shell.execute_reply": "2021-06-20T11:55:41.428641Z",
     "shell.execute_reply.started": "2021-06-20T11:55:41.371645Z"
    }
   },
   "outputs": [
    {
     "name": "stdout",
     "output_type": "stream",
     "text": [
      "test data tensor: (1050, 500)\n"
     ]
    }
   ],
   "source": [
    "# VAL\n",
    "X_val_seq = tokenizer.texts_to_sequences(X_val.values)\n",
    "X_val_pad = pad_sequences(X_val_seq, maxlen=max_len)\n",
    "\n",
    "print(\"test data tensor:\" ,X_val_pad.shape)"
   ]
  },
  {
   "cell_type": "code",
   "execution_count": 75,
   "metadata": {
    "execution": {
     "iopub.execute_input": "2021-06-20T11:55:41.435170Z",
     "iopub.status.busy": "2021-06-20T11:55:41.433200Z",
     "iopub.status.idle": "2021-06-20T11:55:41.448260Z",
     "shell.execute_reply": "2021-06-20T11:55:41.447457Z",
     "shell.execute_reply.started": "2021-06-20T11:55:41.435118Z"
    }
   },
   "outputs": [
    {
     "name": "stdout",
     "output_type": "stream",
     "text": [
      "test data tensor: (86, 500)\n"
     ]
    }
   ],
   "source": [
    "# TEST\n",
    "X_test_seq = tokenizer.texts_to_sequences(X_test.values)\n",
    "X_test_pad = pad_sequences(X_test_seq, maxlen=max_len)\n",
    "\n",
    "print(\"test data tensor:\" ,X_test_pad.shape)"
   ]
  },
  {
   "cell_type": "code",
   "execution_count": 82,
   "metadata": {
    "execution": {
     "iopub.execute_input": "2021-06-20T11:57:04.384617Z",
     "iopub.status.busy": "2021-06-20T11:57:04.384209Z",
     "iopub.status.idle": "2021-06-20T11:57:04.829282Z",
     "shell.execute_reply": "2021-06-20T11:57:04.828464Z",
     "shell.execute_reply.started": "2021-06-20T11:57:04.384579Z"
    }
   },
   "outputs": [],
   "source": [
    "model= Sequential()\n",
    "model.add(Embedding(max_features,embedding_dim,input_length=max_len))\n",
    "model.add(Bidirectional(LSTM(128, dropout=0.3)))\n",
    "model.add(Dense(128,activation='relu'))\n",
    "model.add(Dropout(0.3))\n",
    "model.add(Dense(1,activation='sigmoid'))"
   ]
  },
  {
   "cell_type": "code",
   "execution_count": 83,
   "metadata": {
    "execution": {
     "iopub.execute_input": "2021-06-20T11:57:04.831037Z",
     "iopub.status.busy": "2021-06-20T11:57:04.830676Z",
     "iopub.status.idle": "2021-06-20T11:57:04.859124Z",
     "shell.execute_reply": "2021-06-20T11:57:04.858344Z",
     "shell.execute_reply.started": "2021-06-20T11:57:04.831002Z"
    }
   },
   "outputs": [],
   "source": [
    "METRICS = [tf.keras.metrics.CategoricalAccuracy(),\n",
    "        tf.keras.metrics.Precision(name=\"precision\"),\n",
    "        tf.keras.metrics.Recall(name=\"recall\")]\n",
    "\n",
    "\n",
    "model.compile(loss='categorical_crossentropy',optimizer='adam',metrics=METRICS)"
   ]
  },
  {
   "cell_type": "code",
   "execution_count": 84,
   "metadata": {
    "execution": {
     "iopub.execute_input": "2021-06-20T11:57:05.177693Z",
     "iopub.status.busy": "2021-06-20T11:57:05.177358Z",
     "iopub.status.idle": "2021-06-20T11:58:05.927242Z",
     "shell.execute_reply": "2021-06-20T11:58:05.926374Z",
     "shell.execute_reply.started": "2021-06-20T11:57:05.177660Z"
    }
   },
   "outputs": [
    {
     "name": "stdout",
     "output_type": "stream",
     "text": [
      "Epoch 1/10\n",
      "77/77 [==============================] - 9s 83ms/step - loss: 0.0000e+00 - categorical_accuracy: 1.0000 - precision: 0.7238 - recall: 0.9693 - val_loss: 0.0000e+00 - val_categorical_accuracy: 1.0000 - val_precision: 0.7552 - val_recall: 0.7203\n",
      "Epoch 2/10\n",
      "77/77 [==============================] - 6s 75ms/step - loss: 0.0000e+00 - categorical_accuracy: 1.0000 - precision: 0.7900 - recall: 0.3971 - val_loss: 0.0000e+00 - val_categorical_accuracy: 1.0000 - val_precision: 0.7938 - val_recall: 0.7718\n",
      "Epoch 3/10\n",
      "77/77 [==============================] - 6s 77ms/step - loss: 0.0000e+00 - categorical_accuracy: 1.0000 - precision: 0.8720 - recall: 0.7264 - val_loss: 0.0000e+00 - val_categorical_accuracy: 1.0000 - val_precision: 0.8052 - val_recall: 0.7744\n",
      "Epoch 4/10\n",
      "77/77 [==============================] - 6s 74ms/step - loss: 0.0000e+00 - categorical_accuracy: 1.0000 - precision: 0.8973 - recall: 0.6705 - val_loss: 0.0000e+00 - val_categorical_accuracy: 1.0000 - val_precision: 0.8889 - val_recall: 0.4116\n",
      "Epoch 5/10\n",
      "77/77 [==============================] - 6s 76ms/step - loss: 0.0000e+00 - categorical_accuracy: 1.0000 - precision: 0.9563 - recall: 0.6111 - val_loss: 0.0000e+00 - val_categorical_accuracy: 1.0000 - val_precision: 0.8532 - val_recall: 0.4908\n",
      "Epoch 6/10\n",
      "77/77 [==============================] - 6s 74ms/step - loss: 0.0000e+00 - categorical_accuracy: 1.0000 - precision: 0.9709 - recall: 0.6516 - val_loss: 0.0000e+00 - val_categorical_accuracy: 1.0000 - val_precision: 0.8157 - val_recall: 0.6425\n",
      "Epoch 7/10\n",
      "77/77 [==============================] - 6s 74ms/step - loss: 0.0000e+00 - categorical_accuracy: 1.0000 - precision: 0.9281 - recall: 0.7145 - val_loss: 0.0000e+00 - val_categorical_accuracy: 1.0000 - val_precision: 0.7219 - val_recall: 1.0000\n",
      "Epoch 8/10\n",
      "77/77 [==============================] - 6s 75ms/step - loss: 0.0000e+00 - categorical_accuracy: 1.0000 - precision: 0.7254 - recall: 0.8058 - val_loss: 0.0000e+00 - val_categorical_accuracy: 1.0000 - val_precision: 0.7849 - val_recall: 0.6979\n",
      "Epoch 9/10\n",
      "77/77 [==============================] - 6s 73ms/step - loss: 0.0000e+00 - categorical_accuracy: 1.0000 - precision: 0.8413 - recall: 0.6686 - val_loss: 0.0000e+00 - val_categorical_accuracy: 1.0000 - val_precision: 0.8556 - val_recall: 0.5396\n",
      "Epoch 10/10\n",
      "77/77 [==============================] - 6s 72ms/step - loss: 0.0000e+00 - categorical_accuracy: 1.0000 - precision: 0.9364 - recall: 0.6575 - val_loss: 0.0000e+00 - val_categorical_accuracy: 1.0000 - val_precision: 0.8588 - val_recall: 0.5778\n"
     ]
    }
   ],
   "source": [
    "epochs = 10\n",
    "\n",
    "# Fit the model using the train and test datasets.\n",
    "history = model.fit(X_train_pad,y_train,validation_data=(X_val_pad,y_val), epochs=epochs)"
   ]
  },
  {
   "cell_type": "code",
   "execution_count": 85,
   "metadata": {
    "execution": {
     "iopub.execute_input": "2021-06-20T11:58:22.761314Z",
     "iopub.status.busy": "2021-06-20T11:58:22.760909Z",
     "iopub.status.idle": "2021-06-20T11:58:22.896680Z",
     "shell.execute_reply": "2021-06-20T11:58:22.895834Z",
     "shell.execute_reply.started": "2021-06-20T11:58:22.761276Z"
    }
   },
   "outputs": [
    {
     "name": "stdout",
     "output_type": "stream",
     "text": [
      "3/3 [==============================] - 0s 27ms/step - loss: 0.0000e+00 - categorical_accuracy: 1.0000 - precision: 0.7419 - recall: 0.4259\n",
      "{'loss': 0.0, 'categorical_accuracy': 1.0, 'precision': 0.7419354915618896, 'recall': 0.42592594027519226}\n"
     ]
    }
   ],
   "source": [
    "scores = model.evaluate(X_test_pad, y_test, return_dict=True)\n",
    "\n",
    "print(scores)"
   ]
  },
  {
   "cell_type": "code",
   "execution_count": 86,
   "metadata": {
    "execution": {
     "iopub.execute_input": "2021-06-20T11:58:23.114335Z",
     "iopub.status.busy": "2021-06-20T11:58:23.114020Z",
     "iopub.status.idle": "2021-06-20T11:58:23.774861Z",
     "shell.execute_reply": "2021-06-20T11:58:23.773949Z",
     "shell.execute_reply.started": "2021-06-20T11:58:23.114306Z"
    }
   },
   "outputs": [],
   "source": [
    "y_pred = model.predict(X_test_pad)"
   ]
  },
  {
   "cell_type": "code",
   "execution_count": 87,
   "metadata": {
    "execution": {
     "iopub.execute_input": "2021-06-20T11:58:23.776964Z",
     "iopub.status.busy": "2021-06-20T11:58:23.776446Z",
     "iopub.status.idle": "2021-06-20T11:58:23.783645Z",
     "shell.execute_reply": "2021-06-20T11:58:23.780930Z",
     "shell.execute_reply.started": "2021-06-20T11:58:23.776934Z"
    }
   },
   "outputs": [],
   "source": [
    "y_pred = y_pred.astype(\"int64\")"
   ]
  },
  {
   "cell_type": "code",
   "execution_count": 88,
   "metadata": {
    "execution": {
     "iopub.execute_input": "2021-06-20T11:58:25.201419Z",
     "iopub.status.busy": "2021-06-20T11:58:25.201093Z",
     "iopub.status.idle": "2021-06-20T11:58:25.502441Z",
     "shell.execute_reply": "2021-06-20T11:58:25.501424Z",
     "shell.execute_reply.started": "2021-06-20T11:58:25.201387Z"
    }
   },
   "outputs": [
    {
     "data": {
      "image/png": "[encoded data removed]",
      "text/plain": [
       "<Figure size 432x288 with 2 Axes>"
      ]
     },
     "metadata": {
      "needs_background": "light"
     },
     "output_type": "display_data"
    }
   ],
   "source": [
    "plot_conf_matrix(y_test,y_pred)"
   ]
  },
  {
   "cell_type": "code",
   "execution_count": 89,
   "metadata": {
    "execution": {
     "iopub.execute_input": "2021-06-20T11:58:26.239367Z",
     "iopub.status.busy": "2021-06-20T11:58:26.239044Z",
     "iopub.status.idle": "2021-06-20T11:58:26.253598Z",
     "shell.execute_reply": "2021-06-20T11:58:26.252422Z",
     "shell.execute_reply.started": "2021-06-20T11:58:26.239336Z"
    }
   },
   "outputs": [
    {
     "name": "stdout",
     "output_type": "stream",
     "text": [
      "              precision    recall  f1-score   support\n",
      "\n",
      "           0       0.44      0.75      0.55        32\n",
      "           1       0.55      0.44      0.49        39\n",
      "           2       0.00      0.00      0.00        15\n",
      "\n",
      "    accuracy                           0.48        86\n",
      "   macro avg       0.33      0.40      0.35        86\n",
      "weighted avg       0.41      0.48      0.43        86\n",
      "\n"
     ]
    }
   ],
   "source": [
    "print(classification_report(y_test,y_pred))"
   ]
  },
  {
   "cell_type": "code",
   "execution_count": null,
   "metadata": {},
   "outputs": [],
   "source": []
  }
 ],
 "metadata": {
  "kernelspec": {
   "display_name": "Python 3",
   "language": "python",
   "name": "python3"
  },
  "language_info": {
   "codemirror_mode": {
    "name": "ipython",
    "version": 3
   },
   "file_extension": ".py",
   "mimetype": "text/x-python",
   "name": "python",
   "nbconvert_exporter": "python",
   "pygments_lexer": "ipython3",
   "version": "3.8.5"
  }
 },
 "nbformat": 4,
 "nbformat_minor": 4
}
