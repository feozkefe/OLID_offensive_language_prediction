{
 "cells": [
  {
   "cell_type": "markdown",
   "metadata": {
    "papermill": {
     "duration": 0.060861,
     "end_time": "2021-06-19T02:41:03.121401",
     "exception": false,
     "start_time": "2021-06-19T02:41:03.060540",
     "status": "completed"
    },
    "tags": []
   },
   "source": [
    "### OLID (Offensive Language Identification Dataset)\n",
    "### Predicting the Type and Target of Offensive Posts in Social Media"
   ]
  },
  {
   "cell_type": "markdown",
   "metadata": {},
   "source": [
    "Feyza Özkefe 20comp5008"
   ]
  },
  {
   "cell_type": "markdown",
   "metadata": {
    "papermill": {
     "duration": 0.064334,
     "end_time": "2021-06-19T02:41:03.246499",
     "exception": false,
     "start_time": "2021-06-19T02:41:03.182165",
     "status": "completed"
    },
    "tags": []
   },
   "source": [
    "### Import Libraries"
   ]
  },
  {
   "cell_type": "code",
   "execution_count": 2,
   "metadata": {
    "execution": {
     "iopub.execute_input": "2021-06-19T02:41:03.376572Z",
     "iopub.status.busy": "2021-06-19T02:41:03.375722Z",
     "iopub.status.idle": "2021-06-19T02:41:10.663555Z",
     "shell.execute_reply": "2021-06-19T02:41:10.662525Z",
     "shell.execute_reply.started": "2021-06-19T01:18:24.621051Z"
    },
    "papermill": {
     "duration": 7.356331,
     "end_time": "2021-06-19T02:41:10.663768",
     "exception": false,
     "start_time": "2021-06-19T02:41:03.307437",
     "status": "completed"
    },
    "tags": []
   },
   "outputs": [],
   "source": [
    "import pandas as pd\n",
    "import string\n",
    "import numpy as np\n",
    "import seaborn as sns\n",
    "import matplotlib.pyplot as plt\n",
    "\n",
    "from sklearn.preprocessing import LabelEncoder\n",
    "from sklearn.pipeline import Pipeline\n",
    "from sklearn.metrics import precision_recall_fscore_support, accuracy_score, confusion_matrix,classification_report\n",
    "from sklearn import metrics\n",
    "from sklearn.model_selection import train_test_split\n",
    "from sklearn.preprocessing import scale,StandardScaler\n",
    "from keras.preprocessing.sequence import pad_sequences\n",
    "from sklearn.feature_extraction.text import TfidfVectorizer,TfidfTransformer,CountVectorizer\n",
    "from keras.layers import LSTM, Activation, Dense, Dropout, Input, Embedding\n",
    "from keras.preprocessing.text import Tokenizer\n",
    "from keras.callbacks import EarlyStopping\n",
    "from keras.preprocessing import sequence\n",
    "from keras.optimizers import RMSprop\n",
    "from keras.models import Model\n",
    "import tensorflow as tf\n",
    "\n",
    "from warnings import filterwarnings\n",
    "filterwarnings(\"ignore\")"
   ]
  },
  {
   "cell_type": "markdown",
   "metadata": {
    "papermill": {
     "duration": 0.062321,
     "end_time": "2021-06-19T02:41:10.788145",
     "exception": false,
     "start_time": "2021-06-19T02:41:10.725824",
     "status": "completed"
    },
    "tags": []
   },
   "source": [
    "### Load the Data"
   ]
  },
  {
   "cell_type": "code",
   "execution_count": 3,
   "metadata": {
    "execution": {
     "iopub.execute_input": "2021-06-19T02:41:10.919961Z",
     "iopub.status.busy": "2021-06-19T02:41:10.919261Z",
     "iopub.status.idle": "2021-06-19T02:41:11.030951Z",
     "shell.execute_reply": "2021-06-19T02:41:11.031667Z",
     "shell.execute_reply.started": "2021-06-19T01:18:27.046975Z"
    },
    "papermill": {
     "duration": 0.180799,
     "end_time": "2021-06-19T02:41:11.031858",
     "exception": false,
     "start_time": "2021-06-19T02:41:10.851059",
     "status": "completed"
    },
    "tags": []
   },
   "outputs": [
    {
     "name": "stdout",
     "output_type": "stream",
     "text": [
      "          id                                              tweet subtask_a  \\\n",
      "0      86426  @USER She should ask a few native Americans wh...       OFF   \n",
      "1      90194  @USER @USER Go home you’re drunk!!! @USER #MAG...       OFF   \n",
      "2      16820  Amazon is investigating Chinese employees who ...       NOT   \n",
      "3      62688  @USER Someone should'veTaken\" this piece of sh...       OFF   \n",
      "4      43605  @USER @USER Obama wanted liberals &amp; illega...       NOT   \n",
      "...      ...                                                ...       ...   \n",
      "13235  95338  @USER Sometimes I get strong vibes from people...       OFF   \n",
      "13236  67210  Benidorm ✅  Creamfields ✅  Maga ✅   Not too sh...       NOT   \n",
      "13237  82921  @USER And why report this garbage.  We don't g...       OFF   \n",
      "13238  27429                                        @USER Pussy       OFF   \n",
      "13239  46552  #Spanishrevenge vs. #justice #HumanRights and ...       NOT   \n",
      "\n",
      "      subtask_b subtask_c  \n",
      "0           UNT       NaN  \n",
      "1           TIN       IND  \n",
      "2           NaN       NaN  \n",
      "3           UNT       NaN  \n",
      "4           NaN       NaN  \n",
      "...         ...       ...  \n",
      "13235       TIN       IND  \n",
      "13236       NaN       NaN  \n",
      "13237       TIN       OTH  \n",
      "13238       UNT       NaN  \n",
      "13239       NaN       NaN  \n",
      "\n",
      "[13240 rows x 5 columns]\n"
     ]
    }
   ],
   "source": [
    "train_data=pd.read_csv('data/olid-training-v1.0.tsv', delimiter='\\t', encoding='utf-8')\n",
    "\n",
    "train_tweets = train_data[['tweet']] #Extract tweets\n",
    "train_task_a_labels= train_data[['subtask_a']] #Extract subtsak_a labels\n",
    "train_task_b_labels= train_data[['subtask_b']] #Extract subtsak_b labels\n",
    "train_task_c_labels= train_data[['subtask_c']] #Extract subtsak_c labels\n",
    "\n",
    "train_task_a_labels.columns.values[0] = 'class_a' #Rename class attribute\n",
    "train_task_b_labels.columns.values[0] = 'class_b' #Rename class attribute\n",
    "train_task_c_labels.columns.values[0] = 'class_c' #Rename class attribute\n",
    "\n",
    "print(train_data)"
   ]
  },
  {
   "cell_type": "markdown",
   "metadata": {
    "papermill": {
     "duration": 0.062943,
     "end_time": "2021-06-19T02:41:11.157141",
     "exception": false,
     "start_time": "2021-06-19T02:41:11.094198",
     "status": "completed"
    },
    "tags": []
   },
   "source": [
    "### Text Preprocessing"
   ]
  },
  {
   "cell_type": "code",
   "execution_count": 4,
   "metadata": {
    "execution": {
     "iopub.execute_input": "2021-06-19T02:41:11.292442Z",
     "iopub.status.busy": "2021-06-19T02:41:11.290313Z",
     "iopub.status.idle": "2021-06-19T02:41:11.293325Z",
     "shell.execute_reply": "2021-06-19T02:41:11.293872Z",
     "shell.execute_reply.started": "2021-06-19T01:18:27.113354Z"
    },
    "papermill": {
     "duration": 0.075318,
     "end_time": "2021-06-19T02:41:11.294050",
     "exception": false,
     "start_time": "2021-06-19T02:41:11.218732",
     "status": "completed"
    },
    "tags": []
   },
   "outputs": [],
   "source": [
    "def clean_tweets(df):\n",
    "    \n",
    "    punctuations = string.punctuation\n",
    "    \n",
    "    df.loc[:, 'tweet'] = df.tweet.str.replace('@USER', '') #Remove mentions (@USER)\n",
    "    df.loc[:, 'tweet'] = df.tweet.str.replace('URL', '') #Remove URLs\n",
    "    df.loc[:, 'tweet'] = df.tweet.str.replace('&amp', 'and') #Replace ampersand (&) with and\n",
    "    df.loc[:, 'tweet'] = df.tweet.str.replace('&lt','') #Remove &lt\n",
    "    df.loc[:, 'tweet'] = df.tweet.str.replace('&gt','') #Remove &gt\n",
    "    df.loc[:, 'tweet'] = df.tweet.str.replace('\\d+','') #Remove numbers\n",
    "    df.loc[:, 'tweet'] = df.tweet.str.lower() #Lowercase\n",
    "\n",
    "    #Remove punctuations\n",
    "    for punctuation in punctuations:\n",
    "        df.loc[:, 'tweet'] = df.tweet.str.replace(punctuation, '')\n",
    "\n",
    "    df.loc[:, 'tweet'] = df.astype(str).apply(\n",
    "        lambda x: x.str.encode('ascii', 'ignore').str.decode('ascii')\n",
    "    )\n",
    "    #Remove emojis\n",
    "    df.loc[:, 'tweet'] = df.tweet.str.strip() #Trim leading and trailing whitespaces"
   ]
  },
  {
   "cell_type": "code",
   "execution_count": 5,
   "metadata": {
    "execution": {
     "iopub.execute_input": "2021-06-19T02:41:11.438197Z",
     "iopub.status.busy": "2021-06-19T02:41:11.427792Z",
     "iopub.status.idle": "2021-06-19T02:41:11.939162Z",
     "shell.execute_reply": "2021-06-19T02:41:11.938549Z",
     "shell.execute_reply.started": "2021-06-19T01:18:27.130303Z"
    },
    "papermill": {
     "duration": 0.585323,
     "end_time": "2021-06-19T02:41:11.939315",
     "exception": false,
     "start_time": "2021-06-19T02:41:11.353992",
     "status": "completed"
    },
    "tags": []
   },
   "outputs": [],
   "source": [
    "clean_tweets(train_tweets)"
   ]
  },
  {
   "cell_type": "code",
   "execution_count": 6,
   "metadata": {
    "execution": {
     "iopub.execute_input": "2021-06-19T02:41:12.075504Z",
     "iopub.status.busy": "2021-06-19T02:41:12.074460Z",
     "iopub.status.idle": "2021-06-19T02:41:12.127167Z",
     "shell.execute_reply": "2021-06-19T02:41:12.126246Z",
     "shell.execute_reply.started": "2021-06-19T01:18:27.653529Z"
    },
    "papermill": {
     "duration": 0.126086,
     "end_time": "2021-06-19T02:41:12.127302",
     "exception": false,
     "start_time": "2021-06-19T02:41:12.001216",
     "status": "completed"
    },
    "tags": []
   },
   "outputs": [],
   "source": [
    "train_task_a_data = train_tweets.join(train_task_a_labels)\n",
    "\n",
    "train_task_b_data = train_tweets.join(train_task_b_labels)\n",
    "train_task_b_data = train_task_b_data.dropna() #Drop records with missing values\n",
    "\n",
    "train_task_c_data = train_tweets.join(train_task_c_labels)\n",
    "train_task_c_data = train_task_c_data.dropna() #Drop records with missing values\n",
    "\n",
    "#Apply quotes to cleaned tweets\n",
    "train_task_a_data.update(train_task_a_data[['tweet']].applymap('\\'{}\\''.format))\n",
    "train_task_b_data.update(train_task_b_data[['tweet']].applymap('\\'{}\\''.format))\n",
    "train_task_c_data.update(train_task_c_data[['tweet']].applymap('\\'{}\\''.format))"
   ]
  },
  {
   "cell_type": "code",
   "execution_count": 7,
   "metadata": {
    "execution": {
     "iopub.execute_input": "2021-06-19T02:41:12.272250Z",
     "iopub.status.busy": "2021-06-19T02:41:12.271224Z",
     "iopub.status.idle": "2021-06-19T02:41:12.279848Z",
     "shell.execute_reply": "2021-06-19T02:41:12.280473Z",
     "shell.execute_reply.started": "2021-06-19T01:18:27.703559Z"
    },
    "papermill": {
     "duration": 0.09195,
     "end_time": "2021-06-19T02:41:12.280650",
     "exception": false,
     "start_time": "2021-06-19T02:41:12.188700",
     "status": "completed"
    },
    "tags": []
   },
   "outputs": [
    {
     "data": {
      "text/html": [
       "<div>\n",
       "<style scoped>\n",
       "    .dataframe tbody tr th:only-of-type {\n",
       "        vertical-align: middle;\n",
       "    }\n",
       "\n",
       "    .dataframe tbody tr th {\n",
       "        vertical-align: top;\n",
       "    }\n",
       "\n",
       "    .dataframe thead th {\n",
       "        text-align: right;\n",
       "    }\n",
       "</style>\n",
       "<table border=\"1\" class=\"dataframe\">\n",
       "  <thead>\n",
       "    <tr style=\"text-align: right;\">\n",
       "      <th></th>\n",
       "      <th>tweet</th>\n",
       "      <th>class_a</th>\n",
       "    </tr>\n",
       "  </thead>\n",
       "  <tbody>\n",
       "    <tr>\n",
       "      <th>0</th>\n",
       "      <td>'she should ask a few native americans what th...</td>\n",
       "      <td>OFF</td>\n",
       "    </tr>\n",
       "    <tr>\n",
       "      <th>1</th>\n",
       "      <td>'go home youre drunk  maga trump'</td>\n",
       "      <td>OFF</td>\n",
       "    </tr>\n",
       "    <tr>\n",
       "      <th>2</th>\n",
       "      <td>'amazon is investigating chinese employees who...</td>\n",
       "      <td>NOT</td>\n",
       "    </tr>\n",
       "    <tr>\n",
       "      <th>3</th>\n",
       "      <td>'someone shouldvetaken this piece of shit to a...</td>\n",
       "      <td>OFF</td>\n",
       "    </tr>\n",
       "    <tr>\n",
       "      <th>4</th>\n",
       "      <td>'obama wanted liberals and illegals to move in...</td>\n",
       "      <td>NOT</td>\n",
       "    </tr>\n",
       "  </tbody>\n",
       "</table>\n",
       "</div>"
      ],
      "text/plain": [
       "                                               tweet class_a\n",
       "0  'she should ask a few native americans what th...     OFF\n",
       "1                  'go home youre drunk  maga trump'     OFF\n",
       "2  'amazon is investigating chinese employees who...     NOT\n",
       "3  'someone shouldvetaken this piece of shit to a...     OFF\n",
       "4  'obama wanted liberals and illegals to move in...     NOT"
      ]
     },
     "execution_count": 7,
     "metadata": {},
     "output_type": "execute_result"
    }
   ],
   "source": [
    "train_task_a_data.head()"
   ]
  },
  {
   "cell_type": "code",
   "execution_count": 8,
   "metadata": {
    "execution": {
     "iopub.execute_input": "2021-06-19T02:41:12.416782Z",
     "iopub.status.busy": "2021-06-19T02:41:12.416087Z",
     "iopub.status.idle": "2021-06-19T02:41:12.628215Z",
     "shell.execute_reply": "2021-06-19T02:41:12.628769Z",
     "shell.execute_reply.started": "2021-06-19T01:18:27.728057Z"
    },
    "papermill": {
     "duration": 0.28661,
     "end_time": "2021-06-19T02:41:12.628942",
     "exception": false,
     "start_time": "2021-06-19T02:41:12.342332",
     "status": "completed"
    },
    "tags": []
   },
   "outputs": [
    {
     "data": {
      "text/html": [
       "<div>\n",
       "<style scoped>\n",
       "    .dataframe tbody tr th:only-of-type {\n",
       "        vertical-align: middle;\n",
       "    }\n",
       "\n",
       "    .dataframe tbody tr th {\n",
       "        vertical-align: top;\n",
       "    }\n",
       "\n",
       "    .dataframe thead th {\n",
       "        text-align: right;\n",
       "    }\n",
       "</style>\n",
       "<table border=\"1\" class=\"dataframe\">\n",
       "  <thead>\n",
       "    <tr style=\"text-align: right;\">\n",
       "      <th></th>\n",
       "      <th>tweet</th>\n",
       "      <th>class_a</th>\n",
       "    </tr>\n",
       "  </thead>\n",
       "  <tbody>\n",
       "    <tr>\n",
       "      <th>0</th>\n",
       "      <td>'whoisq wherestheserver dumpnike declasfisa de...</td>\n",
       "      <td>OFF</td>\n",
       "    </tr>\n",
       "    <tr>\n",
       "      <th>1</th>\n",
       "      <td>'constitutionday is revered by conservatives h...</td>\n",
       "      <td>NOT</td>\n",
       "    </tr>\n",
       "    <tr>\n",
       "      <th>2</th>\n",
       "      <td>'foxnews nra maga potus trump ndamendment rnc ...</td>\n",
       "      <td>NOT</td>\n",
       "    </tr>\n",
       "    <tr>\n",
       "      <th>3</th>\n",
       "      <td>'watching boomer getting the news that she is ...</td>\n",
       "      <td>NOT</td>\n",
       "    </tr>\n",
       "    <tr>\n",
       "      <th>4</th>\n",
       "      <td>'nopasaran unity demo to oppose the farright i...</td>\n",
       "      <td>OFF</td>\n",
       "    </tr>\n",
       "  </tbody>\n",
       "</table>\n",
       "</div>"
      ],
      "text/plain": [
       "                                               tweet class_a\n",
       "0  'whoisq wherestheserver dumpnike declasfisa de...     OFF\n",
       "1  'constitutionday is revered by conservatives h...     NOT\n",
       "2  'foxnews nra maga potus trump ndamendment rnc ...     NOT\n",
       "3  'watching boomer getting the news that she is ...     NOT\n",
       "4  'nopasaran unity demo to oppose the farright i...     OFF"
      ]
     },
     "execution_count": 8,
     "metadata": {},
     "output_type": "execute_result"
    }
   ],
   "source": [
    "#Read tweets from test sets\n",
    "test_tweet_a=pd.read_csv('data/testset-levela.tsv', delimiter='\\t', encoding='utf-8')\n",
    "test_tweet_b=pd.read_csv('data/testset-levelb.tsv', delimiter='\\t', encoding='utf-8')\n",
    "test_tweet_c=pd.read_csv('data/testset-levelc.tsv', delimiter='\\t', encoding='utf-8')\n",
    "\n",
    "#Read tweet labels\n",
    "test_label_a=pd.read_csv('data/labels-levela.csv', encoding='utf-8', \n",
    "                         index_col=False, names=['id', 'class_a'])\n",
    "test_label_b=pd.read_csv('data/labels-levelb.csv', encoding='utf-8', \n",
    "                         index_col=False, names=['id', 'class_b'])\n",
    "test_label_c=pd.read_csv('data/labels-levelc.csv', encoding='utf-8', \n",
    "                         index_col=False, names=['id', 'class_c'])\n",
    "\n",
    "#Merge tweets with labels by id\n",
    "test_tweet_a = test_tweet_a.merge(test_label_a, on='id')\n",
    "test_tweet_b = test_tweet_b.merge(test_label_b, on='id')\n",
    "test_tweet_c = test_tweet_c.merge(test_label_c, on='id')\n",
    "\n",
    "#Drop id column\n",
    "test_tweet_a = test_tweet_a.drop(columns='id')\n",
    "test_tweet_b = test_tweet_b.drop(columns='id')\n",
    "test_tweet_c = test_tweet_c.drop(columns='id')\n",
    "\n",
    "#Clean tweets in test sets\n",
    "clean_tweets(test_tweet_a)\n",
    "clean_tweets(test_tweet_b)\n",
    "clean_tweets(test_tweet_c)\n",
    "\n",
    "#Apply quotes to cleaned tweets\n",
    "test_tweet_a.update(test_tweet_a[['tweet']].applymap('\\'{}\\''.format))\n",
    "test_tweet_b.update(test_tweet_b[['tweet']].applymap('\\'{}\\''.format))\n",
    "test_tweet_c.update(test_tweet_c[['tweet']].applymap('\\'{}\\''.format))\n",
    "\n",
    "test_tweet_a.head()"
   ]
  },
  {
   "cell_type": "code",
   "execution_count": 9,
   "metadata": {
    "execution": {
     "iopub.execute_input": "2021-06-19T02:41:12.767673Z",
     "iopub.status.busy": "2021-06-19T02:41:12.766563Z",
     "iopub.status.idle": "2021-06-19T02:41:12.918290Z",
     "shell.execute_reply": "2021-06-19T02:41:12.918816Z",
     "shell.execute_reply.started": "2021-06-19T01:18:27.917566Z"
    },
    "papermill": {
     "duration": 0.226812,
     "end_time": "2021-06-19T02:41:12.918976",
     "exception": false,
     "start_time": "2021-06-19T02:41:12.692164",
     "status": "completed"
    },
    "tags": []
   },
   "outputs": [
    {
     "data": {
      "image/png": "[encoded data removed]",
      "text/plain": [
       "<Figure size 432x288 with 1 Axes>"
      ]
     },
     "metadata": {
      "needs_background": "light"
     },
     "output_type": "display_data"
    }
   ],
   "source": [
    "def count_classes(df,task):\n",
    "    sns.countplot(df[task])\n",
    "    plt.title(\"Classes in dataset\")\n",
    "\n",
    "count_classes(train_task_a_data,\"class_a\")"
   ]
  },
  {
   "cell_type": "code",
   "execution_count": 10,
   "metadata": {
    "execution": {
     "iopub.execute_input": "2021-06-19T02:41:13.055089Z",
     "iopub.status.busy": "2021-06-19T02:41:13.052641Z",
     "iopub.status.idle": "2021-06-19T02:41:13.339285Z",
     "shell.execute_reply": "2021-06-19T02:41:13.339893Z",
     "shell.execute_reply.started": "2021-06-19T01:18:28.061706Z"
    },
    "papermill": {
     "duration": 0.357775,
     "end_time": "2021-06-19T02:41:13.340071",
     "exception": false,
     "start_time": "2021-06-19T02:41:12.982296",
     "status": "completed"
    },
    "tags": []
   },
   "outputs": [
    {
     "data": {
      "image/png": "[encoded data removed]",
      "text/plain": [
       "<Figure size 432x288 with 1 Axes>"
      ]
     },
     "metadata": {
      "needs_background": "light"
     },
     "output_type": "display_data"
    }
   ],
   "source": [
    "count_classes(test_tweet_a,\"class_a\")"
   ]
  },
  {
   "cell_type": "markdown",
   "metadata": {
    "papermill": {
     "duration": 0.063517,
     "end_time": "2021-06-19T02:41:13.468731",
     "exception": false,
     "start_time": "2021-06-19T02:41:13.405214",
     "status": "completed"
    },
    "tags": []
   },
   "source": [
    "### Bidirectional LSTM"
   ]
  },
  {
   "cell_type": "markdown",
   "metadata": {
    "papermill": {
     "duration": 0.065334,
     "end_time": "2021-06-19T02:41:13.598328",
     "exception": false,
     "start_time": "2021-06-19T02:41:13.532994",
     "status": "completed"
    },
    "tags": []
   },
   "source": [
    "### TASK A"
   ]
  },
  {
   "cell_type": "code",
   "execution_count": 11,
   "metadata": {
    "execution": {
     "iopub.execute_input": "2021-06-19T02:41:13.738519Z",
     "iopub.status.busy": "2021-06-19T02:41:13.737423Z",
     "iopub.status.idle": "2021-06-19T02:41:13.740756Z",
     "shell.execute_reply": "2021-06-19T02:41:13.740179Z",
     "shell.execute_reply.started": "2021-06-19T01:18:28.193559Z"
    },
    "papermill": {
     "duration": 0.078008,
     "end_time": "2021-06-19T02:41:13.740898",
     "exception": false,
     "start_time": "2021-06-19T02:41:13.662890",
     "status": "completed"
    },
    "tags": []
   },
   "outputs": [],
   "source": [
    "# Creating labelEncoder\n",
    "encoder = LabelEncoder()\n",
    "# Converting string labels into numbers.\n",
    "train_task_a_data[\"class_a_code\"] = encoder.fit_transform(train_task_a_data[\"class_a\"])\n",
    "test_tweet_a[\"class_a_code\"] = encoder.fit_transform(test_tweet_a[\"class_a\"])"
   ]
  },
  {
   "cell_type": "code",
   "execution_count": 12,
   "metadata": {
    "execution": {
     "iopub.execute_input": "2021-06-19T02:41:13.905342Z",
     "iopub.status.busy": "2021-06-19T02:41:13.895371Z",
     "iopub.status.idle": "2021-06-19T02:41:14.029683Z",
     "shell.execute_reply": "2021-06-19T02:41:14.030299Z",
     "shell.execute_reply.started": "2021-06-19T01:18:28.208065Z"
    },
    "papermill": {
     "duration": 0.223663,
     "end_time": "2021-06-19T02:41:14.030500",
     "exception": false,
     "start_time": "2021-06-19T02:41:13.806837",
     "status": "completed"
    },
    "tags": []
   },
   "outputs": [
    {
     "data": {
      "text/plain": [
       "array([('OFF', 1), ('NOT', 0)], dtype=object)"
      ]
     },
     "execution_count": 12,
     "metadata": {},
     "output_type": "execute_result"
    }
   ],
   "source": [
    "#Create tuple pair for class and class code\n",
    "train_task_a_data['class-tuple'] = train_task_a_data[['class_a', 'class_a_code']].apply(tuple, axis=1)\n",
    "class_a = train_task_a_data['class-tuple'].unique()\n",
    "class_a"
   ]
  },
  {
   "cell_type": "code",
   "execution_count": 13,
   "metadata": {
    "execution": {
     "iopub.execute_input": "2021-06-19T02:41:14.170128Z",
     "iopub.status.busy": "2021-06-19T02:41:14.169323Z",
     "iopub.status.idle": "2021-06-19T02:41:14.173701Z",
     "shell.execute_reply": "2021-06-19T02:41:14.174495Z",
     "shell.execute_reply.started": "2021-06-19T01:18:28.518175Z"
    },
    "papermill": {
     "duration": 0.078091,
     "end_time": "2021-06-19T02:41:14.174766",
     "exception": false,
     "start_time": "2021-06-19T02:41:14.096675",
     "status": "completed"
    },
    "tags": []
   },
   "outputs": [
    {
     "name": "stdout",
     "output_type": "stream",
     "text": [
      "Shape of train_tweet is (13240,) and shape of train_label is (13240,)\n",
      "Shape of test_tweet is (860,) and shape of test_label is (860,)\n"
     ]
    }
   ],
   "source": [
    "# Label the Data\n",
    "\n",
    "train_tweet = train_task_a_data['tweet']\n",
    "train_label = train_task_a_data['class_a_code']\n",
    "\n",
    "X_test = test_tweet_a['tweet']\n",
    "y_test = test_tweet_a['class_a_code']\n",
    "\n",
    "\n",
    "print(\"Shape of train_tweet is {} and shape of train_label is {}\".format(train_tweet.shape, train_label.shape))\n",
    "print(\"Shape of test_tweet is {} and shape of test_label is {}\".format(X_test.shape, y_test.shape))"
   ]
  },
  {
   "cell_type": "code",
   "execution_count": 14,
   "metadata": {
    "execution": {
     "iopub.execute_input": "2021-06-19T02:41:14.328224Z",
     "iopub.status.busy": "2021-06-19T02:41:14.326779Z",
     "iopub.status.idle": "2021-06-19T02:41:14.336479Z",
     "shell.execute_reply": "2021-06-19T02:41:14.335415Z",
     "shell.execute_reply.started": "2021-06-19T01:18:28.530143Z"
    },
    "papermill": {
     "duration": 0.085517,
     "end_time": "2021-06-19T02:41:14.336717",
     "exception": false,
     "start_time": "2021-06-19T02:41:14.251200",
     "status": "completed"
    },
    "tags": []
   },
   "outputs": [
    {
     "name": "stdout",
     "output_type": "stream",
     "text": [
      "(10592,) (10592,)\n",
      "(2648,) (2648,)\n"
     ]
    }
   ],
   "source": [
    "X_train, X_val, y_train, y_val = train_test_split(train_tweet,train_label,test_size=0.2,random_state=42)\n",
    "\n",
    "print(X_train.shape,y_train.shape)\n",
    "print(X_val.shape,y_val.shape)"
   ]
  },
  {
   "cell_type": "code",
   "execution_count": 15,
   "metadata": {
    "execution": {
     "iopub.execute_input": "2021-06-19T02:41:14.500487Z",
     "iopub.status.busy": "2021-06-19T02:41:14.495861Z",
     "iopub.status.idle": "2021-06-19T02:41:14.775809Z",
     "shell.execute_reply": "2021-06-19T02:41:14.775241Z",
     "shell.execute_reply.started": "2021-06-19T01:18:28.549752Z"
    },
    "papermill": {
     "duration": 0.368671,
     "end_time": "2021-06-19T02:41:14.775960",
     "exception": false,
     "start_time": "2021-06-19T02:41:14.407289",
     "status": "completed"
    },
    "tags": []
   },
   "outputs": [],
   "source": [
    "# TOKENIZER\n",
    "max_features = 10000\n",
    "embedding_dim = 128\n",
    "max_len=500\n",
    "\n",
    "tokenizer=Tokenizer(num_words=max_features,oov_token='</OOV>')\n",
    "tokenizer.fit_on_texts(X_train.values)\n",
    "dic=tokenizer.word_index\n",
    "#print(dic)"
   ]
  },
  {
   "cell_type": "code",
   "execution_count": 16,
   "metadata": {
    "execution": {
     "iopub.execute_input": "2021-06-19T02:41:14.934938Z",
     "iopub.status.busy": "2021-06-19T02:41:14.929770Z",
     "iopub.status.idle": "2021-06-19T02:41:15.226823Z",
     "shell.execute_reply": "2021-06-19T02:41:15.227600Z",
     "shell.execute_reply.started": "2021-06-19T01:18:29.054022Z"
    },
    "papermill": {
     "duration": 0.386244,
     "end_time": "2021-06-19T02:41:15.227900",
     "exception": false,
     "start_time": "2021-06-19T02:41:14.841656",
     "status": "completed"
    },
    "tags": []
   },
   "outputs": [
    {
     "name": "stdout",
     "output_type": "stream",
     "text": [
      "train data tensor: (10592, 500)\n"
     ]
    }
   ],
   "source": [
    "# TRAIN\n",
    "X_train_seq = tokenizer.texts_to_sequences(X_train.values)\n",
    "X_train_pad = pad_sequences(X_train_seq, maxlen=max_len)\n",
    "\n",
    "print(\"train data tensor:\" ,X_train_pad.shape)"
   ]
  },
  {
   "cell_type": "code",
   "execution_count": 17,
   "metadata": {
    "execution": {
     "iopub.execute_input": "2021-06-19T02:41:15.493712Z",
     "iopub.status.busy": "2021-06-19T02:41:15.492682Z",
     "iopub.status.idle": "2021-06-19T02:41:15.628363Z",
     "shell.execute_reply": "2021-06-19T02:41:15.629902Z",
     "shell.execute_reply.started": "2021-06-19T01:18:29.441703Z"
    },
    "papermill": {
     "duration": 0.276804,
     "end_time": "2021-06-19T02:41:15.630156",
     "exception": false,
     "start_time": "2021-06-19T02:41:15.353352",
     "status": "completed"
    },
    "tags": []
   },
   "outputs": [
    {
     "name": "stdout",
     "output_type": "stream",
     "text": [
      "test data tensor: (2648, 500)\n"
     ]
    }
   ],
   "source": [
    "# VAL\n",
    "X_val_seq = tokenizer.texts_to_sequences(X_val.values)\n",
    "X_val_pad = pad_sequences(X_val_seq, maxlen=max_len)\n",
    "\n",
    "print(\"test data tensor:\" ,X_val_pad.shape)"
   ]
  },
  {
   "cell_type": "code",
   "execution_count": 18,
   "metadata": {
    "execution": {
     "iopub.execute_input": "2021-06-19T02:41:15.871211Z",
     "iopub.status.busy": "2021-06-19T02:41:15.870171Z",
     "iopub.status.idle": "2021-06-19T02:41:15.923613Z",
     "shell.execute_reply": "2021-06-19T02:41:15.924125Z",
     "shell.execute_reply.started": "2021-06-19T01:18:29.534116Z"
    },
    "papermill": {
     "duration": 0.180855,
     "end_time": "2021-06-19T02:41:15.924326",
     "exception": false,
     "start_time": "2021-06-19T02:41:15.743471",
     "status": "completed"
    },
    "tags": []
   },
   "outputs": [
    {
     "name": "stdout",
     "output_type": "stream",
     "text": [
      "test data tensor: (860, 500)\n"
     ]
    }
   ],
   "source": [
    "# TEST\n",
    "X_test_seq = tokenizer.texts_to_sequences(X_test.values)\n",
    "X_test_pad = pad_sequences(X_test_seq, maxlen=max_len)\n",
    "\n",
    "print(\"test data tensor:\" ,X_test_pad.shape)"
   ]
  },
  {
   "cell_type": "code",
   "execution_count": 19,
   "metadata": {
    "execution": {
     "iopub.execute_input": "2021-06-19T02:41:16.063190Z",
     "iopub.status.busy": "2021-06-19T02:41:16.062101Z",
     "iopub.status.idle": "2021-06-19T02:41:16.065637Z",
     "shell.execute_reply": "2021-06-19T02:41:16.065139Z",
     "shell.execute_reply.started": "2021-06-19T01:18:29.576315Z"
    },
    "papermill": {
     "duration": 0.074185,
     "end_time": "2021-06-19T02:41:16.065821",
     "exception": false,
     "start_time": "2021-06-19T02:41:15.991636",
     "status": "completed"
    },
    "tags": []
   },
   "outputs": [],
   "source": [
    "from keras.models import Sequential\n",
    "from keras.layers import Embedding\n",
    "from keras.layers import Dense\n",
    "from keras.layers import LSTM\n",
    "from keras.layers import Dropout\n",
    "from keras.layers import Bidirectional"
   ]
  },
  {
   "cell_type": "code",
   "execution_count": 20,
   "metadata": {
    "execution": {
     "iopub.execute_input": "2021-06-19T02:41:16.205050Z",
     "iopub.status.busy": "2021-06-19T02:41:16.204424Z",
     "iopub.status.idle": "2021-06-19T02:41:19.433095Z",
     "shell.execute_reply": "2021-06-19T02:41:19.432466Z",
     "shell.execute_reply.started": "2021-06-19T01:18:29.587482Z"
    },
    "papermill": {
     "duration": 3.301027,
     "end_time": "2021-06-19T02:41:19.433266",
     "exception": false,
     "start_time": "2021-06-19T02:41:16.132239",
     "status": "completed"
    },
    "tags": []
   },
   "outputs": [],
   "source": [
    "model= Sequential()\n",
    "model.add(Embedding(max_features,embedding_dim,input_length=max_len))\n",
    "model.add(Bidirectional(LSTM(128, dropout=0.3)))\n",
    "model.add(Dense(128,activation='relu'))\n",
    "model.add(Dropout(0.3))\n",
    "model.add(Dense(1,activation='sigmoid'))"
   ]
  },
  {
   "cell_type": "code",
   "execution_count": 21,
   "metadata": {
    "execution": {
     "iopub.execute_input": "2021-06-19T02:41:19.576165Z",
     "iopub.status.busy": "2021-06-19T02:41:19.575098Z",
     "iopub.status.idle": "2021-06-19T02:41:19.581818Z",
     "shell.execute_reply": "2021-06-19T02:41:19.582661Z",
     "shell.execute_reply.started": "2021-06-19T01:18:31.293316Z"
    },
    "papermill": {
     "duration": 0.081367,
     "end_time": "2021-06-19T02:41:19.582876",
     "exception": false,
     "start_time": "2021-06-19T02:41:19.501509",
     "status": "completed"
    },
    "tags": []
   },
   "outputs": [
    {
     "name": "stdout",
     "output_type": "stream",
     "text": [
      "Model: \"sequential\"\n",
      "_________________________________________________________________\n",
      "Layer (type)                 Output Shape              Param #   \n",
      "=================================================================\n",
      "embedding (Embedding)        (None, 500, 128)          1280000   \n",
      "_________________________________________________________________\n",
      "bidirectional (Bidirectional (None, 256)               263168    \n",
      "_________________________________________________________________\n",
      "dense (Dense)                (None, 128)               32896     \n",
      "_________________________________________________________________\n",
      "dropout (Dropout)            (None, 128)               0         \n",
      "_________________________________________________________________\n",
      "dense_1 (Dense)              (None, 1)                 129       \n",
      "=================================================================\n",
      "Total params: 1,576,193\n",
      "Trainable params: 1,576,193\n",
      "Non-trainable params: 0\n",
      "_________________________________________________________________\n"
     ]
    }
   ],
   "source": [
    "model.summary()"
   ]
  },
  {
   "cell_type": "code",
   "execution_count": 22,
   "metadata": {
    "execution": {
     "iopub.execute_input": "2021-06-19T02:41:19.728316Z",
     "iopub.status.busy": "2021-06-19T02:41:19.726895Z",
     "iopub.status.idle": "2021-06-19T02:41:19.752232Z",
     "shell.execute_reply": "2021-06-19T02:41:19.752754Z",
     "shell.execute_reply.started": "2021-06-19T01:18:31.307734Z"
    },
    "papermill": {
     "duration": 0.104318,
     "end_time": "2021-06-19T02:41:19.752898",
     "exception": false,
     "start_time": "2021-06-19T02:41:19.648580",
     "status": "completed"
    },
    "tags": []
   },
   "outputs": [],
   "source": [
    "import tensorflow as tf\n",
    "METRICS = [tf.keras.metrics.BinaryAccuracy(),\n",
    "        tf.keras.metrics.Precision(name=\"precision\"),\n",
    "        tf.keras.metrics.Recall(name=\"recall\")]\n",
    "\n",
    "\n",
    "model.compile(loss='binary_crossentropy',optimizer='adam',metrics=METRICS)"
   ]
  },
  {
   "cell_type": "code",
   "execution_count": 23,
   "metadata": {
    "execution": {
     "iopub.execute_input": "2021-06-19T02:41:19.891277Z",
     "iopub.status.busy": "2021-06-19T02:41:19.890414Z",
     "iopub.status.idle": "2021-06-19T02:45:35.645129Z",
     "shell.execute_reply": "2021-06-19T02:45:35.645872Z",
     "shell.execute_reply.started": "2021-06-19T01:18:31.35131Z"
    },
    "papermill": {
     "duration": 255.826958,
     "end_time": "2021-06-19T02:45:35.646159",
     "exception": false,
     "start_time": "2021-06-19T02:41:19.819201",
     "status": "completed"
    },
    "tags": []
   },
   "outputs": [
    {
     "name": "stdout",
     "output_type": "stream",
     "text": [
      "Epoch 1/10\n",
      "331/331 [==============================] - 32s 80ms/step - loss: 0.6233 - binary_accuracy: 0.6798 - precision: 0.4027 - recall: 0.0485 - val_loss: 0.5819 - val_binary_accuracy: 0.7187 - val_precision: 0.7361 - val_recall: 0.2896\n",
      "Epoch 2/10\n",
      "331/331 [==============================] - 25s 75ms/step - loss: 0.4246 - binary_accuracy: 0.8168 - precision: 0.7810 - recall: 0.6032 - val_loss: 0.5433 - val_binary_accuracy: 0.7443 - val_precision: 0.6825 - val_recall: 0.4863\n",
      "Epoch 3/10\n",
      "331/331 [==============================] - 24s 73ms/step - loss: 0.2863 - binary_accuracy: 0.8907 - precision: 0.8655 - recall: 0.7958 - val_loss: 0.6266 - val_binary_accuracy: 0.7134 - val_precision: 0.6048 - val_recall: 0.4918\n",
      "Epoch 4/10\n",
      "331/331 [==============================] - 25s 75ms/step - loss: 0.1982 - binary_accuracy: 0.9285 - precision: 0.9094 - recall: 0.8649 - val_loss: 0.8791 - val_binary_accuracy: 0.7156 - val_precision: 0.5955 - val_recall: 0.5519\n",
      "Epoch 5/10\n",
      "331/331 [==============================] - 25s 75ms/step - loss: 0.1370 - binary_accuracy: 0.9508 - precision: 0.9354 - recall: 0.9111 - val_loss: 0.9256 - val_binary_accuracy: 0.7005 - val_precision: 0.5723 - val_recall: 0.5279\n",
      "Epoch 6/10\n",
      "331/331 [==============================] - 25s 75ms/step - loss: 0.0977 - binary_accuracy: 0.9674 - precision: 0.9546 - recall: 0.9466 - val_loss: 1.0731 - val_binary_accuracy: 0.7009 - val_precision: 0.5728 - val_recall: 0.5290\n",
      "Epoch 7/10\n",
      "331/331 [==============================] - 25s 74ms/step - loss: 0.0682 - binary_accuracy: 0.9752 - precision: 0.9664 - recall: 0.9592 - val_loss: 1.4216 - val_binary_accuracy: 0.6983 - val_precision: 0.5736 - val_recall: 0.4940\n",
      "Epoch 8/10\n",
      "331/331 [==============================] - 25s 75ms/step - loss: 0.0611 - binary_accuracy: 0.9782 - precision: 0.9726 - recall: 0.9618 - val_loss: 1.4338 - val_binary_accuracy: 0.7115 - val_precision: 0.5947 - val_recall: 0.5180\n",
      "Epoch 9/10\n",
      "331/331 [==============================] - 25s 76ms/step - loss: 0.0518 - binary_accuracy: 0.9816 - precision: 0.9783 - recall: 0.9653 - val_loss: 1.3732 - val_binary_accuracy: 0.7024 - val_precision: 0.5732 - val_recall: 0.5432\n",
      "Epoch 10/10\n",
      "331/331 [==============================] - 25s 74ms/step - loss: 0.0505 - binary_accuracy: 0.9816 - precision: 0.9775 - recall: 0.9646 - val_loss: 1.5492 - val_binary_accuracy: 0.7066 - val_precision: 0.5831 - val_recall: 0.5290\n"
     ]
    }
   ],
   "source": [
    "epochs = 10\n",
    "\n",
    "# Fit the model using the train and test datasets.\n",
    "history = model.fit(X_train_pad,y_train,validation_data=(X_val_pad,y_val), epochs=epochs)"
   ]
  },
  {
   "cell_type": "code",
   "execution_count": 24,
   "metadata": {
    "execution": {
     "iopub.execute_input": "2021-06-19T02:45:38.027231Z",
     "iopub.status.busy": "2021-06-19T02:45:38.026211Z",
     "iopub.status.idle": "2021-06-19T02:45:38.761711Z",
     "shell.execute_reply": "2021-06-19T02:45:38.762263Z",
     "shell.execute_reply.started": "2021-06-19T01:22:35.044964Z"
    },
    "papermill": {
     "duration": 1.919656,
     "end_time": "2021-06-19T02:45:38.762436",
     "exception": false,
     "start_time": "2021-06-19T02:45:36.842780",
     "status": "completed"
    },
    "tags": []
   },
   "outputs": [
    {
     "name": "stdout",
     "output_type": "stream",
     "text": [
      "27/27 [==============================] - 1s 25ms/step - loss: 1.3036 - binary_accuracy: 0.7453 - precision: 0.5459 - recall: 0.5208\n",
      "{'loss': 1.3035882711410522, 'binary_accuracy': 0.7453488111495972, 'precision': 0.5458515286445618, 'recall': 0.5208333134651184}\n"
     ]
    }
   ],
   "source": [
    "scores = model.evaluate(X_test_pad, y_test, return_dict=True)\n",
    "\n",
    "print(scores)"
   ]
  },
  {
   "cell_type": "code",
   "execution_count": 25,
   "metadata": {
    "execution": {
     "iopub.execute_input": "2021-06-19T02:45:41.412689Z",
     "iopub.status.busy": "2021-06-19T02:45:41.411102Z",
     "iopub.status.idle": "2021-06-19T02:45:42.709940Z",
     "shell.execute_reply": "2021-06-19T02:45:42.708955Z",
     "shell.execute_reply.started": "2021-06-19T01:22:35.712025Z"
    },
    "papermill": {
     "duration": 2.483996,
     "end_time": "2021-06-19T02:45:42.710111",
     "exception": false,
     "start_time": "2021-06-19T02:45:40.226115",
     "status": "completed"
    },
    "tags": []
   },
   "outputs": [],
   "source": [
    "y_pred = model.predict(X_test_pad)"
   ]
  },
  {
   "cell_type": "code",
   "execution_count": 26,
   "metadata": {
    "execution": {
     "iopub.execute_input": "2021-06-19T02:45:45.023144Z",
     "iopub.status.busy": "2021-06-19T02:45:45.022370Z",
     "iopub.status.idle": "2021-06-19T02:45:45.025548Z",
     "shell.execute_reply": "2021-06-19T02:45:45.026005Z",
     "shell.execute_reply.started": "2021-06-19T01:22:36.995595Z"
    },
    "papermill": {
     "duration": 1.161551,
     "end_time": "2021-06-19T02:45:45.026184",
     "exception": false,
     "start_time": "2021-06-19T02:45:43.864633",
     "status": "completed"
    },
    "tags": []
   },
   "outputs": [],
   "source": [
    "for i in range(len(y_pred)):\n",
    "    if(y_pred[i] > 0.5):\n",
    "        y_pred[i] = 1\n",
    "    else:\n",
    "        y_pred[i] =0 "
   ]
  },
  {
   "cell_type": "code",
   "execution_count": 27,
   "metadata": {
    "execution": {
     "iopub.execute_input": "2021-06-19T02:45:47.343937Z",
     "iopub.status.busy": "2021-06-19T02:45:47.342835Z",
     "iopub.status.idle": "2021-06-19T02:45:47.354154Z",
     "shell.execute_reply": "2021-06-19T02:45:47.354683Z",
     "shell.execute_reply.started": "2021-06-19T01:22:37.010274Z"
    },
    "papermill": {
     "duration": 1.178877,
     "end_time": "2021-06-19T02:45:47.354861",
     "exception": false,
     "start_time": "2021-06-19T02:45:46.175984",
     "status": "completed"
    },
    "tags": []
   },
   "outputs": [
    {
     "name": "stdout",
     "output_type": "stream",
     "text": [
      "              precision    recall  f1-score   support\n",
      "\n",
      "           0       0.82      0.83      0.82       620\n",
      "           1       0.55      0.52      0.53       240\n",
      "\n",
      "    accuracy                           0.75       860\n",
      "   macro avg       0.68      0.68      0.68       860\n",
      "weighted avg       0.74      0.75      0.74       860\n",
      "\n"
     ]
    }
   ],
   "source": [
    "print(classification_report(y_test,y_pred))"
   ]
  },
  {
   "cell_type": "code",
   "execution_count": 28,
   "metadata": {
    "execution": {
     "iopub.execute_input": "2021-06-19T02:45:49.698557Z",
     "iopub.status.busy": "2021-06-19T02:45:49.697564Z",
     "iopub.status.idle": "2021-06-19T02:45:50.047644Z",
     "shell.execute_reply": "2021-06-19T02:45:50.047090Z",
     "shell.execute_reply.started": "2021-06-19T01:22:37.034868Z"
    },
    "papermill": {
     "duration": 1.54032,
     "end_time": "2021-06-19T02:45:50.047796",
     "exception": false,
     "start_time": "2021-06-19T02:45:48.507476",
     "status": "completed"
    },
    "tags": []
   },
   "outputs": [
    {
     "data": {
      "image/png": "[encoded data removed]",
      "text/plain": [
       "<Figure size 432x288 with 2 Axes>"
      ]
     },
     "metadata": {
      "needs_background": "light"
     },
     "output_type": "display_data"
    }
   ],
   "source": [
    "def plot_conf_matrix(test_label,predicted_label):\n",
    "    cm = confusion_matrix(test_label,predicted_label)\n",
    "    class_names=[0,1] # name  of classes\n",
    "    fig, ax = plt.subplots()\n",
    "    tick_marks = np.arange(len(class_names))\n",
    "    plt.xticks(tick_marks, class_names)\n",
    "    plt.yticks(tick_marks, class_names)\n",
    "    # create heatmap\n",
    "    sns.heatmap(pd.DataFrame(cm), annot=True, cmap=\"BuPu\" ,fmt='g')\n",
    "    ax.xaxis.set_label_position(\"top\")\n",
    "    plt.tight_layout()\n",
    "    plt.title('Confusion matrix', y=1.1)\n",
    "    plt.ylabel('Actual label')\n",
    "    plt.xlabel('Predicted label');\n",
    "\n",
    "plot_conf_matrix(y_test,y_pred)"
   ]
  },
  {
   "cell_type": "markdown",
   "metadata": {
    "papermill": {
     "duration": 1.193508,
     "end_time": "2021-06-19T02:45:52.723008",
     "exception": false,
     "start_time": "2021-06-19T02:45:51.529500",
     "status": "completed"
    },
    "tags": []
   },
   "source": [
    "### TASK B"
   ]
  },
  {
   "cell_type": "code",
   "execution_count": 29,
   "metadata": {
    "execution": {
     "iopub.execute_input": "2021-06-19T02:45:55.063801Z",
     "iopub.status.busy": "2021-06-19T02:45:55.063024Z",
     "iopub.status.idle": "2021-06-19T02:45:55.067107Z",
     "shell.execute_reply": "2021-06-19T02:45:55.067575Z",
     "shell.execute_reply.started": "2021-06-19T01:22:37.387407Z"
    },
    "papermill": {
     "duration": 1.185677,
     "end_time": "2021-06-19T02:45:55.067732",
     "exception": false,
     "start_time": "2021-06-19T02:45:53.882055",
     "status": "completed"
    },
    "tags": []
   },
   "outputs": [
    {
     "data": {
      "text/html": [
       "<div>\n",
       "<style scoped>\n",
       "    .dataframe tbody tr th:only-of-type {\n",
       "        vertical-align: middle;\n",
       "    }\n",
       "\n",
       "    .dataframe tbody tr th {\n",
       "        vertical-align: top;\n",
       "    }\n",
       "\n",
       "    .dataframe thead th {\n",
       "        text-align: right;\n",
       "    }\n",
       "</style>\n",
       "<table border=\"1\" class=\"dataframe\">\n",
       "  <thead>\n",
       "    <tr style=\"text-align: right;\">\n",
       "      <th></th>\n",
       "      <th>tweet</th>\n",
       "      <th>class_a</th>\n",
       "      <th>class_a_code</th>\n",
       "      <th>predicted</th>\n",
       "    </tr>\n",
       "  </thead>\n",
       "  <tbody>\n",
       "    <tr>\n",
       "      <th>0</th>\n",
       "      <td>'whoisq wherestheserver dumpnike declasfisa de...</td>\n",
       "      <td>OFF</td>\n",
       "      <td>1</td>\n",
       "      <td>1.0</td>\n",
       "    </tr>\n",
       "    <tr>\n",
       "      <th>1</th>\n",
       "      <td>'constitutionday is revered by conservatives h...</td>\n",
       "      <td>NOT</td>\n",
       "      <td>0</td>\n",
       "      <td>1.0</td>\n",
       "    </tr>\n",
       "    <tr>\n",
       "      <th>5</th>\n",
       "      <td>'what the fuck did he do this time'</td>\n",
       "      <td>OFF</td>\n",
       "      <td>1</td>\n",
       "      <td>1.0</td>\n",
       "    </tr>\n",
       "    <tr>\n",
       "      <th>6</th>\n",
       "      <td>'rap is a form of art used to express yourself...</td>\n",
       "      <td>NOT</td>\n",
       "      <td>0</td>\n",
       "      <td>1.0</td>\n",
       "    </tr>\n",
       "    <tr>\n",
       "      <th>12</th>\n",
       "      <td>'constoo the place for fed up conservatives'</td>\n",
       "      <td>NOT</td>\n",
       "      <td>0</td>\n",
       "      <td>1.0</td>\n",
       "    </tr>\n",
       "  </tbody>\n",
       "</table>\n",
       "</div>"
      ],
      "text/plain": [
       "                                                tweet class_a  class_a_code  \\\n",
       "0   'whoisq wherestheserver dumpnike declasfisa de...     OFF             1   \n",
       "1   'constitutionday is revered by conservatives h...     NOT             0   \n",
       "5                 'what the fuck did he do this time'     OFF             1   \n",
       "6   'rap is a form of art used to express yourself...     NOT             0   \n",
       "12       'constoo the place for fed up conservatives'     NOT             0   \n",
       "\n",
       "    predicted  \n",
       "0         1.0  \n",
       "1         1.0  \n",
       "5         1.0  \n",
       "6         1.0  \n",
       "12        1.0  "
      ]
     },
     "execution_count": 29,
     "metadata": {},
     "output_type": "execute_result"
    }
   ],
   "source": [
    "# Our predicted OFF - offensive data\n",
    "df_pred = pd.DataFrame(data=y_pred,columns=[\"predicted\"])\n",
    "predicted_data = pd.concat([test_tweet_a, df_pred],axis=1)\n",
    "off_data = predicted_data[predicted_data.predicted ==1]\n",
    "off_data.head()"
   ]
  },
  {
   "cell_type": "code",
   "execution_count": 30,
   "metadata": {
    "execution": {
     "iopub.execute_input": "2021-06-19T02:45:57.373233Z",
     "iopub.status.busy": "2021-06-19T02:45:57.372310Z",
     "iopub.status.idle": "2021-06-19T02:45:57.389287Z",
     "shell.execute_reply": "2021-06-19T02:45:57.390015Z",
     "shell.execute_reply.started": "2021-06-19T01:22:37.407709Z"
    },
    "papermill": {
     "duration": 1.173349,
     "end_time": "2021-06-19T02:45:57.390176",
     "exception": false,
     "start_time": "2021-06-19T02:45:56.216827",
     "status": "completed"
    },
    "tags": []
   },
   "outputs": [
    {
     "name": "stdout",
     "output_type": "stream",
     "text": [
      "(126, 2)\n"
     ]
    },
    {
     "data": {
      "text/html": [
       "<div>\n",
       "<style scoped>\n",
       "    .dataframe tbody tr th:only-of-type {\n",
       "        vertical-align: middle;\n",
       "    }\n",
       "\n",
       "    .dataframe tbody tr th {\n",
       "        vertical-align: top;\n",
       "    }\n",
       "\n",
       "    .dataframe thead th {\n",
       "        text-align: right;\n",
       "    }\n",
       "</style>\n",
       "<table border=\"1\" class=\"dataframe\">\n",
       "  <thead>\n",
       "    <tr style=\"text-align: right;\">\n",
       "      <th></th>\n",
       "      <th>tweet</th>\n",
       "      <th>class_b</th>\n",
       "    </tr>\n",
       "  </thead>\n",
       "  <tbody>\n",
       "    <tr>\n",
       "      <th>0</th>\n",
       "      <td>'whoisq wherestheserver dumpnike declasfisa de...</td>\n",
       "      <td>TIN</td>\n",
       "    </tr>\n",
       "    <tr>\n",
       "      <th>1</th>\n",
       "      <td>'what the fuck did he do this time'</td>\n",
       "      <td>TIN</td>\n",
       "    </tr>\n",
       "    <tr>\n",
       "      <th>2</th>\n",
       "      <td>'nigga ware da hits at'</td>\n",
       "      <td>UNT</td>\n",
       "    </tr>\n",
       "    <tr>\n",
       "      <th>3</th>\n",
       "      <td>'all familyfriends  do not tell me  bad shit t...</td>\n",
       "      <td>TIN</td>\n",
       "    </tr>\n",
       "    <tr>\n",
       "      <th>4</th>\n",
       "      <td>'arianaasesina is that serious holy shit pleas...</td>\n",
       "      <td>TIN</td>\n",
       "    </tr>\n",
       "  </tbody>\n",
       "</table>\n",
       "</div>"
      ],
      "text/plain": [
       "                                               tweet class_b\n",
       "0  'whoisq wherestheserver dumpnike declasfisa de...     TIN\n",
       "1                'what the fuck did he do this time'     TIN\n",
       "2                            'nigga ware da hits at'     UNT\n",
       "3  'all familyfriends  do not tell me  bad shit t...     TIN\n",
       "4  'arianaasesina is that serious holy shit pleas...     TIN"
      ]
     },
     "execution_count": 30,
     "metadata": {},
     "output_type": "execute_result"
    }
   ],
   "source": [
    "# prepare test data for task B\n",
    "test_b = off_data.merge(test_tweet_b,on=\"tweet\")\n",
    "test_b = test_b[[\"tweet\",\"class_b\"]]\n",
    "print(test_b.shape)\n",
    "test_b.head()"
   ]
  },
  {
   "cell_type": "code",
   "execution_count": 31,
   "metadata": {
    "execution": {
     "iopub.execute_input": "2021-06-19T02:45:59.729511Z",
     "iopub.status.busy": "2021-06-19T02:45:59.728441Z",
     "iopub.status.idle": "2021-06-19T02:46:00.707783Z",
     "shell.execute_reply": "2021-06-19T02:46:00.706995Z",
     "shell.execute_reply.started": "2021-06-19T01:22:37.434454Z"
    },
    "papermill": {
     "duration": 2.134339,
     "end_time": "2021-06-19T02:46:00.707917",
     "exception": false,
     "start_time": "2021-06-19T02:45:58.573578",
     "status": "completed"
    },
    "tags": []
   },
   "outputs": [
    {
     "name": "stdout",
     "output_type": "stream",
     "text": [
      "Data shape without undersampling: (4400, 2)\n",
      "Data shape with undersampling (1524, 2)\n"
     ]
    },
    {
     "data": {
      "text/html": [
       "<div>\n",
       "<style scoped>\n",
       "    .dataframe tbody tr th:only-of-type {\n",
       "        vertical-align: middle;\n",
       "    }\n",
       "\n",
       "    .dataframe tbody tr th {\n",
       "        vertical-align: top;\n",
       "    }\n",
       "\n",
       "    .dataframe thead th {\n",
       "        text-align: right;\n",
       "    }\n",
       "</style>\n",
       "<table border=\"1\" class=\"dataframe\">\n",
       "  <thead>\n",
       "    <tr style=\"text-align: right;\">\n",
       "      <th></th>\n",
       "      <th>tweet</th>\n",
       "      <th>class_b</th>\n",
       "    </tr>\n",
       "  </thead>\n",
       "  <tbody>\n",
       "    <tr>\n",
       "      <th>0</th>\n",
       "      <td>'she should ask a few native americans what th...</td>\n",
       "      <td>UNT</td>\n",
       "    </tr>\n",
       "    <tr>\n",
       "      <th>3</th>\n",
       "      <td>'someone shouldvetaken this piece of shit to a...</td>\n",
       "      <td>UNT</td>\n",
       "    </tr>\n",
       "    <tr>\n",
       "      <th>6</th>\n",
       "      <td>'oh noes tough shit'</td>\n",
       "      <td>UNT</td>\n",
       "    </tr>\n",
       "    <tr>\n",
       "      <th>29</th>\n",
       "      <td>'she  to whom are you referring to  hillary  y...</td>\n",
       "      <td>UNT</td>\n",
       "    </tr>\n",
       "    <tr>\n",
       "      <th>111</th>\n",
       "      <td>'its literally a narrative that is on par with...</td>\n",
       "      <td>UNT</td>\n",
       "    </tr>\n",
       "  </tbody>\n",
       "</table>\n",
       "</div>"
      ],
      "text/plain": [
       "                                                 tweet class_b\n",
       "0    'she should ask a few native americans what th...     UNT\n",
       "3    'someone shouldvetaken this piece of shit to a...     UNT\n",
       "6                                 'oh noes tough shit'     UNT\n",
       "29   'she  to whom are you referring to  hillary  y...     UNT\n",
       "111  'its literally a narrative that is on par with...     UNT"
      ]
     },
     "execution_count": 31,
     "metadata": {},
     "output_type": "execute_result"
    }
   ],
   "source": [
    "# prepare train data for task B\n",
    "# dataframe task_a and task_b merged\n",
    "df_a_b = pd.concat([train_task_a_data,train_task_b_data],axis=1)\n",
    "df_a_b = df_a_b[df_a_b.class_a ==\"OFF\"]\n",
    "df_a_b = df_a_b[[\"tweet\",\"class_b\"]]\n",
    "df_a_b= df_a_b.T.drop_duplicates().T\n",
    "train_b = df_a_b.copy()\n",
    "print(\"Data shape without undersampling:\",train_b.shape)\n",
    "train_b.head()\n",
    "\n",
    "train_b_unt = train_b[train_b[\"class_b\"] == \"UNT\"]\n",
    "train_b_tin = train_b[train_b[\"class_b\"] == \"TIN\"]\n",
    "train_b_tin = train_b_tin.sample(1000)\n",
    "train_b_new = pd.concat([train_b_unt,train_b_tin])\n",
    "print(\"Data shape with undersampling\",train_b_new.shape)\n",
    "train_b_new.head()"
   ]
  },
  {
   "cell_type": "code",
   "execution_count": 32,
   "metadata": {
    "execution": {
     "iopub.execute_input": "2021-06-19T02:46:03.323912Z",
     "iopub.status.busy": "2021-06-19T02:46:03.322845Z",
     "iopub.status.idle": "2021-06-19T02:46:03.452226Z",
     "shell.execute_reply": "2021-06-19T02:46:03.451672Z",
     "shell.execute_reply.started": "2021-06-19T01:22:38.414959Z"
    },
    "papermill": {
     "duration": 1.301287,
     "end_time": "2021-06-19T02:46:03.452370",
     "exception": false,
     "start_time": "2021-06-19T02:46:02.151083",
     "status": "completed"
    },
    "tags": []
   },
   "outputs": [
    {
     "data": {
      "image/png": "[encoded data removed]",
      "text/plain": [
       "<Figure size 432x288 with 1 Axes>"
      ]
     },
     "metadata": {
      "needs_background": "light"
     },
     "output_type": "display_data"
    }
   ],
   "source": [
    "# Before under-sampling the train data<\n",
    "count_classes(train_b,\"class_b\")"
   ]
  },
  {
   "cell_type": "code",
   "execution_count": 33,
   "metadata": {
    "execution": {
     "iopub.execute_input": "2021-06-19T02:46:06.026923Z",
     "iopub.status.busy": "2021-06-19T02:46:06.025873Z",
     "iopub.status.idle": "2021-06-19T02:46:06.221208Z",
     "shell.execute_reply": "2021-06-19T02:46:06.222597Z",
     "shell.execute_reply.started": "2021-06-19T01:22:38.567433Z"
    },
    "papermill": {
     "duration": 1.627721,
     "end_time": "2021-06-19T02:46:06.222893",
     "exception": false,
     "start_time": "2021-06-19T02:46:04.595172",
     "status": "completed"
    },
    "tags": []
   },
   "outputs": [
    {
     "data": {
      "image/png": "[encoded data removed]",
      "text/plain": [
       "<Figure size 432x288 with 1 Axes>"
      ]
     },
     "metadata": {
      "needs_background": "light"
     },
     "output_type": "display_data"
    }
   ],
   "source": [
    "# After under-sampling the train data\n",
    "count_classes(train_b_new,\"class_b\")"
   ]
  },
  {
   "cell_type": "code",
   "execution_count": 34,
   "metadata": {
    "execution": {
     "iopub.execute_input": "2021-06-19T02:46:08.936044Z",
     "iopub.status.busy": "2021-06-19T02:46:08.920569Z",
     "iopub.status.idle": "2021-06-19T02:46:09.028787Z",
     "shell.execute_reply": "2021-06-19T02:46:09.028239Z",
     "shell.execute_reply.started": "2021-06-19T01:22:38.702417Z"
    },
    "papermill": {
     "duration": 1.343837,
     "end_time": "2021-06-19T02:46:09.028916",
     "exception": false,
     "start_time": "2021-06-19T02:46:07.685079",
     "status": "completed"
    },
    "tags": []
   },
   "outputs": [
    {
     "data": {
      "image/png": "[encoded data removed]",
      "text/plain": [
       "<Figure size 432x288 with 1 Axes>"
      ]
     },
     "metadata": {
      "needs_background": "light"
     },
     "output_type": "display_data"
    }
   ],
   "source": [
    "# Plot test data \n",
    "count_classes(test_b,\"class_b\")"
   ]
  },
  {
   "cell_type": "code",
   "execution_count": 35,
   "metadata": {
    "execution": {
     "iopub.execute_input": "2021-06-19T02:46:11.388368Z",
     "iopub.status.busy": "2021-06-19T02:46:11.387446Z",
     "iopub.status.idle": "2021-06-19T02:46:11.392074Z",
     "shell.execute_reply": "2021-06-19T02:46:11.391147Z",
     "shell.execute_reply.started": "2021-06-19T01:22:39.032229Z"
    },
    "papermill": {
     "duration": 1.188221,
     "end_time": "2021-06-19T02:46:11.392210",
     "exception": false,
     "start_time": "2021-06-19T02:46:10.203989",
     "status": "completed"
    },
    "tags": []
   },
   "outputs": [],
   "source": [
    "#creating labelEncoder\n",
    "encoder = LabelEncoder()\n",
    "# Converting string labels into numbers.\n",
    "train_b[\"class_b_code\"] = encoder.fit_transform(train_b[\"class_b\"])\n",
    "train_b_new[\"class_b_code\"] = encoder.fit_transform(train_b_new[\"class_b\"])\n",
    "test_b[\"class_b_code\"] = encoder.fit_transform(test_b[\"class_b\"])"
   ]
  },
  {
   "cell_type": "code",
   "execution_count": 36,
   "metadata": {
    "execution": {
     "iopub.execute_input": "2021-06-19T02:46:14.118363Z",
     "iopub.status.busy": "2021-06-19T02:46:14.117359Z",
     "iopub.status.idle": "2021-06-19T02:46:14.172396Z",
     "shell.execute_reply": "2021-06-19T02:46:14.171724Z",
     "shell.execute_reply.started": "2021-06-19T01:22:39.046244Z"
    },
    "papermill": {
     "duration": 1.349511,
     "end_time": "2021-06-19T02:46:14.172518",
     "exception": false,
     "start_time": "2021-06-19T02:46:12.823007",
     "status": "completed"
    },
    "tags": []
   },
   "outputs": [
    {
     "data": {
      "text/plain": [
       "array([('UNT', 1), ('TIN', 0)], dtype=object)"
      ]
     },
     "execution_count": 36,
     "metadata": {},
     "output_type": "execute_result"
    }
   ],
   "source": [
    "#Create tuple pair for class and class code\n",
    "train_b['class-tuple'] = train_b[['class_b', 'class_b_code']].apply(tuple, axis=1)\n",
    "class_b = train_b['class-tuple'].unique()\n",
    "class_b"
   ]
  },
  {
   "cell_type": "code",
   "execution_count": 37,
   "metadata": {
    "execution": {
     "iopub.execute_input": "2021-06-19T02:46:16.731129Z",
     "iopub.status.busy": "2021-06-19T02:46:16.729745Z",
     "iopub.status.idle": "2021-06-19T02:46:16.736066Z",
     "shell.execute_reply": "2021-06-19T02:46:16.735245Z",
     "shell.execute_reply.started": "2021-06-19T01:48:30.662062Z"
    },
    "papermill": {
     "duration": 1.313503,
     "end_time": "2021-06-19T02:46:16.736313",
     "exception": false,
     "start_time": "2021-06-19T02:46:15.422810",
     "status": "completed"
    },
    "tags": []
   },
   "outputs": [
    {
     "name": "stdout",
     "output_type": "stream",
     "text": [
      "Shape of X_train is (1066,) and shape of y_train is (1066,)\n",
      "Shape of X_test is (126,) and shape of y_test is (126,)\n",
      "Shape of test_tweets is (126,) and shape of test_labels is (126,)\n"
     ]
    }
   ],
   "source": [
    "# Set the labels and train-test split\n",
    "\n",
    "train_tweets = train_b_new['tweet']\n",
    "train_labels = train_b_new['class_b_code']\n",
    "\n",
    "X_test = test_b['tweet']\n",
    "y_test = test_b['class_b_code']\n",
    "\n",
    "X_train,X_val,y_train,y_val = train_test_split(train_tweets,train_labels,test_size=0.30,random_state=42)\n",
    "\n",
    "print(\"Shape of X_train is {} and shape of y_train is {}\".format(X_train.shape, y_train.shape))\n",
    "print(\"Shape of X_test is {} and shape of y_test is {}\".format(X_test.shape, y_test.shape))\n",
    "\n",
    "print(\"Shape of test_tweets is {} and shape of test_labels is {}\".format(X_test.shape, y_test.shape))"
   ]
  },
  {
   "cell_type": "code",
   "execution_count": 38,
   "metadata": {
    "execution": {
     "iopub.execute_input": "2021-06-19T02:46:19.129075Z",
     "iopub.status.busy": "2021-06-19T02:46:19.114129Z",
     "iopub.status.idle": "2021-06-19T02:46:19.145628Z",
     "shell.execute_reply": "2021-06-19T02:46:19.144678Z",
     "shell.execute_reply.started": "2021-06-19T01:48:31.459397Z"
    },
    "papermill": {
     "duration": 1.2068,
     "end_time": "2021-06-19T02:46:19.145832",
     "exception": false,
     "start_time": "2021-06-19T02:46:17.939032",
     "status": "completed"
    },
    "tags": []
   },
   "outputs": [
    {
     "name": "stdout",
     "output_type": "stream",
     "text": [
      "train data tensor: (1066, 500)\n"
     ]
    }
   ],
   "source": [
    "# TRAIN\n",
    "X_train_seq = tokenizer.texts_to_sequences(X_train.values)\n",
    "X_train_pad = pad_sequences(X_train_seq, maxlen=max_len)\n",
    "\n",
    "print(\"train data tensor:\" ,X_train_pad.shape)"
   ]
  },
  {
   "cell_type": "code",
   "execution_count": 39,
   "metadata": {
    "execution": {
     "iopub.execute_input": "2021-06-19T02:46:21.492799Z",
     "iopub.status.busy": "2021-06-19T02:46:21.491806Z",
     "iopub.status.idle": "2021-06-19T02:46:21.502742Z",
     "shell.execute_reply": "2021-06-19T02:46:21.503503Z",
     "shell.execute_reply.started": "2021-06-19T01:48:31.919123Z"
    },
    "papermill": {
     "duration": 1.188715,
     "end_time": "2021-06-19T02:46:21.503729",
     "exception": false,
     "start_time": "2021-06-19T02:46:20.315014",
     "status": "completed"
    },
    "tags": []
   },
   "outputs": [
    {
     "name": "stdout",
     "output_type": "stream",
     "text": [
      "test data tensor: (458, 500)\n"
     ]
    }
   ],
   "source": [
    "# VAL\n",
    "X_val_seq = tokenizer.texts_to_sequences(X_val.values)\n",
    "X_val_pad = pad_sequences(X_val_seq, maxlen=max_len)\n",
    "\n",
    "print(\"test data tensor:\" ,X_val_pad.shape)"
   ]
  },
  {
   "cell_type": "code",
   "execution_count": 40,
   "metadata": {
    "execution": {
     "iopub.execute_input": "2021-06-19T02:46:24.172058Z",
     "iopub.status.busy": "2021-06-19T02:46:24.171297Z",
     "iopub.status.idle": "2021-06-19T02:46:24.176150Z",
     "shell.execute_reply": "2021-06-19T02:46:24.177104Z",
     "shell.execute_reply.started": "2021-06-19T01:48:32.193901Z"
    },
    "papermill": {
     "duration": 1.481777,
     "end_time": "2021-06-19T02:46:24.177399",
     "exception": false,
     "start_time": "2021-06-19T02:46:22.695622",
     "status": "completed"
    },
    "tags": []
   },
   "outputs": [
    {
     "name": "stdout",
     "output_type": "stream",
     "text": [
      "test data tensor: (126, 500)\n"
     ]
    }
   ],
   "source": [
    "# TEST\n",
    "X_test_seq = tokenizer.texts_to_sequences(X_test.values)\n",
    "X_test_pad = pad_sequences(X_test_seq, maxlen=max_len)\n",
    "\n",
    "print(\"test data tensor:\" ,X_test_pad.shape)"
   ]
  },
  {
   "cell_type": "code",
   "execution_count": 41,
   "metadata": {
    "execution": {
     "iopub.execute_input": "2021-06-19T02:46:26.547129Z",
     "iopub.status.busy": "2021-06-19T02:46:26.545464Z",
     "iopub.status.idle": "2021-06-19T02:46:58.629294Z",
     "shell.execute_reply": "2021-06-19T02:46:58.621366Z",
     "shell.execute_reply.started": "2021-06-19T01:48:32.439285Z"
    },
    "papermill": {
     "duration": 33.250549,
     "end_time": "2021-06-19T02:46:58.629478",
     "exception": false,
     "start_time": "2021-06-19T02:46:25.378929",
     "status": "completed"
    },
    "tags": []
   },
   "outputs": [
    {
     "name": "stdout",
     "output_type": "stream",
     "text": [
      "Epoch 1/10\n",
      "34/34 [==============================] - 5s 84ms/step - loss: 1.1302 - binary_accuracy: 0.5966 - precision: 0.3391 - recall: 0.1578 - val_loss: 0.6385 - val_binary_accuracy: 0.6725 - val_precision: 0.0000e+00 - val_recall: 0.0000e+00\n",
      "Epoch 2/10\n",
      "34/34 [==============================] - 3s 85ms/step - loss: 0.6341 - binary_accuracy: 0.6529 - precision: 1.0000 - recall: 0.0107 - val_loss: 0.6412 - val_binary_accuracy: 0.6703 - val_precision: 0.4667 - val_recall: 0.0467\n",
      "Epoch 3/10\n",
      "34/34 [==============================] - 3s 83ms/step - loss: 0.5988 - binary_accuracy: 0.6698 - precision: 0.6341 - recall: 0.1390 - val_loss: 0.6489 - val_binary_accuracy: 0.6528 - val_precision: 0.4483 - val_recall: 0.2600\n",
      "Epoch 4/10\n",
      "34/34 [==============================] - 3s 89ms/step - loss: 0.5451 - binary_accuracy: 0.7223 - precision: 0.6434 - recall: 0.4679 - val_loss: 0.7163 - val_binary_accuracy: 0.5699 - val_precision: 0.3716 - val_recall: 0.4533\n",
      "Epoch 5/10\n",
      "34/34 [==============================] - 3s 83ms/step - loss: 0.4173 - binary_accuracy: 0.8218 - precision: 0.7690 - recall: 0.7032 - val_loss: 0.9114 - val_binary_accuracy: 0.6092 - val_precision: 0.3957 - val_recall: 0.3667\n",
      "Epoch 6/10\n",
      "34/34 [==============================] - 3s 87ms/step - loss: 0.2399 - binary_accuracy: 0.9081 - precision: 0.8730 - recall: 0.8636 - val_loss: 1.1909 - val_binary_accuracy: 0.5852 - val_precision: 0.3810 - val_recall: 0.4267\n",
      "Epoch 7/10\n",
      "34/34 [==============================] - 3s 83ms/step - loss: 0.1388 - binary_accuracy: 0.9484 - precision: 0.9322 - recall: 0.9198 - val_loss: 1.5690 - val_binary_accuracy: 0.6157 - val_precision: 0.3952 - val_recall: 0.3267\n",
      "Epoch 8/10\n",
      "34/34 [==============================] - 3s 82ms/step - loss: 0.0678 - binary_accuracy: 0.9775 - precision: 0.9654 - recall: 0.9706 - val_loss: 1.7740 - val_binary_accuracy: 0.6048 - val_precision: 0.3885 - val_recall: 0.3600\n",
      "Epoch 9/10\n",
      "34/34 [==============================] - 3s 84ms/step - loss: 0.0537 - binary_accuracy: 0.9812 - precision: 0.9683 - recall: 0.9786 - val_loss: 1.6724 - val_binary_accuracy: 0.6114 - val_precision: 0.4091 - val_recall: 0.4200\n",
      "Epoch 10/10\n",
      "34/34 [==============================] - 3s 95ms/step - loss: 0.0324 - binary_accuracy: 0.9878 - precision: 0.9763 - recall: 0.9893 - val_loss: 2.0259 - val_binary_accuracy: 0.5852 - val_precision: 0.3876 - val_recall: 0.4600\n"
     ]
    }
   ],
   "source": [
    "epochs = 10\n",
    "\n",
    "# Fit the model using the train and test datasets.\n",
    "history = model.fit(X_train_pad,y_train,validation_data=(X_val_pad,y_val), epochs=epochs)"
   ]
  },
  {
   "cell_type": "code",
   "execution_count": 42,
   "metadata": {
    "execution": {
     "iopub.execute_input": "2021-06-19T02:47:01.211808Z",
     "iopub.status.busy": "2021-06-19T02:47:01.210718Z",
     "iopub.status.idle": "2021-06-19T02:47:01.363874Z",
     "shell.execute_reply": "2021-06-19T02:47:01.363271Z",
     "shell.execute_reply.started": "2021-06-19T01:49:02.771668Z"
    },
    "papermill": {
     "duration": 1.436526,
     "end_time": "2021-06-19T02:47:01.364029",
     "exception": false,
     "start_time": "2021-06-19T02:46:59.927503",
     "status": "completed"
    },
    "tags": []
   },
   "outputs": [
    {
     "name": "stdout",
     "output_type": "stream",
     "text": [
      "4/4 [==============================] - 0s 24ms/step - loss: 1.2360 - binary_accuracy: 0.6746 - precision: 0.2143 - recall: 0.5294\n",
      "{'loss': 1.2359651327133179, 'binary_accuracy': 0.6746031641960144, 'precision': 0.2142857164144516, 'recall': 0.529411792755127}\n"
     ]
    }
   ],
   "source": [
    "scores = model.evaluate(X_test_pad, y_test, return_dict=True)\n",
    "\n",
    "print(scores)"
   ]
  },
  {
   "cell_type": "code",
   "execution_count": 43,
   "metadata": {
    "execution": {
     "iopub.execute_input": "2021-06-19T02:47:03.984323Z",
     "iopub.status.busy": "2021-06-19T02:47:03.983176Z",
     "iopub.status.idle": "2021-06-19T02:47:04.111281Z",
     "shell.execute_reply": "2021-06-19T02:47:04.110691Z",
     "shell.execute_reply.started": "2021-06-19T01:49:02.949702Z"
    },
    "papermill": {
     "duration": 1.442428,
     "end_time": "2021-06-19T02:47:04.111492",
     "exception": false,
     "start_time": "2021-06-19T02:47:02.669064",
     "status": "completed"
    },
    "tags": []
   },
   "outputs": [],
   "source": [
    "y_pred = model.predict(X_test_pad)"
   ]
  },
  {
   "cell_type": "code",
   "execution_count": 44,
   "metadata": {
    "execution": {
     "iopub.execute_input": "2021-06-19T02:47:06.686187Z",
     "iopub.status.busy": "2021-06-19T02:47:06.685529Z",
     "iopub.status.idle": "2021-06-19T02:47:06.689382Z",
     "shell.execute_reply": "2021-06-19T02:47:06.688876Z",
     "shell.execute_reply.started": "2021-06-19T01:49:03.091779Z"
    },
    "papermill": {
     "duration": 1.291379,
     "end_time": "2021-06-19T02:47:06.689501",
     "exception": false,
     "start_time": "2021-06-19T02:47:05.398122",
     "status": "completed"
    },
    "tags": []
   },
   "outputs": [],
   "source": [
    "for i in range(len(y_pred)):\n",
    "    if(y_pred[i] > 0.5):\n",
    "        y_pred[i] = 1\n",
    "    else:\n",
    "        y_pred[i] =0 "
   ]
  },
  {
   "cell_type": "code",
   "execution_count": 45,
   "metadata": {
    "execution": {
     "iopub.execute_input": "2021-06-19T02:47:09.568072Z",
     "iopub.status.busy": "2021-06-19T02:47:09.566976Z",
     "iopub.status.idle": "2021-06-19T02:47:09.580059Z",
     "shell.execute_reply": "2021-06-19T02:47:09.580943Z",
     "shell.execute_reply.started": "2021-06-19T01:49:03.108355Z"
    },
    "papermill": {
     "duration": 1.31752,
     "end_time": "2021-06-19T02:47:09.581184",
     "exception": false,
     "start_time": "2021-06-19T02:47:08.263664",
     "status": "completed"
    },
    "tags": []
   },
   "outputs": [
    {
     "name": "stdout",
     "output_type": "stream",
     "text": [
      "              precision    recall  f1-score   support\n",
      "\n",
      "           0       0.90      0.70      0.79       109\n",
      "           1       0.21      0.53      0.31        17\n",
      "\n",
      "    accuracy                           0.67       126\n",
      "   macro avg       0.56      0.61      0.55       126\n",
      "weighted avg       0.81      0.67      0.72       126\n",
      "\n"
     ]
    }
   ],
   "source": [
    "print(classification_report(y_test,y_pred))"
   ]
  },
  {
   "cell_type": "code",
   "execution_count": 46,
   "metadata": {
    "execution": {
     "iopub.execute_input": "2021-06-19T02:47:12.729044Z",
     "iopub.status.busy": "2021-06-19T02:47:12.728052Z",
     "iopub.status.idle": "2021-06-19T02:47:13.130796Z",
     "shell.execute_reply": "2021-06-19T02:47:13.131308Z",
     "shell.execute_reply.started": "2021-06-19T01:49:03.127598Z"
    },
    "papermill": {
     "duration": 2.269104,
     "end_time": "2021-06-19T02:47:13.131501",
     "exception": false,
     "start_time": "2021-06-19T02:47:10.862397",
     "status": "completed"
    },
    "tags": []
   },
   "outputs": [
    {
     "data": {
      "image/png": "[encoded data removed]",
      "text/plain": [
       "<Figure size 432x288 with 2 Axes>"
      ]
     },
     "metadata": {
      "needs_background": "light"
     },
     "output_type": "display_data"
    }
   ],
   "source": [
    "plot_conf_matrix(y_test,y_pred)"
   ]
  },
  {
   "cell_type": "markdown",
   "metadata": {
    "papermill": {
     "duration": 1.311915,
     "end_time": "2021-06-19T02:47:15.758352",
     "exception": false,
     "start_time": "2021-06-19T02:47:14.446437",
     "status": "completed"
    },
    "tags": []
   },
   "source": [
    "### TASK C"
   ]
  },
  {
   "cell_type": "code",
   "execution_count": 47,
   "metadata": {
    "execution": {
     "iopub.execute_input": "2021-06-19T02:47:18.479557Z",
     "iopub.status.busy": "2021-06-19T02:47:18.478490Z",
     "iopub.status.idle": "2021-06-19T02:47:18.504214Z",
     "shell.execute_reply": "2021-06-19T02:47:18.505926Z",
     "shell.execute_reply.started": "2021-06-19T01:49:03.481886Z"
    },
    "papermill": {
     "duration": 1.463095,
     "end_time": "2021-06-19T02:47:18.506266",
     "exception": false,
     "start_time": "2021-06-19T02:47:17.043171",
     "status": "completed"
    },
    "tags": []
   },
   "outputs": [
    {
     "name": "stdout",
     "output_type": "stream",
     "text": [
      "(84, 3)\n"
     ]
    },
    {
     "data": {
      "text/html": [
       "<div>\n",
       "<style scoped>\n",
       "    .dataframe tbody tr th:only-of-type {\n",
       "        vertical-align: middle;\n",
       "    }\n",
       "\n",
       "    .dataframe tbody tr th {\n",
       "        vertical-align: top;\n",
       "    }\n",
       "\n",
       "    .dataframe thead th {\n",
       "        text-align: right;\n",
       "    }\n",
       "</style>\n",
       "<table border=\"1\" class=\"dataframe\">\n",
       "  <thead>\n",
       "    <tr style=\"text-align: right;\">\n",
       "      <th></th>\n",
       "      <th>tweet</th>\n",
       "      <th>class_b</th>\n",
       "      <th>predicted</th>\n",
       "    </tr>\n",
       "  </thead>\n",
       "  <tbody>\n",
       "    <tr>\n",
       "      <th>0</th>\n",
       "      <td>'whoisq wherestheserver dumpnike declasfisa de...</td>\n",
       "      <td>TIN</td>\n",
       "      <td>0.0</td>\n",
       "    </tr>\n",
       "    <tr>\n",
       "      <th>2</th>\n",
       "      <td>'what the fuck did he do this time'</td>\n",
       "      <td>TIN</td>\n",
       "      <td>0.0</td>\n",
       "    </tr>\n",
       "    <tr>\n",
       "      <th>3</th>\n",
       "      <td>'do you get the feeling he is kissing  behind ...</td>\n",
       "      <td>TIN</td>\n",
       "      <td>0.0</td>\n",
       "    </tr>\n",
       "    <tr>\n",
       "      <th>5</th>\n",
       "      <td>'stopkavanaugh he is liar like the rest of the...</td>\n",
       "      <td>TIN</td>\n",
       "      <td>0.0</td>\n",
       "    </tr>\n",
       "    <tr>\n",
       "      <th>8</th>\n",
       "      <td>'christineblaseyford is your kavanaugh accuser...</td>\n",
       "      <td>TIN</td>\n",
       "      <td>0.0</td>\n",
       "    </tr>\n",
       "  </tbody>\n",
       "</table>\n",
       "</div>"
      ],
      "text/plain": [
       "                                               tweet class_b  predicted\n",
       "0  'whoisq wherestheserver dumpnike declasfisa de...     TIN        0.0\n",
       "2                'what the fuck did he do this time'     TIN        0.0\n",
       "3  'do you get the feeling he is kissing  behind ...     TIN        0.0\n",
       "5  'stopkavanaugh he is liar like the rest of the...     TIN        0.0\n",
       "8  'christineblaseyford is your kavanaugh accuser...     TIN        0.0"
      ]
     },
     "execution_count": 47,
     "metadata": {},
     "output_type": "execute_result"
    }
   ],
   "source": [
    "# Our predicted TIN - Targeted Insult data\n",
    "df_pred = pd.DataFrame(data=y_pred,columns=[\"predicted\"])\n",
    "predicted_data = pd.concat([test_tweet_b, df_pred],axis=1)\n",
    "tin_data = predicted_data[predicted_data.predicted ==0]\n",
    "print(tin_data.shape)\n",
    "tin_data.head()"
   ]
  },
  {
   "cell_type": "code",
   "execution_count": 48,
   "metadata": {
    "execution": {
     "iopub.execute_input": "2021-06-19T02:47:21.249847Z",
     "iopub.status.busy": "2021-06-19T02:47:21.248517Z",
     "iopub.status.idle": "2021-06-19T02:47:21.267561Z",
     "shell.execute_reply": "2021-06-19T02:47:21.268342Z",
     "shell.execute_reply.started": "2021-06-19T01:49:03.508956Z"
    },
    "papermill": {
     "duration": 1.279067,
     "end_time": "2021-06-19T02:47:21.268500",
     "exception": false,
     "start_time": "2021-06-19T02:47:19.989433",
     "status": "completed"
    },
    "tags": []
   },
   "outputs": [
    {
     "name": "stdout",
     "output_type": "stream",
     "text": [
      "(78, 2)\n"
     ]
    },
    {
     "data": {
      "text/html": [
       "<div>\n",
       "<style scoped>\n",
       "    .dataframe tbody tr th:only-of-type {\n",
       "        vertical-align: middle;\n",
       "    }\n",
       "\n",
       "    .dataframe tbody tr th {\n",
       "        vertical-align: top;\n",
       "    }\n",
       "\n",
       "    .dataframe thead th {\n",
       "        text-align: right;\n",
       "    }\n",
       "</style>\n",
       "<table border=\"1\" class=\"dataframe\">\n",
       "  <thead>\n",
       "    <tr style=\"text-align: right;\">\n",
       "      <th></th>\n",
       "      <th>tweet</th>\n",
       "      <th>class_c</th>\n",
       "    </tr>\n",
       "  </thead>\n",
       "  <tbody>\n",
       "    <tr>\n",
       "      <th>0</th>\n",
       "      <td>'whoisq wherestheserver dumpnike declasfisa de...</td>\n",
       "      <td>OTH</td>\n",
       "    </tr>\n",
       "    <tr>\n",
       "      <th>1</th>\n",
       "      <td>'what the fuck did he do this time'</td>\n",
       "      <td>IND</td>\n",
       "    </tr>\n",
       "    <tr>\n",
       "      <th>2</th>\n",
       "      <td>'do you get the feeling he is kissing  behind ...</td>\n",
       "      <td>OTH</td>\n",
       "    </tr>\n",
       "    <tr>\n",
       "      <th>3</th>\n",
       "      <td>'stopkavanaugh he is liar like the rest of the...</td>\n",
       "      <td>IND</td>\n",
       "    </tr>\n",
       "    <tr>\n",
       "      <th>4</th>\n",
       "      <td>'christineblaseyford is your kavanaugh accuser...</td>\n",
       "      <td>IND</td>\n",
       "    </tr>\n",
       "  </tbody>\n",
       "</table>\n",
       "</div>"
      ],
      "text/plain": [
       "                                               tweet class_c\n",
       "0  'whoisq wherestheserver dumpnike declasfisa de...     OTH\n",
       "1                'what the fuck did he do this time'     IND\n",
       "2  'do you get the feeling he is kissing  behind ...     OTH\n",
       "3  'stopkavanaugh he is liar like the rest of the...     IND\n",
       "4  'christineblaseyford is your kavanaugh accuser...     IND"
      ]
     },
     "execution_count": 48,
     "metadata": {},
     "output_type": "execute_result"
    }
   ],
   "source": [
    "# prepare test data for task C\n",
    "test_c = tin_data.merge(test_tweet_c,on=\"tweet\")\n",
    "test_c = test_c[[\"tweet\",\"class_c\"]]\n",
    "print(test_c.shape)\n",
    "test_c.head()"
   ]
  },
  {
   "cell_type": "code",
   "execution_count": 49,
   "metadata": {
    "execution": {
     "iopub.execute_input": "2021-06-19T02:47:23.867230Z",
     "iopub.status.busy": "2021-06-19T02:47:23.866168Z",
     "iopub.status.idle": "2021-06-19T02:47:24.726228Z",
     "shell.execute_reply": "2021-06-19T02:47:24.727009Z",
     "shell.execute_reply.started": "2021-06-19T01:49:03.534912Z"
    },
    "papermill": {
     "duration": 2.146964,
     "end_time": "2021-06-19T02:47:24.727209",
     "exception": false,
     "start_time": "2021-06-19T02:47:22.580245",
     "status": "completed"
    },
    "tags": []
   },
   "outputs": [
    {
     "name": "stdout",
     "output_type": "stream",
     "text": [
      "Data shape without over and undersampling: (3876, 2)\n",
      "Data shape with undersampling (3500, 2)\n"
     ]
    },
    {
     "data": {
      "text/html": [
       "<div>\n",
       "<style scoped>\n",
       "    .dataframe tbody tr th:only-of-type {\n",
       "        vertical-align: middle;\n",
       "    }\n",
       "\n",
       "    .dataframe tbody tr th {\n",
       "        vertical-align: top;\n",
       "    }\n",
       "\n",
       "    .dataframe thead th {\n",
       "        text-align: right;\n",
       "    }\n",
       "</style>\n",
       "<table border=\"1\" class=\"dataframe\">\n",
       "  <thead>\n",
       "    <tr style=\"text-align: right;\">\n",
       "      <th></th>\n",
       "      <th>tweet</th>\n",
       "      <th>class_c</th>\n",
       "    </tr>\n",
       "  </thead>\n",
       "  <tbody>\n",
       "    <tr>\n",
       "      <th>7568</th>\n",
       "      <td>'you do realize how ridiculously radical all t...</td>\n",
       "      <td>IND</td>\n",
       "    </tr>\n",
       "    <tr>\n",
       "      <th>5251</th>\n",
       "      <td>'all that shit was hers'</td>\n",
       "      <td>IND</td>\n",
       "    </tr>\n",
       "    <tr>\n",
       "      <th>5748</th>\n",
       "      <td>'nasty a liberal sheepyou are prime example of...</td>\n",
       "      <td>IND</td>\n",
       "    </tr>\n",
       "    <tr>\n",
       "      <th>5296</th>\n",
       "      <td>'candiace she is trash'</td>\n",
       "      <td>IND</td>\n",
       "    </tr>\n",
       "    <tr>\n",
       "      <th>4095</th>\n",
       "      <td>'look at her moving and not one word of truth ...</td>\n",
       "      <td>IND</td>\n",
       "    </tr>\n",
       "  </tbody>\n",
       "</table>\n",
       "</div>"
      ],
      "text/plain": [
       "                                                  tweet class_c\n",
       "7568  'you do realize how ridiculously radical all t...     IND\n",
       "5251                           'all that shit was hers'     IND\n",
       "5748  'nasty a liberal sheepyou are prime example of...     IND\n",
       "5296                            'candiace she is trash'     IND\n",
       "4095  'look at her moving and not one word of truth ...     IND"
      ]
     },
     "execution_count": 49,
     "metadata": {},
     "output_type": "execute_result"
    }
   ],
   "source": [
    "# prepare train data for task C\n",
    "# dataframe task_b and task_c merged\n",
    "df_b_c = pd.concat([train_task_b_data,train_task_c_data],axis=1)\n",
    "df_b_c = df_b_c[df_b_c.class_b ==\"TIN\"]\n",
    "df_b_c = df_b_c[[\"tweet\",\"class_c\"]]\n",
    "df_b_c= df_b_c.T.drop_duplicates().T\n",
    "train_c = df_b_c.copy()\n",
    "print(\"Data shape without over and undersampling:\",train_c.shape)\n",
    "train_c.head()\n",
    "\n",
    "\n",
    "train_c_ind = train_c[train_c[\"class_c\"] == \"IND\"]\n",
    "train_c_oth = train_c[train_c[\"class_c\"] == \"OTH\"]\n",
    "train_c_grp = train_c[train_c[\"class_c\"] == \"GRP\"]\n",
    "train_c_ind = train_c_ind.sample(1500)\n",
    "train_c_oth = train_c_oth.sample(1000, replace=True)\n",
    "train_c_grp = train_c_grp.sample(1000)\n",
    "train_c_new = pd.concat([train_c_ind,train_c_oth,train_c_grp])\n",
    "print(\"Data shape with undersampling\",train_c_new.shape)\n",
    "train_c_new.head()"
   ]
  },
  {
   "cell_type": "code",
   "execution_count": 50,
   "metadata": {
    "execution": {
     "iopub.execute_input": "2021-06-19T02:47:27.301505Z",
     "iopub.status.busy": "2021-06-19T02:47:27.300368Z",
     "iopub.status.idle": "2021-06-19T02:47:27.426102Z",
     "shell.execute_reply": "2021-06-19T02:47:27.425501Z",
     "shell.execute_reply.started": "2021-06-19T01:49:04.401249Z"
    },
    "papermill": {
     "duration": 1.414027,
     "end_time": "2021-06-19T02:47:27.426261",
     "exception": false,
     "start_time": "2021-06-19T02:47:26.012234",
     "status": "completed"
    },
    "tags": []
   },
   "outputs": [
    {
     "data": {
      "image/png": "[encoded data removed]",
      "text/plain": [
       "<Figure size 432x288 with 1 Axes>"
      ]
     },
     "metadata": {
      "needs_background": "light"
     },
     "output_type": "display_data"
    }
   ],
   "source": [
    "# Plot the train data without over and undersapmling the classes\n",
    "\n",
    "count_classes(train_c,\"class_c\")"
   ]
  },
  {
   "cell_type": "code",
   "execution_count": 51,
   "metadata": {
    "execution": {
     "iopub.execute_input": "2021-06-19T02:47:30.341966Z",
     "iopub.status.busy": "2021-06-19T02:47:30.340226Z",
     "iopub.status.idle": "2021-06-19T02:47:30.484646Z",
     "shell.execute_reply": "2021-06-19T02:47:30.485256Z",
     "shell.execute_reply.started": "2021-06-19T01:49:04.546461Z"
    },
    "papermill": {
     "duration": 1.751614,
     "end_time": "2021-06-19T02:47:30.485411",
     "exception": false,
     "start_time": "2021-06-19T02:47:28.733797",
     "status": "completed"
    },
    "tags": []
   },
   "outputs": [
    {
     "data": {
      "image/png": "[encoded data removed]",
      "text/plain": [
       "<Figure size 432x288 with 1 Axes>"
      ]
     },
     "metadata": {
      "needs_background": "light"
     },
     "output_type": "display_data"
    }
   ],
   "source": [
    "# Plot the train data with over and undersapmling the classes\n",
    "\n",
    "count_classes(train_c_new,\"class_c\")"
   ]
  },
  {
   "cell_type": "code",
   "execution_count": 52,
   "metadata": {
    "execution": {
     "iopub.execute_input": "2021-06-19T02:47:33.117872Z",
     "iopub.status.busy": "2021-06-19T02:47:33.116805Z",
     "iopub.status.idle": "2021-06-19T02:47:33.245398Z",
     "shell.execute_reply": "2021-06-19T02:47:33.245969Z",
     "shell.execute_reply.started": "2021-06-19T01:49:04.705681Z"
    },
    "papermill": {
     "duration": 1.464761,
     "end_time": "2021-06-19T02:47:33.246142",
     "exception": false,
     "start_time": "2021-06-19T02:47:31.781381",
     "status": "completed"
    },
    "tags": []
   },
   "outputs": [
    {
     "data": {
      "image/png": "[encoded data removed]",
      "text/plain": [
       "<Figure size 432x288 with 1 Axes>"
      ]
     },
     "metadata": {
      "needs_background": "light"
     },
     "output_type": "display_data"
    }
   ],
   "source": [
    "# Plot test data \n",
    "count_classes(test_c,\"class_c\")"
   ]
  },
  {
   "cell_type": "code",
   "execution_count": 53,
   "metadata": {
    "execution": {
     "iopub.execute_input": "2021-06-19T02:47:35.816202Z",
     "iopub.status.busy": "2021-06-19T02:47:35.815076Z",
     "iopub.status.idle": "2021-06-19T02:47:35.819005Z",
     "shell.execute_reply": "2021-06-19T02:47:35.818494Z",
     "shell.execute_reply.started": "2021-06-19T01:49:05.047491Z"
    },
    "papermill": {
     "duration": 1.287293,
     "end_time": "2021-06-19T02:47:35.819153",
     "exception": false,
     "start_time": "2021-06-19T02:47:34.531860",
     "status": "completed"
    },
    "tags": []
   },
   "outputs": [],
   "source": [
    "#creating labelEncoder\n",
    "encoder = LabelEncoder()\n",
    "# Converting string labels into numbers.\n",
    "train_c[\"class_c_code\"] = encoder.fit_transform(train_c[\"class_c\"])\n",
    "train_c_new[\"class_c_code\"] = encoder.fit_transform(train_c_new[\"class_c\"])\n",
    "test_c[\"class_c_code\"] = encoder.fit_transform(test_c[\"class_c\"])"
   ]
  },
  {
   "cell_type": "code",
   "execution_count": 54,
   "metadata": {
    "execution": {
     "iopub.execute_input": "2021-06-19T02:47:38.404572Z",
     "iopub.status.busy": "2021-06-19T02:47:38.394996Z",
     "iopub.status.idle": "2021-06-19T02:47:38.440047Z",
     "shell.execute_reply": "2021-06-19T02:47:38.439384Z",
     "shell.execute_reply.started": "2021-06-19T01:49:05.060863Z"
    },
    "papermill": {
     "duration": 1.333595,
     "end_time": "2021-06-19T02:47:38.440231",
     "exception": false,
     "start_time": "2021-06-19T02:47:37.106636",
     "status": "completed"
    },
    "tags": []
   },
   "outputs": [
    {
     "data": {
      "text/plain": [
       "array([('IND', 1), ('OTH', 2), ('GRP', 0)], dtype=object)"
      ]
     },
     "execution_count": 54,
     "metadata": {},
     "output_type": "execute_result"
    }
   ],
   "source": [
    "#Create tuple pair for class and class code\n",
    "train_c['class-tuple'] = train_c[['class_c', 'class_c_code']].apply(tuple, axis=1)\n",
    "class_c = train_c['class-tuple'].unique()\n",
    "class_c"
   ]
  },
  {
   "cell_type": "code",
   "execution_count": 55,
   "metadata": {
    "execution": {
     "iopub.execute_input": "2021-06-19T02:47:41.325410Z",
     "iopub.status.busy": "2021-06-19T02:47:41.323473Z",
     "iopub.status.idle": "2021-06-19T02:47:41.330551Z",
     "shell.execute_reply": "2021-06-19T02:47:41.329934Z",
     "shell.execute_reply.started": "2021-06-19T01:50:09.23469Z"
    },
    "papermill": {
     "duration": 1.613549,
     "end_time": "2021-06-19T02:47:41.330696",
     "exception": false,
     "start_time": "2021-06-19T02:47:39.717147",
     "status": "completed"
    },
    "tags": []
   },
   "outputs": [
    {
     "name": "stdout",
     "output_type": "stream",
     "text": [
      "Shape of X_train is (2450,) and shape of y_train is (2450,)\n",
      "Shape of X_test is (1050,) and shape of y_test is (1050,)\n",
      "Shape of test_tweets is (78,) and shape of test_labels is (78,)\n"
     ]
    }
   ],
   "source": [
    "# Set the labels and train-test split\n",
    "\n",
    "train_tweets = train_c_new['tweet']\n",
    "train_labels = train_c_new['class_c_code']\n",
    "\n",
    "X_test = test_c['tweet']\n",
    "y_test = test_c['class_c_code']\n",
    "\n",
    "X_train,X_val,y_train,y_val = train_test_split(train_tweets,train_labels,test_size=0.30,random_state=42)\n",
    "\n",
    "print(\"Shape of X_train is {} and shape of y_train is {}\".format(X_train.shape, y_train.shape))\n",
    "print(\"Shape of X_test is {} and shape of y_test is {}\".format(X_val.shape, y_val.shape))\n",
    "\n",
    "print(\"Shape of test_tweets is {} and shape of test_labels is {}\".format(X_test.shape, y_test.shape))"
   ]
  },
  {
   "cell_type": "code",
   "execution_count": 56,
   "metadata": {
    "execution": {
     "iopub.execute_input": "2021-06-19T02:47:43.935500Z",
     "iopub.status.busy": "2021-06-19T02:47:43.930569Z",
     "iopub.status.idle": "2021-06-19T02:47:43.999811Z",
     "shell.execute_reply": "2021-06-19T02:47:44.000944Z",
     "shell.execute_reply.started": "2021-06-19T01:50:09.677346Z"
    },
    "papermill": {
     "duration": 1.374871,
     "end_time": "2021-06-19T02:47:44.001169",
     "exception": false,
     "start_time": "2021-06-19T02:47:42.626298",
     "status": "completed"
    },
    "tags": []
   },
   "outputs": [
    {
     "name": "stdout",
     "output_type": "stream",
     "text": [
      "train data tensor: (2450, 500)\n"
     ]
    }
   ],
   "source": [
    "# TRAIN\n",
    "X_train_seq = tokenizer.texts_to_sequences(X_train.values)\n",
    "X_train_pad = pad_sequences(X_train_seq, maxlen=max_len)\n",
    "\n",
    "print(\"train data tensor:\" ,X_train_pad.shape)"
   ]
  },
  {
   "cell_type": "code",
   "execution_count": 57,
   "metadata": {
    "execution": {
     "iopub.execute_input": "2021-06-19T02:47:47.288691Z",
     "iopub.status.busy": "2021-06-19T02:47:47.283635Z",
     "iopub.status.idle": "2021-06-19T02:47:47.308835Z",
     "shell.execute_reply": "2021-06-19T02:47:47.308286Z",
     "shell.execute_reply.started": "2021-06-19T01:50:10.110277Z"
    },
    "papermill": {
     "duration": 1.994148,
     "end_time": "2021-06-19T02:47:47.308986",
     "exception": false,
     "start_time": "2021-06-19T02:47:45.314838",
     "status": "completed"
    },
    "tags": []
   },
   "outputs": [
    {
     "name": "stdout",
     "output_type": "stream",
     "text": [
      "test data tensor: (1050, 500)\n"
     ]
    }
   ],
   "source": [
    "# VAL\n",
    "X_val_seq = tokenizer.texts_to_sequences(X_val.values)\n",
    "X_val_pad = pad_sequences(X_val_seq, maxlen=max_len)\n",
    "\n",
    "print(\"test data tensor:\" ,X_val_pad.shape)"
   ]
  },
  {
   "cell_type": "code",
   "execution_count": 58,
   "metadata": {
    "execution": {
     "iopub.execute_input": "2021-06-19T02:47:49.945799Z",
     "iopub.status.busy": "2021-06-19T02:47:49.945008Z",
     "iopub.status.idle": "2021-06-19T02:47:49.949781Z",
     "shell.execute_reply": "2021-06-19T02:47:49.950485Z",
     "shell.execute_reply.started": "2021-06-19T01:50:10.450081Z"
    },
    "papermill": {
     "duration": 1.320524,
     "end_time": "2021-06-19T02:47:49.950722",
     "exception": false,
     "start_time": "2021-06-19T02:47:48.630198",
     "status": "completed"
    },
    "tags": []
   },
   "outputs": [
    {
     "name": "stdout",
     "output_type": "stream",
     "text": [
      "test data tensor: (78, 500)\n"
     ]
    }
   ],
   "source": [
    "# TEST\n",
    "X_test_seq = tokenizer.texts_to_sequences(X_test.values)\n",
    "X_test_pad = pad_sequences(X_test_seq, maxlen=max_len)\n",
    "\n",
    "print(\"test data tensor:\" ,X_test_pad.shape)"
   ]
  },
  {
   "cell_type": "code",
   "execution_count": 59,
   "metadata": {
    "execution": {
     "iopub.execute_input": "2021-06-19T02:47:52.992856Z",
     "iopub.status.busy": "2021-06-19T02:47:52.991765Z",
     "iopub.status.idle": "2021-06-19T02:47:53.015057Z",
     "shell.execute_reply": "2021-06-19T02:47:53.014534Z",
     "shell.execute_reply.started": "2021-06-19T01:50:11.062375Z"
    },
    "papermill": {
     "duration": 1.656726,
     "end_time": "2021-06-19T02:47:53.015199",
     "exception": false,
     "start_time": "2021-06-19T02:47:51.358473",
     "status": "completed"
    },
    "tags": []
   },
   "outputs": [],
   "source": [
    "METRICS = [tf.keras.metrics.BinaryAccuracy(),\n",
    "        tf.keras.metrics.Precision(name=\"precision\"),\n",
    "        tf.keras.metrics.Recall(name=\"recall\")]\n",
    "\n",
    "\n",
    "model.compile(loss='categorical_crossentropy',optimizer='adam',metrics=METRICS)"
   ]
  },
  {
   "cell_type": "code",
   "execution_count": 60,
   "metadata": {
    "execution": {
     "iopub.execute_input": "2021-06-19T02:47:55.612228Z",
     "iopub.status.busy": "2021-06-19T02:47:55.611115Z",
     "iopub.status.idle": "2021-06-19T02:49:04.184794Z",
     "shell.execute_reply": "2021-06-19T02:49:04.185704Z",
     "shell.execute_reply.started": "2021-06-19T01:50:11.525561Z"
    },
    "papermill": {
     "duration": 69.902805,
     "end_time": "2021-06-19T02:49:04.185911",
     "exception": false,
     "start_time": "2021-06-19T02:47:54.283106",
     "status": "completed"
    },
    "tags": []
   },
   "outputs": [
    {
     "name": "stdout",
     "output_type": "stream",
     "text": [
      "Epoch 1/10\n",
      "77/77 [==============================] - 11s 95ms/step - loss: 0.0000e+00 - binary_accuracy: 0.3567 - precision: 0.7674 - recall: 0.2824 - val_loss: 0.0000e+00 - val_binary_accuracy: 0.3771 - val_precision: 0.8028 - val_recall: 0.4512\n",
      "Epoch 2/10\n",
      "77/77 [==============================] - 6s 80ms/step - loss: 0.0000e+00 - binary_accuracy: 0.3973 - precision: 0.8262 - recall: 0.5624 - val_loss: 0.0000e+00 - val_binary_accuracy: 0.4524 - val_precision: 0.7219 - val_recall: 1.0000\n",
      "Epoch 3/10\n",
      "77/77 [==============================] - 7s 87ms/step - loss: 0.0000e+00 - binary_accuracy: 0.4122 - precision: 0.7011 - recall: 1.0000 - val_loss: 0.0000e+00 - val_binary_accuracy: 0.4524 - val_precision: 0.7219 - val_recall: 1.0000\n",
      "Epoch 4/10\n",
      "77/77 [==============================] - 6s 82ms/step - loss: 0.0000e+00 - binary_accuracy: 0.4220 - precision: 0.7099 - recall: 1.0000 - val_loss: 0.0000e+00 - val_binary_accuracy: 0.4524 - val_precision: 0.7219 - val_recall: 1.0000\n",
      "Epoch 5/10\n",
      "77/77 [==============================] - 7s 85ms/step - loss: 0.0000e+00 - binary_accuracy: 0.4044 - precision: 0.7145 - recall: 1.0000 - val_loss: 0.0000e+00 - val_binary_accuracy: 0.4524 - val_precision: 0.7219 - val_recall: 1.0000\n",
      "Epoch 6/10\n",
      "77/77 [==============================] - 6s 82ms/step - loss: 0.0000e+00 - binary_accuracy: 0.4145 - precision: 0.7141 - recall: 1.0000 - val_loss: 0.0000e+00 - val_binary_accuracy: 0.4524 - val_precision: 0.7219 - val_recall: 1.0000\n",
      "Epoch 7/10\n",
      "77/77 [==============================] - 6s 79ms/step - loss: 0.0000e+00 - binary_accuracy: 0.4298 - precision: 0.7262 - recall: 0.9781 - val_loss: 0.0000e+00 - val_binary_accuracy: 0.4514 - val_precision: 0.7527 - val_recall: 0.9077\n",
      "Epoch 8/10\n",
      "77/77 [==============================] - 6s 84ms/step - loss: 0.0000e+00 - binary_accuracy: 0.5141 - precision: 0.8674 - recall: 0.8329 - val_loss: 0.0000e+00 - val_binary_accuracy: 0.4219 - val_precision: 0.7798 - val_recall: 0.7757\n",
      "Epoch 9/10\n",
      "77/77 [==============================] - 6s 82ms/step - loss: 0.0000e+00 - binary_accuracy: 0.4539 - precision: 0.9383 - recall: 0.6845 - val_loss: 0.0000e+00 - val_binary_accuracy: 0.4343 - val_precision: 0.7436 - val_recall: 0.8879\n",
      "Epoch 10/10\n",
      "77/77 [==============================] - 7s 85ms/step - loss: 0.0000e+00 - binary_accuracy: 0.4735 - precision: 0.8378 - recall: 0.8310 - val_loss: 0.0000e+00 - val_binary_accuracy: 0.3829 - val_precision: 0.7668 - val_recall: 0.7071\n"
     ]
    }
   ],
   "source": [
    "epochs = 10\n",
    "\n",
    "# Fit the model using the train and test datasets.\n",
    "history = model.fit(X_train_pad,y_train,validation_data=(X_val_pad,y_val), epochs=epochs)"
   ]
  },
  {
   "cell_type": "code",
   "execution_count": 61,
   "metadata": {
    "execution": {
     "iopub.execute_input": "2021-06-19T02:49:07.276209Z",
     "iopub.status.busy": "2021-06-19T02:49:07.275187Z",
     "iopub.status.idle": "2021-06-19T02:49:07.425778Z",
     "shell.execute_reply": "2021-06-19T02:49:07.425177Z",
     "shell.execute_reply.started": "2021-06-19T01:51:18.405639Z"
    },
    "papermill": {
     "duration": 1.708954,
     "end_time": "2021-06-19T02:49:07.425952",
     "exception": false,
     "start_time": "2021-06-19T02:49:05.716998",
     "status": "completed"
    },
    "tags": []
   },
   "outputs": [
    {
     "name": "stdout",
     "output_type": "stream",
     "text": [
      "3/3 [==============================] - 0s 30ms/step - loss: 0.0000e+00 - binary_accuracy: 0.2692 - precision: 0.5116 - recall: 0.4314\n",
      "{'loss': 0.0, 'binary_accuracy': 0.26923078298568726, 'precision': 0.5116279125213623, 'recall': 0.4313725531101227}\n"
     ]
    }
   ],
   "source": [
    "scores = model.evaluate(X_test_pad, y_test, return_dict=True)\n",
    "\n",
    "print(scores)"
   ]
  },
  {
   "cell_type": "code",
   "execution_count": 62,
   "metadata": {
    "execution": {
     "iopub.execute_input": "2021-06-19T02:49:10.900473Z",
     "iopub.status.busy": "2021-06-19T02:49:10.899353Z",
     "iopub.status.idle": "2021-06-19T02:49:11.720822Z",
     "shell.execute_reply": "2021-06-19T02:49:11.721689Z",
     "shell.execute_reply.started": "2021-06-19T02:10:10.546614Z"
    },
    "papermill": {
     "duration": 2.39593,
     "end_time": "2021-06-19T02:49:11.721923",
     "exception": false,
     "start_time": "2021-06-19T02:49:09.325993",
     "status": "completed"
    },
    "tags": []
   },
   "outputs": [],
   "source": [
    "y_pred = model.predict(X_test_pad)"
   ]
  },
  {
   "cell_type": "code",
   "execution_count": 63,
   "metadata": {
    "execution": {
     "iopub.execute_input": "2021-06-19T02:49:14.876827Z",
     "iopub.status.busy": "2021-06-19T02:49:14.875769Z",
     "iopub.status.idle": "2021-06-19T02:49:14.879256Z",
     "shell.execute_reply": "2021-06-19T02:49:14.878713Z",
     "shell.execute_reply.started": "2021-06-19T02:17:21.142537Z"
    },
    "papermill": {
     "duration": 1.583641,
     "end_time": "2021-06-19T02:49:14.879394",
     "exception": false,
     "start_time": "2021-06-19T02:49:13.295753",
     "status": "completed"
    },
    "tags": []
   },
   "outputs": [],
   "source": [
    "y_pred = y_pred.astype(\"int64\")"
   ]
  },
  {
   "cell_type": "code",
   "execution_count": 64,
   "metadata": {
    "execution": {
     "iopub.execute_input": "2021-06-19T02:49:18.065295Z",
     "iopub.status.busy": "2021-06-19T02:49:18.063926Z",
     "iopub.status.idle": "2021-06-19T02:49:18.393018Z",
     "shell.execute_reply": "2021-06-19T02:49:18.393581Z",
     "shell.execute_reply.started": "2021-06-19T02:17:24.230146Z"
    },
    "papermill": {
     "duration": 1.950508,
     "end_time": "2021-06-19T02:49:18.393891",
     "exception": false,
     "start_time": "2021-06-19T02:49:16.443383",
     "status": "completed"
    },
    "tags": []
   },
   "outputs": [
    {
     "data": {
      "image/png": "[encoded data removed]",
      "text/plain": [
       "<Figure size 432x288 with 2 Axes>"
      ]
     },
     "metadata": {
      "needs_background": "light"
     },
     "output_type": "display_data"
    }
   ],
   "source": [
    "plot_conf_matrix(y_test,y_pred)"
   ]
  },
  {
   "cell_type": "code",
   "execution_count": 65,
   "metadata": {
    "execution": {
     "iopub.execute_input": "2021-06-19T02:49:21.860911Z",
     "iopub.status.busy": "2021-06-19T02:49:21.859196Z",
     "iopub.status.idle": "2021-06-19T02:49:21.869977Z",
     "shell.execute_reply": "2021-06-19T02:49:21.869437Z",
     "shell.execute_reply.started": "2021-06-19T02:17:27.648208Z"
    },
    "papermill": {
     "duration": 1.590139,
     "end_time": "2021-06-19T02:49:21.870113",
     "exception": false,
     "start_time": "2021-06-19T02:49:20.279974",
     "status": "completed"
    },
    "tags": []
   },
   "outputs": [
    {
     "name": "stdout",
     "output_type": "stream",
     "text": [
      "              precision    recall  f1-score   support\n",
      "\n",
      "           0       0.19      0.26      0.22        27\n",
      "           1       0.36      0.38      0.37        39\n",
      "           2       0.00      0.00      0.00        12\n",
      "\n",
      "    accuracy                           0.28        78\n",
      "   macro avg       0.18      0.21      0.20        78\n",
      "weighted avg       0.25      0.28      0.26        78\n",
      "\n"
     ]
    }
   ],
   "source": [
    "print(classification_report(y_test,y_pred))"
   ]
  },
  {
   "cell_type": "code",
   "execution_count": null,
   "metadata": {
    "papermill": {
     "duration": 2.18068,
     "end_time": "2021-06-19T02:49:25.649815",
     "exception": false,
     "start_time": "2021-06-19T02:49:23.469135",
     "status": "completed"
    },
    "tags": []
   },
   "outputs": [],
   "source": []
  }
 ],
 "metadata": {
  "kernelspec": {
   "display_name": "Python 3",
   "language": "python",
   "name": "python3"
  },
  "language_info": {
   "codemirror_mode": {
    "name": "ipython",
    "version": 3
   },
   "file_extension": ".py",
   "mimetype": "text/x-python",
   "name": "python",
   "nbconvert_exporter": "python",
   "pygments_lexer": "ipython3",
   "version": "3.8.5"
  },
  "papermill": {
   "default_parameters": {},
   "duration": 515.28709,
   "end_time": "2021-06-19T02:49:29.916022",
   "environment_variables": {},
   "exception": null,
   "input_path": "__notebook__.ipynb",
   "output_path": "__notebook__.ipynb",
   "parameters": {},
   "start_time": "2021-06-19T02:40:54.628932",
   "version": "2.3.3"
  }
 },
 "nbformat": 4,
 "nbformat_minor": 5
}
